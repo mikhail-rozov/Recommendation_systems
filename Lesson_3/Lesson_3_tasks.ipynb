{
 "cells": [
  {
   "cell_type": "markdown",
   "id": "43a5ce84-6810-4945-ac13-93cd77681f3a",
   "metadata": {
    "id": "89mFQmjdo1gZ"
   },
   "source": [
    "## Практическое задание к уроку № 3 по теме \"Коллаборативная фильтрация.\""
   ]
  },
  {
   "cell_type": "markdown",
   "id": "310c8fda-df91-4817-8000-07e3c57fcb42",
   "metadata": {},
   "source": [
    "## **Задание 1.**"
   ]
  },
  {
   "cell_type": "markdown",
   "id": "f3209ec9-6b40-40ce-9f86-83d5524b113c",
   "metadata": {
    "id": "IgTrX7hAIHy2"
   },
   "source": [
    "# Production"
   ]
  },
  {
   "cell_type": "markdown",
   "id": "71f3009a-5197-460f-8efb-caa386f08944",
   "metadata": {
    "id": "_BlVIuo8IHy2"
   },
   "source": [
    "Начиная с этого вебинара, мы будем строить *базовое решение* для системы рекомендаций топ-N товаров. В финальном проекте вам нужно будет его существенно улучшить.  \n",
    "  \n",
    "**Ситуация**: Вы работает data scientist в крупном продуктовом российском ритейлере. Ваш конкурент сделал рекомендательную систему, и его продажи выросли. Ваш менеджмент тоже хочет увеличить продажи   \n",
    "**Задача со слов менеджера**: Сделайте рекомендательную систему топ-10 товаров для рассылки по e-mail"
   ]
  },
  {
   "cell_type": "markdown",
   "id": "c6a4e6da-a746-47ba-a0a3-2e0c5db767bf",
   "metadata": {
    "id": "0O0XT3Y5IHy2"
   },
   "source": [
    "**Ожидание:**\n",
    "- Отправляем e-mail с топ-10 товарами, отсортированными по вероятности\n",
    "\n",
    "**Реальность:**\n",
    "- Чего хочет менеджер от рекомендательной системы? (рост показателя X на Y% за Z недель)\n",
    "- По-хорошему надо бы предварительно посчитать потенциальный эффект от рекоммендательной системы (Оценки эффектов у менеджера и у вас могут сильно не совпадать: как правило, вы знаете про данные больше)\n",
    "- А у нас вообще есть e-mail-ы пользователей? Для скольки %? Не устарели ли они?\n",
    "- Будем ли использовать СМС и push-уведомления в приложении? Может, будем печатать рекомендации на чеке после оплаты на кассе?\n",
    "- Как будет выглядеть e-mail? (решаем задачу топ-10 рекомендаций или ранжирования? И топ-10 ли?)\n",
    "- Какие товары должны быть в e-mail? Есть ли какие-то ограничения (только акции и т п)?\n",
    "- Сколько денег мы готовы потратить на привлечение 1 юзера? CAC - Customer Aquisition Cost. Обычно CAC = расходы на коммуникацию + расходы на скидки\n",
    "- Cколько мы хотим зарабатывать с одного привлеченного юзера?\n",
    "---\n",
    "### А точно нужно сортировать по вероятности?  \n",
    "Сортировать нужно по вероятности, но учитывая разделение по группам.  \n",
    "Например, предлагать разные товары либо по категориям товаров, либо по  \n",
    "цене, или ещё как-то. При этом из каждой группы будем брать товар с наибольшей  \n",
    "вероятностью.\n",
    "### Какую метрику использовать?  \n",
    "Для оценки модели можно использовать три метрики вместе:  \n",
    "1: Precision@k для оценки качества рекомендаций,  \n",
    "насколько они актуальны для пользователей;  \n",
    "2: MAP@k для оценки правильности порядка, в котором  \n",
    "рекомендации выдаются;  \n",
    "3: Money precision@k для расчёта финансового эффекта  \n",
    "от рекомендаций.  \n",
    "### Сколько раз в неделю отправляем рассылку?  \n",
    "Пуш-уведомление с одной самой топовой рекомендацией можно отправлять  \n",
    "каждый день. Например, новая скидка на товар, который пользователь покупает.  \n",
    "Либо новое поступление похожего товара.  \n",
    "На электронную почту будем отправлять раз в неделю. Там будет больше  \n",
    "рекомендаций, ну и будем стараться не надоедать спамом.\n",
    "### В какое время отправляем рассылку?  \n",
    "Пуш-уведомление лучше отправлять утром, если у нас нет данных по конкретным  \n",
    "клиентам: работает он или пенсионер. Утром ещё не успеют сходить в магазин те,  \n",
    "кто не работает. Кто на работе, тот может построить план зайти в магазин после  \n",
    "работы за нашим товаром. Также может позвонить своим неработающим родственникам,  \n",
    "чтобы они зашли и купили. Лучшее время - 10:00.  \n",
    "На электронную почту лучше отправлять вечером в четверг. Тогда люди к пятнице  \n",
    "уже должны будут увидеть письмо и скорректировать свои покупки в выходные.  \n",
    "### Будем отправлять одному юзеру много раз наши рекоммендации. Как добиться того, чтобы они хоть немного отличались?  \n",
    "Можно ставить фильтр на те товары, которые пользователь уже купил. Также,  \n",
    "если человек не покупает товары из наших рекомендаций, то модель постепенно  \n",
    "подстроится и перестанет их рекомендовать. Веса в таблице user_item будут  \n",
    "меняться в зависимости от актуальных скидок. Если применяем взвешивание, то  \n",
    "веса будут меняться в зависимости от покупок других людей. Если используем  \n",
    "модель ALS, то можно периодически её переобучать с разным random_state.  \n",
    "### Нужно ли, чтобы в одной рассылке были *разные* товары? Как определить, что товары *разные*? Как добиться того, чтобы они были разными?  \n",
    "Да, чтобы не было взаимоисключающих рекомендаций. Например, две разных марки  \n",
    "молока - пользователь всё равно выберет что-то одно. Либо один и тот же товар,  \n",
    "но в пачках разного объёма - нет смысла предлагать две одинаковых сметаны,  \n",
    "одна 200гр., другая - 500гр. Для этого нужна разбивка товаров по категориям.  \n",
    "Далее можно настроить фильтрацию при выдаче рекомендаций, чтобы для каждой  \n",
    "категории товаров выдавалось не более одной рекомендации. Определить различие  \n",
    "товаров можно, например, посчитав их взаимное косинусное сходство. Также можно  \n",
    "воспользоваться методом similar_items модели ALS, и взять оттуда непохожие друг на друга.  "
   ]
  },
  {
   "cell_type": "markdown",
   "id": "ab476177-c494-4297-8a89-a0729df2a3f0",
   "metadata": {
    "id": "QQN2KT7JIHy2"
   },
   "source": [
    "**В итоге договорились, что:**\n",
    "- Хотим повысить выручку минимум на 6% за 4 месяца. Будем повышать за счет роста Retention минимум на  3% и среднего чека минимум на 3%\n",
    "- Топ-5 товаров, а не топ-10 (В e-mail 10 выглядят не красиво, в push и на чек больше 5 не влезает)\n",
    "- Рассылаем в e-mail (5% клиентов) и push-уведомлении (20% клиентов), печатаем на чеке (все оффлайн клиенты)\n",
    "### 3 товара с акцией(Как это учесть? А если на товар была акция 10%, а потом 50%, что будет стоять в user-item матрице?)  \n",
    "Нужно повышать вес в user-item матрице. Например, при скидке 10% все веса для этого товара  \n",
    "перед обучением модели умножаются на 1.1. При скидке 50% - на 1.5. Для удобства, в исходную   \n",
    "матрицу нужно добавить столбик с величиной скидки для каждого товара (1 - нет скидки), а  \n",
    "агрегатная функция, по которой мы будем создавать user-item матрицу, будет умножать вес на  \n",
    "эту скидку для всех товаров. Также нужно будет создать категорию для акционных товаров  \n",
    "дополнительно к обычной категории и фильтровать рекомендации модели на выдачу 3 акционных  \n",
    "товаров.  \n",
    "### 1 новый товар (юзер никогда не покупал. Просто фильтруем аутпут ALS? А если у таких товаров очень маленькая вероятность покупки? Может, использовать другую логику/модель?)  \n",
    "На мой взгляд, идея фильтра на уже покупавшиеся товары хорошая. Если модель  \n",
    "сделала такую рекомендацию, значит товар более-менее интересен пользователю.  \n",
    "Низкая вероятность покупки может быть связана только со стоимостью. В этом  \n",
    "случае можно не предлагать дорогие товары.  \n",
    "### 1 товар для роста среднего чека (товары минимум дороже чем обычно покупает юзер. Как это измерить? На сколько дороже?)  \n",
    "Одна из рекомендаций должна заменяться на похожий товар из этой же категории, но  \n",
    "имеющий более высокую цену. Например, на 10% более высокую. Если такого товара  \n",
    "нет, то взять другую рекомендацию и посмотреть по ней."
   ]
  },
  {
   "cell_type": "markdown",
   "id": "270bd4e9-29d7-4579-a734-4374ef0b4071",
   "metadata": {},
   "source": [
    "## **Задание 2.**"
   ]
  },
  {
   "cell_type": "markdown",
   "id": "f03d7538-0775-4dc9-8826-e01f989554ba",
   "metadata": {},
   "source": [
    "Поэкспериментировать с ALS (grid-search)  \n",
    "Подобрать лучшие параметры  \n",
    "Написать отчет об увиденном  "
   ]
  },
  {
   "cell_type": "markdown",
   "id": "8e3ed133-47c0-40c8-9ece-674f40292440",
   "metadata": {},
   "source": [
    "### 2.1 Исходные данные"
   ]
  },
  {
   "cell_type": "markdown",
   "id": "a7d7715e-7b59-474e-beaa-8e81ce6ebc8a",
   "metadata": {},
   "source": [
    "Скопируем код с урока:"
   ]
  },
  {
   "cell_type": "code",
   "execution_count": 1,
   "id": "fcc7dbbe-fd3b-4c87-a1ef-04cdf5b9fa00",
   "metadata": {},
   "outputs": [],
   "source": [
    "import pandas as pd\n",
    "import numpy as np\n",
    "import matplotlib.pyplot as plt\n",
    "%matplotlib inline\n",
    "\n",
    "# Для работы с матрицами\n",
    "from scipy.sparse import csr_matrix\n",
    "\n",
    "# Матричная факторизация\n",
    "from implicit.als import AlternatingLeastSquares\n",
    "from implicit.nearest_neighbours import bm25_weight, tfidf_weight\n",
    "\n",
    "# Функции из 1-ого вебинара\n",
    "import os, sys\n",
    "\n",
    "module_path = os.path.abspath(os.path.join(os.pardir))\n",
    "if module_path not in sys.path:\n",
    "    sys.path.append(module_path)\n",
    "    \n",
    "from metrics import precision_at_k, recall_at_k"
   ]
  },
  {
   "cell_type": "code",
   "execution_count": 2,
   "id": "a4cd6338-edba-4fd3-a2dc-565c1191fc6b",
   "metadata": {
    "id": "2IhaU8JDIHyi",
    "outputId": "a3a22636-04a2-4ad4-9774-e0c5cbcd6a09"
   },
   "outputs": [
    {
     "data": {
      "text/html": [
       "<div>\n",
       "<style scoped>\n",
       "    .dataframe tbody tr th:only-of-type {\n",
       "        vertical-align: middle;\n",
       "    }\n",
       "\n",
       "    .dataframe tbody tr th {\n",
       "        vertical-align: top;\n",
       "    }\n",
       "\n",
       "    .dataframe thead th {\n",
       "        text-align: right;\n",
       "    }\n",
       "</style>\n",
       "<table border=\"1\" class=\"dataframe\">\n",
       "  <thead>\n",
       "    <tr style=\"text-align: right;\">\n",
       "      <th></th>\n",
       "      <th>user_id</th>\n",
       "      <th>basket_id</th>\n",
       "      <th>day</th>\n",
       "      <th>item_id</th>\n",
       "      <th>quantity</th>\n",
       "      <th>sales_value</th>\n",
       "      <th>store_id</th>\n",
       "      <th>retail_disc</th>\n",
       "      <th>trans_time</th>\n",
       "      <th>week_no</th>\n",
       "      <th>coupon_disc</th>\n",
       "      <th>coupon_match_disc</th>\n",
       "    </tr>\n",
       "  </thead>\n",
       "  <tbody>\n",
       "    <tr>\n",
       "      <th>0</th>\n",
       "      <td>2375</td>\n",
       "      <td>26984851472</td>\n",
       "      <td>1</td>\n",
       "      <td>1004906</td>\n",
       "      <td>1</td>\n",
       "      <td>1.39</td>\n",
       "      <td>364</td>\n",
       "      <td>-0.60</td>\n",
       "      <td>1631</td>\n",
       "      <td>1</td>\n",
       "      <td>0.0</td>\n",
       "      <td>0.0</td>\n",
       "    </tr>\n",
       "    <tr>\n",
       "      <th>1</th>\n",
       "      <td>2375</td>\n",
       "      <td>26984851472</td>\n",
       "      <td>1</td>\n",
       "      <td>1033142</td>\n",
       "      <td>1</td>\n",
       "      <td>0.82</td>\n",
       "      <td>364</td>\n",
       "      <td>0.00</td>\n",
       "      <td>1631</td>\n",
       "      <td>1</td>\n",
       "      <td>0.0</td>\n",
       "      <td>0.0</td>\n",
       "    </tr>\n",
       "    <tr>\n",
       "      <th>2</th>\n",
       "      <td>2375</td>\n",
       "      <td>26984851472</td>\n",
       "      <td>1</td>\n",
       "      <td>1036325</td>\n",
       "      <td>1</td>\n",
       "      <td>0.99</td>\n",
       "      <td>364</td>\n",
       "      <td>-0.30</td>\n",
       "      <td>1631</td>\n",
       "      <td>1</td>\n",
       "      <td>0.0</td>\n",
       "      <td>0.0</td>\n",
       "    </tr>\n",
       "    <tr>\n",
       "      <th>3</th>\n",
       "      <td>2375</td>\n",
       "      <td>26984851472</td>\n",
       "      <td>1</td>\n",
       "      <td>1082185</td>\n",
       "      <td>1</td>\n",
       "      <td>1.21</td>\n",
       "      <td>364</td>\n",
       "      <td>0.00</td>\n",
       "      <td>1631</td>\n",
       "      <td>1</td>\n",
       "      <td>0.0</td>\n",
       "      <td>0.0</td>\n",
       "    </tr>\n",
       "    <tr>\n",
       "      <th>4</th>\n",
       "      <td>2375</td>\n",
       "      <td>26984851472</td>\n",
       "      <td>1</td>\n",
       "      <td>8160430</td>\n",
       "      <td>1</td>\n",
       "      <td>1.50</td>\n",
       "      <td>364</td>\n",
       "      <td>-0.39</td>\n",
       "      <td>1631</td>\n",
       "      <td>1</td>\n",
       "      <td>0.0</td>\n",
       "      <td>0.0</td>\n",
       "    </tr>\n",
       "  </tbody>\n",
       "</table>\n",
       "</div>"
      ],
      "text/plain": [
       "   user_id    basket_id  day  item_id  quantity  sales_value  store_id  \\\n",
       "0     2375  26984851472    1  1004906         1         1.39       364   \n",
       "1     2375  26984851472    1  1033142         1         0.82       364   \n",
       "2     2375  26984851472    1  1036325         1         0.99       364   \n",
       "3     2375  26984851472    1  1082185         1         1.21       364   \n",
       "4     2375  26984851472    1  8160430         1         1.50       364   \n",
       "\n",
       "   retail_disc  trans_time  week_no  coupon_disc  coupon_match_disc  \n",
       "0        -0.60        1631        1          0.0                0.0  \n",
       "1         0.00        1631        1          0.0                0.0  \n",
       "2        -0.30        1631        1          0.0                0.0  \n",
       "3         0.00        1631        1          0.0                0.0  \n",
       "4        -0.39        1631        1          0.0                0.0  "
      ]
     },
     "execution_count": 2,
     "metadata": {},
     "output_type": "execute_result"
    }
   ],
   "source": [
    "data = pd.read_csv('../../data/transaction_data.csv')\n",
    "\n",
    "data.columns = [col.lower() for col in data.columns]\n",
    "data.rename(columns={'household_key': 'user_id',\n",
    "                    'product_id': 'item_id'},\n",
    "           inplace=True)\n",
    "\n",
    "\n",
    "test_size_weeks = 3\n",
    "\n",
    "data_train = data[data['week_no'] < data['week_no'].max() - test_size_weeks]\n",
    "data_test = data[data['week_no'] >= data['week_no'].max() - test_size_weeks]\n",
    "\n",
    "data_train.head(5)"
   ]
  },
  {
   "cell_type": "code",
   "execution_count": 3,
   "id": "ed26da2c-4a7c-4fbb-bac4-fc5bb6d96778",
   "metadata": {
    "id": "vBJcGBpTIHyl",
    "outputId": "612dfe1f-286b-4d81-af92-721c6e317b6c"
   },
   "outputs": [
    {
     "data": {
      "text/html": [
       "<div>\n",
       "<style scoped>\n",
       "    .dataframe tbody tr th:only-of-type {\n",
       "        vertical-align: middle;\n",
       "    }\n",
       "\n",
       "    .dataframe tbody tr th {\n",
       "        vertical-align: top;\n",
       "    }\n",
       "\n",
       "    .dataframe thead th {\n",
       "        text-align: right;\n",
       "    }\n",
       "</style>\n",
       "<table border=\"1\" class=\"dataframe\">\n",
       "  <thead>\n",
       "    <tr style=\"text-align: right;\">\n",
       "      <th></th>\n",
       "      <th>user_id</th>\n",
       "      <th>actual</th>\n",
       "    </tr>\n",
       "  </thead>\n",
       "  <tbody>\n",
       "    <tr>\n",
       "      <th>0</th>\n",
       "      <td>790</td>\n",
       "      <td>[822989, 849003, 884731, 920109, 976998, 98236...</td>\n",
       "    </tr>\n",
       "    <tr>\n",
       "      <th>1</th>\n",
       "      <td>2252</td>\n",
       "      <td>[9194207, 6534178, 916767, 947858, 1017061, 10...</td>\n",
       "    </tr>\n",
       "  </tbody>\n",
       "</table>\n",
       "</div>"
      ],
      "text/plain": [
       "   user_id                                             actual\n",
       "0      790  [822989, 849003, 884731, 920109, 976998, 98236...\n",
       "1     2252  [9194207, 6534178, 916767, 947858, 1017061, 10..."
      ]
     },
     "execution_count": 3,
     "metadata": {},
     "output_type": "execute_result"
    }
   ],
   "source": [
    "result = data_test.groupby('user_id', sort=False)['item_id'].unique().reset_index()\n",
    "result.columns=['user_id', 'actual']\n",
    "result.head(2)"
   ]
  },
  {
   "cell_type": "code",
   "execution_count": 4,
   "id": "71841852-414b-4e79-beea-aca0a1037cc7",
   "metadata": {
    "id": "9dmp1II9IHyl"
   },
   "outputs": [],
   "source": [
    "popularity = data_train.groupby('item_id', sort=False)['quantity'].sum().reset_index()\n",
    "popularity.rename(columns={'quantity': 'n_sold'}, inplace=True)\n",
    "\n",
    "top_5000 = popularity.sort_values('n_sold', ascending=False).head(5000).item_id.tolist()"
   ]
  },
  {
   "cell_type": "code",
   "execution_count": 5,
   "id": "392a8160-7ea9-4644-a370-3a3ae130f83c",
   "metadata": {
    "id": "jvQ8_CJ9IHym",
    "outputId": "ebf07e9a-6f11-4aa9-d43d-98c0055ec42d"
   },
   "outputs": [
    {
     "data": {
      "text/html": [
       "<div>\n",
       "<style scoped>\n",
       "    .dataframe tbody tr th:only-of-type {\n",
       "        vertical-align: middle;\n",
       "    }\n",
       "\n",
       "    .dataframe tbody tr th {\n",
       "        vertical-align: top;\n",
       "    }\n",
       "\n",
       "    .dataframe thead th {\n",
       "        text-align: right;\n",
       "    }\n",
       "</style>\n",
       "<table border=\"1\" class=\"dataframe\">\n",
       "  <thead>\n",
       "    <tr style=\"text-align: right;\">\n",
       "      <th>item_id</th>\n",
       "      <th>202291</th>\n",
       "      <th>397896</th>\n",
       "      <th>420647</th>\n",
       "      <th>480014</th>\n",
       "      <th>545926</th>\n",
       "      <th>707683</th>\n",
       "      <th>731106</th>\n",
       "      <th>818980</th>\n",
       "      <th>819063</th>\n",
       "      <th>819227</th>\n",
       "      <th>...</th>\n",
       "      <th>15926885</th>\n",
       "      <th>15926886</th>\n",
       "      <th>15926887</th>\n",
       "      <th>15926927</th>\n",
       "      <th>15927033</th>\n",
       "      <th>15927403</th>\n",
       "      <th>15927661</th>\n",
       "      <th>15927850</th>\n",
       "      <th>16809471</th>\n",
       "      <th>17105257</th>\n",
       "    </tr>\n",
       "    <tr>\n",
       "      <th>user_id</th>\n",
       "      <th></th>\n",
       "      <th></th>\n",
       "      <th></th>\n",
       "      <th></th>\n",
       "      <th></th>\n",
       "      <th></th>\n",
       "      <th></th>\n",
       "      <th></th>\n",
       "      <th></th>\n",
       "      <th></th>\n",
       "      <th></th>\n",
       "      <th></th>\n",
       "      <th></th>\n",
       "      <th></th>\n",
       "      <th></th>\n",
       "      <th></th>\n",
       "      <th></th>\n",
       "      <th></th>\n",
       "      <th></th>\n",
       "      <th></th>\n",
       "      <th></th>\n",
       "    </tr>\n",
       "  </thead>\n",
       "  <tbody>\n",
       "    <tr>\n",
       "      <th>2375</th>\n",
       "      <td>0.0</td>\n",
       "      <td>0.0</td>\n",
       "      <td>0.0</td>\n",
       "      <td>0.0</td>\n",
       "      <td>0.0</td>\n",
       "      <td>0.0</td>\n",
       "      <td>0.0</td>\n",
       "      <td>0.0</td>\n",
       "      <td>0.0</td>\n",
       "      <td>0.0</td>\n",
       "      <td>...</td>\n",
       "      <td>0.0</td>\n",
       "      <td>0.0</td>\n",
       "      <td>2.0</td>\n",
       "      <td>0.0</td>\n",
       "      <td>0.0</td>\n",
       "      <td>0.0</td>\n",
       "      <td>0.0</td>\n",
       "      <td>0.0</td>\n",
       "      <td>0.0</td>\n",
       "      <td>0.0</td>\n",
       "    </tr>\n",
       "    <tr>\n",
       "      <th>1364</th>\n",
       "      <td>0.0</td>\n",
       "      <td>0.0</td>\n",
       "      <td>0.0</td>\n",
       "      <td>0.0</td>\n",
       "      <td>0.0</td>\n",
       "      <td>0.0</td>\n",
       "      <td>0.0</td>\n",
       "      <td>0.0</td>\n",
       "      <td>0.0</td>\n",
       "      <td>0.0</td>\n",
       "      <td>...</td>\n",
       "      <td>0.0</td>\n",
       "      <td>0.0</td>\n",
       "      <td>0.0</td>\n",
       "      <td>0.0</td>\n",
       "      <td>0.0</td>\n",
       "      <td>0.0</td>\n",
       "      <td>0.0</td>\n",
       "      <td>0.0</td>\n",
       "      <td>0.0</td>\n",
       "      <td>0.0</td>\n",
       "    </tr>\n",
       "    <tr>\n",
       "      <th>1130</th>\n",
       "      <td>0.0</td>\n",
       "      <td>0.0</td>\n",
       "      <td>0.0</td>\n",
       "      <td>0.0</td>\n",
       "      <td>0.0</td>\n",
       "      <td>0.0</td>\n",
       "      <td>0.0</td>\n",
       "      <td>0.0</td>\n",
       "      <td>0.0</td>\n",
       "      <td>0.0</td>\n",
       "      <td>...</td>\n",
       "      <td>0.0</td>\n",
       "      <td>1.0</td>\n",
       "      <td>1.0</td>\n",
       "      <td>0.0</td>\n",
       "      <td>0.0</td>\n",
       "      <td>0.0</td>\n",
       "      <td>0.0</td>\n",
       "      <td>0.0</td>\n",
       "      <td>1.0</td>\n",
       "      <td>0.0</td>\n",
       "    </tr>\n",
       "  </tbody>\n",
       "</table>\n",
       "<p>3 rows × 5001 columns</p>\n",
       "</div>"
      ],
      "text/plain": [
       "item_id  202291    397896    420647    480014    545926    707683    731106    \\\n",
       "user_id                                                                         \n",
       "2375          0.0       0.0       0.0       0.0       0.0       0.0       0.0   \n",
       "1364          0.0       0.0       0.0       0.0       0.0       0.0       0.0   \n",
       "1130          0.0       0.0       0.0       0.0       0.0       0.0       0.0   \n",
       "\n",
       "item_id  818980    819063    819227    ...  15926885  15926886  15926887  \\\n",
       "user_id                                ...                                 \n",
       "2375          0.0       0.0       0.0  ...       0.0       0.0       2.0   \n",
       "1364          0.0       0.0       0.0  ...       0.0       0.0       0.0   \n",
       "1130          0.0       0.0       0.0  ...       0.0       1.0       1.0   \n",
       "\n",
       "item_id  15926927  15927033  15927403  15927661  15927850  16809471  17105257  \n",
       "user_id                                                                        \n",
       "2375          0.0       0.0       0.0       0.0       0.0       0.0       0.0  \n",
       "1364          0.0       0.0       0.0       0.0       0.0       0.0       0.0  \n",
       "1130          0.0       0.0       0.0       0.0       0.0       1.0       0.0  \n",
       "\n",
       "[3 rows x 5001 columns]"
      ]
     },
     "execution_count": 5,
     "metadata": {},
     "output_type": "execute_result"
    }
   ],
   "source": [
    "# Заведем фиктивный item_id\n",
    "\n",
    "data_train.loc[~data_train['item_id'].isin(top_5000), 'item_id'] = 999_999\n",
    "\n",
    "user_item_matrix = pd.pivot_table(data_train, \n",
    "                                  index='user_id', columns='item_id', \n",
    "                                  values='quantity', # Можно пробоват ьдругие варианты\n",
    "                                  aggfunc='count', \n",
    "                                  fill_value=0,\n",
    "                                  sort=False\n",
    "                                 )\n",
    "\n",
    "user_item_matrix = user_item_matrix.astype(float) # необходимый тип матрицы для implicit\n",
    "\n",
    "# переведем в формат saprse matrix\n",
    "sparse_user_item = csr_matrix(user_item_matrix)\n",
    "\n",
    "user_item_matrix.head(3)"
   ]
  },
  {
   "cell_type": "code",
   "execution_count": 6,
   "id": "3ff0bef7-605f-40bd-85a9-f4a5fc638c5f",
   "metadata": {
    "id": "TiPuXLb7IHym"
   },
   "outputs": [],
   "source": [
    "userids = user_item_matrix.index.values\n",
    "itemids = user_item_matrix.columns.values\n",
    "\n",
    "matrix_userids = np.arange(len(userids))\n",
    "matrix_itemids = np.arange(len(itemids))\n",
    "\n",
    "id_to_itemid = dict(zip(matrix_itemids, itemids))\n",
    "id_to_userid = dict(zip(matrix_userids, userids))\n",
    "\n",
    "itemid_to_id = dict(zip(itemids, matrix_itemids))\n",
    "userid_to_id = dict(zip(userids, matrix_userids))"
   ]
  },
  {
   "cell_type": "markdown",
   "id": "8fe9f929-36e8-4a13-b3b9-a4e7f8826348",
   "metadata": {},
   "source": [
    "Напишем функцию для обучения модели, зафиксируем random_state:"
   ]
  },
  {
   "cell_type": "code",
   "execution_count": 7,
   "id": "601ed3ad-978d-406f-8569-c9273ed0d54a",
   "metadata": {
    "colab": {
     "referenced_widgets": [
      "f86969ff8f854a2cb5128440a2a2734e"
     ]
    },
    "id": "3DlT5ppEIHyn",
    "outputId": "c5207262-0dfc-4e42-91bc-e9754aad1906",
    "scrolled": true
   },
   "outputs": [],
   "source": [
    "def train_als(matrix_csr, factors=64, regularization=0.05, iterations=15):\n",
    "\n",
    "    model = AlternatingLeastSquares(factors=factors, \n",
    "                                    regularization=regularization,\n",
    "                                    iterations=iterations, \n",
    "                                    calculate_training_loss=True,\n",
    "                                    random_state=29)\n",
    "\n",
    "    model.fit(matrix_csr.T.tocsr(),  # На вход item-user matrix\n",
    "              show_progress=False)\n",
    "    \n",
    "    return model"
   ]
  },
  {
   "cell_type": "markdown",
   "id": "13e514a9-51cd-4c0d-bb23-65cbf1d1b3d0",
   "metadata": {},
   "source": [
    "Обернём код в удобные для использования функции:"
   ]
  },
  {
   "cell_type": "code",
   "execution_count": 8,
   "id": "ab83e8bb-4b50-4336-a6c6-3c27424d8020",
   "metadata": {},
   "outputs": [],
   "source": [
    "def get_recommendations(user, model, N=5):\n",
    "    res = [id_to_itemid[rec[0]] for rec in \n",
    "                    model.recommend(userid=userid_to_id[user], \n",
    "                                    user_items=sparse_user_item,   # на вход user-item matrix\n",
    "                                    N=N, \n",
    "                                    filter_already_liked_items=False, \n",
    "                                    filter_items=[itemid_to_id[999_999]], \n",
    "                                    recalculate_user=True)]\n",
    "    return res"
   ]
  },
  {
   "cell_type": "code",
   "execution_count": 9,
   "id": "ef9100b9-7e13-4049-b340-735cea29dccc",
   "metadata": {
    "id": "-zbMDYN4IHyo",
    "outputId": "a042ce17-abe1-4b75-aedb-53a3f5c8d839"
   },
   "outputs": [],
   "source": [
    "def evaluate_model(result_df, model, N=5):\n",
    "    \n",
    "    result_df['als'] = result_df['user_id'].apply(lambda x: get_recommendations(x, model=model, N=N))\n",
    "    \n",
    "    return result_df.apply(lambda row: precision_at_k(row['als'], row['actual']), axis=1).mean()"
   ]
  },
  {
   "cell_type": "markdown",
   "id": "060d0925-665b-4b0e-81cf-2e4bb03df478",
   "metadata": {},
   "source": [
    "Сначала опробуем дефолтную модель на матрице из урока:"
   ]
  },
  {
   "cell_type": "code",
   "execution_count": 10,
   "id": "41c8de6c-7ba4-46e4-8405-d0f12655266a",
   "metadata": {},
   "outputs": [
    {
     "data": {
      "text/plain": [
       "0.1749874434957308"
      ]
     },
     "execution_count": 10,
     "metadata": {},
     "output_type": "execute_result"
    }
   ],
   "source": [
    "default_result = evaluate_model(result, train_als(csr_matrix(user_item_matrix)))\n",
    "default_result"
   ]
  },
  {
   "cell_type": "markdown",
   "id": "da82f741-8702-4da9-a3fa-5f1aa0643e5b",
   "metadata": {},
   "source": [
    "### 2.2 Другое формирование матрицы user-item"
   ]
  },
  {
   "cell_type": "markdown",
   "id": "b48789cb-4133-4ecc-8470-4e507d275bc9",
   "metadata": {},
   "source": [
    "Посмотрим, сколько в датасете строк с quantity == 0, которые нашей  \n",
    "агрегатной функцией учитываются, как покупка:"
   ]
  },
  {
   "cell_type": "code",
   "execution_count": 11,
   "id": "48a113b1-370c-4ad9-823b-eec2e890f508",
   "metadata": {},
   "outputs": [
    {
     "data": {
      "text/plain": [
       "13813"
      ]
     },
     "execution_count": 11,
     "metadata": {},
     "output_type": "execute_result"
    }
   ],
   "source": [
    "(data_train['quantity'] == 0).sum()"
   ]
  },
  {
   "cell_type": "markdown",
   "id": "962133cd-da88-43b4-b9c0-df74d18b82bc",
   "metadata": {},
   "source": [
    "Сформируем матрицу user-item без учёта строк, где quantity = 0:"
   ]
  },
  {
   "cell_type": "code",
   "execution_count": 12,
   "id": "c53b70fd-d1b8-4efd-9391-5678ec4fe635",
   "metadata": {},
   "outputs": [],
   "source": [
    "user_item_matrix = pd.pivot_table(data_train.loc[data_train['quantity'] != 0], \n",
    "                                  index='user_id', columns='item_id', \n",
    "                                  values='quantity',\n",
    "                                  aggfunc='count', \n",
    "                                  fill_value=0,\n",
    "                                  sort=False\n",
    "                                 )\n",
    "\n",
    "user_item_matrix = user_item_matrix.astype(float)\n",
    "sparse_user_item = csr_matrix(user_item_matrix)"
   ]
  },
  {
   "cell_type": "markdown",
   "id": "ff9d2909-026e-4dcf-b596-9daa734b1e19",
   "metadata": {},
   "source": [
    "Переопределим словари маппинга:"
   ]
  },
  {
   "cell_type": "code",
   "execution_count": 13,
   "id": "df1b1400-0267-415b-8118-86cd878df5e9",
   "metadata": {},
   "outputs": [],
   "source": [
    "userids = user_item_matrix.index.values\n",
    "itemids = user_item_matrix.columns.values\n",
    "\n",
    "matrix_userids = np.arange(len(userids))\n",
    "matrix_itemids = np.arange(len(itemids))\n",
    "\n",
    "id_to_itemid = dict(zip(matrix_itemids, itemids))\n",
    "id_to_userid = dict(zip(matrix_userids, userids))\n",
    "\n",
    "itemid_to_id = dict(zip(itemids, matrix_itemids))\n",
    "userid_to_id = dict(zip(userids, matrix_userids))"
   ]
  },
  {
   "cell_type": "markdown",
   "id": "e5684843-f660-4978-8f34-6171f641f3b3",
   "metadata": {},
   "source": [
    "Оценим эффект:"
   ]
  },
  {
   "cell_type": "code",
   "execution_count": 14,
   "id": "240a602d-e573-45ac-a45f-d3b88b8f5c28",
   "metadata": {
    "tags": []
   },
   "outputs": [
    {
     "data": {
      "text/plain": [
       "0.1753892516323456"
      ]
     },
     "execution_count": 14,
     "metadata": {},
     "output_type": "execute_result"
    }
   ],
   "source": [
    "new_matrix_result = evaluate_model(result, train_als(csr_matrix(user_item_matrix)))\n",
    "new_matrix_result"
   ]
  },
  {
   "cell_type": "markdown",
   "id": "1182b8b0-d60b-4338-b7a0-45581165ae24",
   "metadata": {},
   "source": [
    "Модель получилась чуть точнее, далее будем работать с  \n",
    "этой матрицей."
   ]
  },
  {
   "cell_type": "markdown",
   "id": "429dca89-647e-4cd6-8d31-7400817b0da3",
   "metadata": {},
   "source": [
    "### 2.3 Взвешивание матрицы user-item"
   ]
  },
  {
   "cell_type": "markdown",
   "id": "3ddd4935-9a1a-4b18-a96e-a66d147647f4",
   "metadata": {},
   "source": [
    "#### 2.3.1 Tfidf"
   ]
  },
  {
   "cell_type": "code",
   "execution_count": 15,
   "id": "df7cc4ec-a28e-49d1-93c8-856dcd82ee58",
   "metadata": {},
   "outputs": [],
   "source": [
    "user_item_matrix = tfidf_weight(user_item_matrix.T).T"
   ]
  },
  {
   "cell_type": "code",
   "execution_count": 16,
   "id": "355bf166-b78f-4f4f-8e3a-8fe7865e0e9d",
   "metadata": {},
   "outputs": [
    {
     "data": {
      "text/plain": [
       "0.18372677046710198"
      ]
     },
     "execution_count": 16,
     "metadata": {},
     "output_type": "execute_result"
    }
   ],
   "source": [
    "tfidf_result = evaluate_model(result, train_als(csr_matrix(user_item_matrix)))\n",
    "tfidf_result"
   ]
  },
  {
   "cell_type": "markdown",
   "id": "f29a812f-f09e-4173-ac88-8ec76e7a4596",
   "metadata": {},
   "source": [
    "#### 2.3.2 BM25"
   ]
  },
  {
   "cell_type": "code",
   "execution_count": 17,
   "id": "a3ef91ea-b8f4-4b16-bff2-64807eea7afc",
   "metadata": {},
   "outputs": [],
   "source": [
    "user_item_matrix = pd.pivot_table(data_train.loc[data_train['quantity'] != 0], \n",
    "                                  index='user_id', columns='item_id', \n",
    "                                  values='quantity',\n",
    "                                  aggfunc='count', \n",
    "                                  fill_value=0,\n",
    "                                  sort=False\n",
    "                                 )\n",
    "\n",
    "user_item_matrix = user_item_matrix.astype(float)\n",
    "sparse_user_item = csr_matrix(user_item_matrix)"
   ]
  },
  {
   "cell_type": "code",
   "execution_count": 18,
   "id": "374346b1-a9ae-4c41-9309-d079a2221c93",
   "metadata": {},
   "outputs": [],
   "source": [
    "user_item_matrix = bm25_weight(user_item_matrix.T).T"
   ]
  },
  {
   "cell_type": "code",
   "execution_count": 19,
   "id": "0aa5ec21-8503-4ba9-bd67-936323dd4ee3",
   "metadata": {},
   "outputs": [
    {
     "data": {
      "text/plain": [
       "0.20050226017076847"
      ]
     },
     "execution_count": 19,
     "metadata": {},
     "output_type": "execute_result"
    }
   ],
   "source": [
    "bm25_result = evaluate_model(result, train_als(csr_matrix(user_item_matrix)))\n",
    "bm25_result"
   ]
  },
  {
   "cell_type": "markdown",
   "id": "ad806913-7b1a-41b0-84f3-4d2e27ce02d1",
   "metadata": {},
   "source": [
    "BM25-взвешивание показало лучший результат, возьмём  \n",
    "эту матрицу за основу и подберём параметры к модели."
   ]
  },
  {
   "cell_type": "markdown",
   "id": "dd130948-3af1-4c6a-8432-f75b65ca3a68",
   "metadata": {},
   "source": [
    "### 2.4 Подбор параметров"
   ]
  },
  {
   "cell_type": "code",
   "execution_count": 20,
   "id": "9f2fe539-1518-4e20-a150-06247f854b73",
   "metadata": {},
   "outputs": [],
   "source": [
    "from itertools import product"
   ]
  },
  {
   "cell_type": "code",
   "execution_count": 21,
   "id": "2efad576-062e-4114-a5d6-7505e3aa72a3",
   "metadata": {},
   "outputs": [],
   "source": [
    "def find_best_params(params, verbose=False):\n",
    "    \n",
    "    parameters = list(params.keys())\n",
    "    \n",
    "    # Воспользуемся itertools для создания всевозможных\n",
    "    # комбинаций параметров\n",
    "    values = list(product(*params.values()))\n",
    "    \n",
    "    best_score = 0\n",
    "\n",
    "    for params_set in values:\n",
    "        \n",
    "        # Превращаем набор параметров в словарь с названиями\n",
    "        # и значениями\n",
    "        current_params = {param[0]: param[1] for param in zip(parameters, params_set)}\n",
    "        \n",
    "        score = evaluate_model(result, train_als(csr_matrix(user_item_matrix), **current_params))\n",
    "        \n",
    "        if verbose:\n",
    "            print(f'{current_params}\\t\\t{score:.3f}')\n",
    "        \n",
    "        # Лучшую метрику и параметры сохраняем\n",
    "        if score > best_score:\n",
    "            best_score = score\n",
    "            best_params = current_params\n",
    "                \n",
    "    return best_score, best_params"
   ]
  },
  {
   "cell_type": "code",
   "execution_count": 22,
   "id": "e73f5ca3-843c-4cea-a584-cfea8df0f3e9",
   "metadata": {},
   "outputs": [],
   "source": [
    "params = {\n",
    "    'factors': [32, 64, 128],\n",
    "    'regularization': [0.01, 0.05, 0.1],\n",
    "    'iterations': [10, 15, 20]\n",
    "}"
   ]
  },
  {
   "cell_type": "code",
   "execution_count": 23,
   "id": "65a8bfc3-768c-44cb-9865-50e22a285ff1",
   "metadata": {},
   "outputs": [
    {
     "name": "stdout",
     "output_type": "stream",
     "text": [
      "{'factors': 32, 'regularization': 0.01, 'iterations': 10}\t\t0.185\n",
      "{'factors': 32, 'regularization': 0.01, 'iterations': 15}\t\t0.188\n",
      "{'factors': 32, 'regularization': 0.01, 'iterations': 20}\t\t0.188\n",
      "{'factors': 32, 'regularization': 0.05, 'iterations': 10}\t\t0.188\n",
      "{'factors': 32, 'regularization': 0.05, 'iterations': 15}\t\t0.187\n",
      "{'factors': 32, 'regularization': 0.05, 'iterations': 20}\t\t0.187\n",
      "{'factors': 32, 'regularization': 0.1, 'iterations': 10}\t\t0.187\n",
      "{'factors': 32, 'regularization': 0.1, 'iterations': 15}\t\t0.186\n",
      "{'factors': 32, 'regularization': 0.1, 'iterations': 20}\t\t0.187\n",
      "{'factors': 64, 'regularization': 0.01, 'iterations': 10}\t\t0.198\n",
      "{'factors': 64, 'regularization': 0.01, 'iterations': 15}\t\t0.200\n",
      "{'factors': 64, 'regularization': 0.01, 'iterations': 20}\t\t0.200\n",
      "{'factors': 64, 'regularization': 0.05, 'iterations': 10}\t\t0.200\n",
      "{'factors': 64, 'regularization': 0.05, 'iterations': 15}\t\t0.201\n",
      "{'factors': 64, 'regularization': 0.05, 'iterations': 20}\t\t0.201\n",
      "{'factors': 64, 'regularization': 0.1, 'iterations': 10}\t\t0.200\n",
      "{'factors': 64, 'regularization': 0.1, 'iterations': 15}\t\t0.202\n",
      "{'factors': 64, 'regularization': 0.1, 'iterations': 20}\t\t0.201\n",
      "{'factors': 128, 'regularization': 0.01, 'iterations': 10}\t\t0.219\n",
      "{'factors': 128, 'regularization': 0.01, 'iterations': 15}\t\t0.222\n",
      "{'factors': 128, 'regularization': 0.01, 'iterations': 20}\t\t0.221\n",
      "{'factors': 128, 'regularization': 0.05, 'iterations': 10}\t\t0.220\n",
      "{'factors': 128, 'regularization': 0.05, 'iterations': 15}\t\t0.221\n",
      "{'factors': 128, 'regularization': 0.05, 'iterations': 20}\t\t0.221\n",
      "{'factors': 128, 'regularization': 0.1, 'iterations': 10}\t\t0.219\n",
      "{'factors': 128, 'regularization': 0.1, 'iterations': 15}\t\t0.222\n",
      "{'factors': 128, 'regularization': 0.1, 'iterations': 20}\t\t0.224\n",
      "CPU times: user 1h 31min 38s, sys: 1h 19min, total: 2h 50min 39s\n",
      "Wall time: 14min 42s\n"
     ]
    }
   ],
   "source": [
    "%%time\n",
    "\n",
    "best_score, best_params = find_best_params(params, verbose=True)"
   ]
  },
  {
   "cell_type": "markdown",
   "id": "8e655c29-6dd2-4a65-b752-cb73a790cd72",
   "metadata": {},
   "source": [
    "Лучшие параметры получились:"
   ]
  },
  {
   "cell_type": "code",
   "execution_count": 24,
   "id": "cddc9378-da54-4f54-b22d-55f795690a6f",
   "metadata": {},
   "outputs": [
    {
     "data": {
      "text/plain": [
       "{'factors': 128, 'regularization': 0.1, 'iterations': 20}"
      ]
     },
     "execution_count": 24,
     "metadata": {},
     "output_type": "execute_result"
    }
   ],
   "source": [
    "best_params"
   ]
  },
  {
   "cell_type": "markdown",
   "id": "4db9e4e3-0f3b-48ba-a153-20ab36801d30",
   "metadata": {},
   "source": [
    "Лучшая метрика:"
   ]
  },
  {
   "cell_type": "code",
   "execution_count": 25,
   "id": "d04a5de7-a08c-414a-b781-1dd55acb0dd3",
   "metadata": {},
   "outputs": [
    {
     "data": {
      "text/plain": [
       "0.2237066800602712"
      ]
     },
     "execution_count": 25,
     "metadata": {},
     "output_type": "execute_result"
    }
   ],
   "source": [
    "best_score"
   ]
  },
  {
   "cell_type": "markdown",
   "id": "c42f3132-237a-494a-a5f3-cbfa574246c0",
   "metadata": {},
   "source": [
    "Так как лучшими оказались пограничные значения параметров, то  \n",
    "для более качественного подбора нужно ещё раз запустить поиск,  \n",
    "с другими границами параметров. Но это не является нашей целью  \n",
    "в этой домашней работе. Общие тенденции и так видны."
   ]
  },
  {
   "cell_type": "markdown",
   "id": "5f062512-6595-4179-aa09-4a6c8fa1811a",
   "metadata": {},
   "source": [
    "<ins>Вывод:</ins>  \n",
    "На повышение точности рекомендаций сильно повлияло добавление  \n",
    "взвешивания. Идея исключить покупки с количеством купленного  \n",
    "товара, равного нулю, дала небольшой эффект, но это, скорее  \n",
    "всего, ввиду того, что в исходном датасете было мало таких  \n",
    "строк. Применение других агрегатных функций при создании user-item  \n",
    "матрицы значительно повлияло бы на точность модели, но применённая  \n",
    "на уроке функция, учитывающия количество фактов покупки уже достаточно  \n",
    "неплохая, в этом мы убедились в предыдущей домашней работе, где  \n",
    "сравнили этот подход с агрегацией суммы покупок.  \n",
    "Подбор параметров показал, что наибольшее влияние на метрику оказывает  \n",
    "количество факторов, тогда как значение регуляризации и количество  \n",
    "итераций не оказывали сильного влияния."
   ]
  }
 ],
 "metadata": {
  "kernelspec": {
   "display_name": "Python 3 (ipykernel)",
   "language": "python",
   "name": "python3"
  },
  "language_info": {
   "codemirror_mode": {
    "name": "ipython",
    "version": 3
   },
   "file_extension": ".py",
   "mimetype": "text/x-python",
   "name": "python",
   "nbconvert_exporter": "python",
   "pygments_lexer": "ipython3",
   "version": "3.10.4"
  }
 },
 "nbformat": 4,
 "nbformat_minor": 5
}
