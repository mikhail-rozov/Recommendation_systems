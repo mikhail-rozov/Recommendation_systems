{
 "cells": [
  {
   "cell_type": "markdown",
   "id": "cbcb6cb5-86f7-4e0b-af18-0087e167765f",
   "metadata": {
    "id": "89mFQmjdo1gZ"
   },
   "source": [
    "## Практическое задание к уроку № 6 по теме \"Двухуровневые модели рекомендаций.\""
   ]
  },
  {
   "cell_type": "markdown",
   "id": "46bd001e-138d-4a1e-bb41-17f6b5807b5e",
   "metadata": {},
   "source": [
    "Подготовим данные, скопировав код с урока:"
   ]
  },
  {
   "cell_type": "code",
   "execution_count": 1,
   "id": "b062f920-d366-49bb-89e2-5a93edbaebbf",
   "metadata": {
    "tags": []
   },
   "outputs": [],
   "source": [
    "import pandas as pd\n",
    "import numpy as np\n",
    "import matplotlib.pyplot as plt\n",
    "%matplotlib inline\n",
    "from sklearn.preprocessing import OneHotEncoder\n",
    "\n",
    "# Для работы с матрицами\n",
    "from scipy.sparse import csr_matrix\n",
    "\n",
    "# Матричная факторизация\n",
    "from implicit.als import AlternatingLeastSquares\n",
    "\n",
    "# Модель второго уровня\n",
    "from xgboost import XGBClassifier\n",
    "\n",
    "import sys\n",
    "sys.path.append('../')\n",
    "\n",
    "# Написанные нами функции\n",
    "from metrics import precision_at_k, recall_at_k\n",
    "from utils import prefilter_items\n",
    "from recommenders import MainRecommender"
   ]
  },
  {
   "cell_type": "markdown",
   "id": "2bfb95b6-02de-4e72-9031-025c3005c921",
   "metadata": {},
   "source": [
    "## Read data"
   ]
  },
  {
   "cell_type": "code",
   "execution_count": 2,
   "id": "c1013f35-85cc-406a-b6f9-5c714e2931a5",
   "metadata": {},
   "outputs": [],
   "source": [
    "data = pd.read_csv('../../data/retail_train.csv')\n",
    "item_features = pd.read_csv('../../data/product.csv')\n",
    "user_features = pd.read_csv('../../data/hh_demographic.csv')"
   ]
  },
  {
   "cell_type": "markdown",
   "id": "cd8680c2-ac8a-4f94-9871-29e31cc4be20",
   "metadata": {},
   "source": [
    "# Process features dataset"
   ]
  },
  {
   "cell_type": "code",
   "execution_count": 3,
   "id": "e232851e-36df-4b57-8558-9af5e6069636",
   "metadata": {},
   "outputs": [],
   "source": [
    "ITEM_COL = 'item_id'\n",
    "USER_COL = 'user_id'"
   ]
  },
  {
   "cell_type": "code",
   "execution_count": 4,
   "id": "d4ca8e87-4ad2-481e-ab98-d5054238417d",
   "metadata": {},
   "outputs": [],
   "source": [
    "# column processing\n",
    "item_features.columns = [col.lower() for col in item_features.columns]\n",
    "user_features.columns = [col.lower() for col in user_features.columns]\n",
    "\n",
    "item_features.rename(columns={'product_id': ITEM_COL}, inplace=True)\n",
    "user_features.rename(columns={'household_key': USER_COL }, inplace=True)"
   ]
  },
  {
   "cell_type": "markdown",
   "id": "69b47b20-ca7c-4319-9bf3-cbdcfbfce22b",
   "metadata": {},
   "source": [
    "# Split dataset for train, eval, test"
   ]
  },
  {
   "cell_type": "code",
   "execution_count": 5,
   "id": "0336d7ba-a0fd-4540-9fd4-dfc90a4085af",
   "metadata": {},
   "outputs": [],
   "source": [
    "# Важна схема обучения и валидации!\n",
    "# -- давние покупки -- | -- 6 недель -- | -- 3 недель -- \n",
    "# подобрать размер 2-ого датасета (6 недель) --> learning curve (зависимость метрики recall@k от размера датасета)\n",
    "\n",
    "\n",
    "VAL_MATCHER_WEEKS = 6\n",
    "VAL_RANKER_WEEKS = 3"
   ]
  },
  {
   "cell_type": "code",
   "execution_count": 6,
   "id": "b8c8ab98-799a-4582-9051-70833f0c9600",
   "metadata": {
    "scrolled": true
   },
   "outputs": [],
   "source": [
    "# берем данные для тренировки matching модели\n",
    "data_train_matcher = data[data['week_no'] < data['week_no'].max() - (VAL_MATCHER_WEEKS + VAL_RANKER_WEEKS)]\n",
    "\n",
    "# берем данные для валидации matching модели\n",
    "data_val_matcher = data[(data['week_no'] >= data['week_no'].max() - (VAL_MATCHER_WEEKS + VAL_RANKER_WEEKS)) &\n",
    "                      (data['week_no'] < data['week_no'].max() - (VAL_RANKER_WEEKS))]\n",
    "\n",
    "\n",
    "# берем данные для тренировки ranking модели\n",
    "data_train_ranker = data_val_matcher.copy()  # Для наглядности. Далее мы добавим изменения, и они будут отличаться\n",
    "\n",
    "# берем данные для теста ranking, matching модели\n",
    "data_val_ranker = data[data['week_no'] >= data['week_no'].max() - VAL_RANKER_WEEKS]"
   ]
  },
  {
   "cell_type": "code",
   "execution_count": 7,
   "id": "9dea6687-c850-448b-a47a-87f362e8c76c",
   "metadata": {},
   "outputs": [
    {
     "data": {
      "text/html": [
       "<div>\n",
       "<style scoped>\n",
       "    .dataframe tbody tr th:only-of-type {\n",
       "        vertical-align: middle;\n",
       "    }\n",
       "\n",
       "    .dataframe tbody tr th {\n",
       "        vertical-align: top;\n",
       "    }\n",
       "\n",
       "    .dataframe thead th {\n",
       "        text-align: right;\n",
       "    }\n",
       "</style>\n",
       "<table border=\"1\" class=\"dataframe\">\n",
       "  <thead>\n",
       "    <tr style=\"text-align: right;\">\n",
       "      <th></th>\n",
       "      <th>user_id</th>\n",
       "      <th>basket_id</th>\n",
       "      <th>day</th>\n",
       "      <th>item_id</th>\n",
       "      <th>quantity</th>\n",
       "      <th>sales_value</th>\n",
       "      <th>store_id</th>\n",
       "      <th>retail_disc</th>\n",
       "      <th>trans_time</th>\n",
       "      <th>week_no</th>\n",
       "      <th>coupon_disc</th>\n",
       "      <th>coupon_match_disc</th>\n",
       "    </tr>\n",
       "  </thead>\n",
       "  <tbody>\n",
       "    <tr>\n",
       "      <th>0</th>\n",
       "      <td>2375</td>\n",
       "      <td>26984851472</td>\n",
       "      <td>1</td>\n",
       "      <td>1004906</td>\n",
       "      <td>1</td>\n",
       "      <td>1.39</td>\n",
       "      <td>364</td>\n",
       "      <td>-0.6</td>\n",
       "      <td>1631</td>\n",
       "      <td>1</td>\n",
       "      <td>0.0</td>\n",
       "      <td>0.0</td>\n",
       "    </tr>\n",
       "    <tr>\n",
       "      <th>1</th>\n",
       "      <td>2375</td>\n",
       "      <td>26984851472</td>\n",
       "      <td>1</td>\n",
       "      <td>1033142</td>\n",
       "      <td>1</td>\n",
       "      <td>0.82</td>\n",
       "      <td>364</td>\n",
       "      <td>0.0</td>\n",
       "      <td>1631</td>\n",
       "      <td>1</td>\n",
       "      <td>0.0</td>\n",
       "      <td>0.0</td>\n",
       "    </tr>\n",
       "  </tbody>\n",
       "</table>\n",
       "</div>"
      ],
      "text/plain": [
       "   user_id    basket_id  day  item_id  quantity  sales_value  store_id  \\\n",
       "0     2375  26984851472    1  1004906         1         1.39       364   \n",
       "1     2375  26984851472    1  1033142         1         0.82       364   \n",
       "\n",
       "   retail_disc  trans_time  week_no  coupon_disc  coupon_match_disc  \n",
       "0         -0.6        1631        1          0.0                0.0  \n",
       "1          0.0        1631        1          0.0                0.0  "
      ]
     },
     "execution_count": 7,
     "metadata": {},
     "output_type": "execute_result"
    }
   ],
   "source": [
    "data_train_matcher.head(2)"
   ]
  },
  {
   "cell_type": "markdown",
   "id": "09b789e4-9541-43fb-86f3-766e8773e9a9",
   "metadata": {},
   "source": [
    "# Prefilter items"
   ]
  },
  {
   "cell_type": "code",
   "execution_count": 8,
   "id": "22bf5858-3836-4f07-892a-4f60f1ac669a",
   "metadata": {},
   "outputs": [
    {
     "name": "stdout",
     "output_type": "stream",
     "text": [
      "Decreased # items from 83685 to 5001\n"
     ]
    }
   ],
   "source": [
    "n_items_before = data_train_matcher['item_id'].nunique()\n",
    "\n",
    "data_train_matcher = prefilter_items(data_train_matcher, item_features=item_features, n_popular=5000)\n",
    "\n",
    "n_items_after = data_train_matcher['item_id'].nunique()\n",
    "print('Decreased # items from {} to {}'.format(n_items_before, n_items_after))"
   ]
  },
  {
   "cell_type": "code",
   "execution_count": 9,
   "id": "8b6add8c-3ff4-48a7-80c5-8f2b8d3dbd1c",
   "metadata": {},
   "outputs": [],
   "source": [
    "# ищем общих пользователей\n",
    "common_users = data_train_matcher.user_id.values\n",
    "\n",
    "data_val_matcher = data_val_matcher[data_val_matcher.user_id.isin(common_users)]\n",
    "data_train_ranker = data_train_ranker[data_train_ranker.user_id.isin(common_users)]\n",
    "data_val_ranker = data_val_ranker[data_val_ranker.user_id.isin(common_users)]"
   ]
  },
  {
   "cell_type": "markdown",
   "id": "6f3a284f-b5f7-4869-a8d6-1876381ffb53",
   "metadata": {},
   "source": [
    "# Init/train recommender"
   ]
  },
  {
   "cell_type": "code",
   "execution_count": 10,
   "id": "f65024ce-f29f-4bcd-b748-1841ba313aca",
   "metadata": {},
   "outputs": [],
   "source": [
    "recommender = MainRecommender(data_train_matcher)"
   ]
  },
  {
   "cell_type": "code",
   "execution_count": 11,
   "id": "db48a8ea-7ae3-4ad7-ad37-6fe04901a880",
   "metadata": {},
   "outputs": [],
   "source": [
    "ACTUAL_COL = 'actual'"
   ]
  },
  {
   "cell_type": "code",
   "execution_count": 12,
   "id": "f6b8b9cb-338d-4d79-807f-4a481ef3e538",
   "metadata": {
    "scrolled": true
   },
   "outputs": [
    {
     "data": {
      "text/html": [
       "<div>\n",
       "<style scoped>\n",
       "    .dataframe tbody tr th:only-of-type {\n",
       "        vertical-align: middle;\n",
       "    }\n",
       "\n",
       "    .dataframe tbody tr th {\n",
       "        vertical-align: top;\n",
       "    }\n",
       "\n",
       "    .dataframe thead th {\n",
       "        text-align: right;\n",
       "    }\n",
       "</style>\n",
       "<table border=\"1\" class=\"dataframe\">\n",
       "  <thead>\n",
       "    <tr style=\"text-align: right;\">\n",
       "      <th></th>\n",
       "      <th>user_id</th>\n",
       "      <th>actual</th>\n",
       "    </tr>\n",
       "  </thead>\n",
       "  <tbody>\n",
       "    <tr>\n",
       "      <th>0</th>\n",
       "      <td>2070</td>\n",
       "      <td>[1019940, 834103, 918438, 878302, 949616, 9879...</td>\n",
       "    </tr>\n",
       "    <tr>\n",
       "      <th>1</th>\n",
       "      <td>2021</td>\n",
       "      <td>[840361, 856060, 869344, 896862, 951590, 10191...</td>\n",
       "    </tr>\n",
       "  </tbody>\n",
       "</table>\n",
       "</div>"
      ],
      "text/plain": [
       "   user_id                                             actual\n",
       "0     2070  [1019940, 834103, 918438, 878302, 949616, 9879...\n",
       "1     2021  [840361, 856060, 869344, 896862, 951590, 10191..."
      ]
     },
     "execution_count": 12,
     "metadata": {},
     "output_type": "execute_result"
    }
   ],
   "source": [
    "result_eval_matcher = data_val_matcher.groupby(USER_COL, sort=False)[ITEM_COL].unique().reset_index()\n",
    "result_eval_matcher.columns=[USER_COL, ACTUAL_COL]\n",
    "result_eval_matcher.head(2)"
   ]
  },
  {
   "cell_type": "code",
   "execution_count": 13,
   "id": "71100b2c-0355-4ede-987e-9102a7c72d3d",
   "metadata": {},
   "outputs": [],
   "source": [
    "def calc_recall(df_result, top_k):\n",
    "    for col_name in df_result.columns[2:]:\n",
    "        yield col_name, df_result.apply(lambda row: recall_at_k(row[col_name], row[ACTUAL_COL], k=top_k), axis=1).mean()"
   ]
  },
  {
   "cell_type": "code",
   "execution_count": 14,
   "id": "2bc5b484-39a5-4a5e-9e15-f0ec638e81dd",
   "metadata": {},
   "outputs": [],
   "source": [
    "def calc_precision(df_result, top_k):\n",
    "    for col_name in df_result.columns[2:]:\n",
    "        yield col_name, df_result.apply(lambda row: precision_at_k(row[col_name], row[ACTUAL_COL], k=top_k), axis=1).mean()"
   ]
  },
  {
   "cell_type": "markdown",
   "id": "7af0d326-f5d4-4f65-a7db-552cdb3dec55",
   "metadata": {},
   "source": [
    "### **Задание 1.**\n",
    "\n",
    "A) Попробуйте различные варианты генерации кандидатов. Какие из них дают наибольший recall@k ?\n",
    "- Пока пробуем отобрать 50 кандидатов (k=50)\n",
    "- Качество измеряем на data_val_matcher: следующие 6 недель после трейна\n",
    "\n",
    "Дают ли own recommendtions + top-popular лучший recall?  \n",
    "\n",
    "B)* Как зависит recall@k от k? Постройте для одной схемы генерации кандидатов эту зависимость для k = {20, 50, 100, 200, 500}  \n",
    "C)* Исходя из прошлого вопроса, как вы думаете, какое значение k является наиболее разумным?\n"
   ]
  },
  {
   "cell_type": "markdown",
   "id": "335b7122-a26f-4cc4-bfbc-e0708c47d3c0",
   "metadata": {},
   "source": [
    "Создадим кандидатов:"
   ]
  },
  {
   "cell_type": "code",
   "execution_count": 15,
   "id": "3e6a99c8-514b-4e2a-a5f2-7d6c5e405cef",
   "metadata": {},
   "outputs": [],
   "source": [
    "def make_recommendations(df_result, rec_name_model, N=50):\n",
    "    rec_name = rec_name_model[0]\n",
    "    rec_model = rec_name_model[1]\n",
    "    df_result[rec_name] = df_result[USER_COL].apply(lambda x: rec_model(x, N=N))"
   ]
  },
  {
   "cell_type": "code",
   "execution_count": 16,
   "id": "cdb4c77b-a55d-497f-899a-177a9f9955cc",
   "metadata": {},
   "outputs": [],
   "source": [
    "own_rec = ('own_recs', recommender.get_own_recommendations)\n",
    "als_rec = ('als_recs', recommender.get_als_recommendations)\n",
    "sim_user_rec = ('similar_user_recs', recommender.get_similar_users_recommendation)\n",
    "sim_item_rec = ('similar_item_recs', recommender.get_similar_items_recommendation)"
   ]
  },
  {
   "cell_type": "code",
   "execution_count": 17,
   "id": "177a88aa-7581-48bf-b499-18d14835c1ef",
   "metadata": {},
   "outputs": [],
   "source": [
    "for rec in (own_rec, als_rec, sim_user_rec, sim_item_rec):\n",
    "    make_recommendations(result_eval_matcher, rec, N=50)"
   ]
  },
  {
   "cell_type": "markdown",
   "id": "21b89cf4-91bf-4562-8efe-3cda4bc6ae94",
   "metadata": {},
   "source": [
    "Также сделаем смесь own_recommendations и top-popular:"
   ]
  },
  {
   "cell_type": "code",
   "execution_count": 18,
   "id": "a8292e61-fd4a-4211-abba-ea042e1fe477",
   "metadata": {},
   "outputs": [],
   "source": [
    "make_recommendations(result_eval_matcher, ('own+top_pop', recommender.get_own_recommendations), N=25)"
   ]
  },
  {
   "cell_type": "code",
   "execution_count": 19,
   "id": "bd56cc8c-3a45-4873-8361-be216837292b",
   "metadata": {},
   "outputs": [],
   "source": [
    "def fill_with_tops(column, N=5):\n",
    "    \n",
    "    tops = np.array(recommender.overall_top_purchases)\n",
    "    recs = np.array(column)\n",
    "    mask = np.isin(tops, recs, invert=True)\n",
    "    tops = tops[mask]\n",
    "    \n",
    "    return np.append(recs, tops[:N])"
   ]
  },
  {
   "cell_type": "code",
   "execution_count": 20,
   "id": "b9f29589-94c8-497d-b5af-97413dbb429c",
   "metadata": {},
   "outputs": [],
   "source": [
    "result_eval_matcher['own+top_pop'] = result_eval_matcher['own+top_pop']. \\\n",
    "        apply(lambda row: fill_with_tops(row, N=25))"
   ]
  },
  {
   "cell_type": "code",
   "execution_count": 21,
   "id": "84c1c351-067a-4d3d-b4d4-cd0aee514712",
   "metadata": {},
   "outputs": [
    {
     "data": {
      "text/plain": [
       "50"
      ]
     },
     "execution_count": 21,
     "metadata": {},
     "output_type": "execute_result"
    }
   ],
   "source": [
    "len(result_eval_matcher.iloc[0]['own+top_pop'])"
   ]
  },
  {
   "cell_type": "markdown",
   "id": "18461864-655c-40b0-b794-76ef5bc4b2be",
   "metadata": {},
   "source": [
    "Посмотрим на recall@50 кандидатов, полученных разными способами:"
   ]
  },
  {
   "cell_type": "code",
   "execution_count": 22,
   "id": "329820ba-7df1-4129-8310-b02058f6b146",
   "metadata": {},
   "outputs": [
    {
     "data": {
      "text/plain": [
       "[('own_recs', 0.07934879656918649),\n",
       " ('own+top_pop', 0.0738710471311752),\n",
       " ('als_recs', 0.048092753849589144),\n",
       " ('similar_item_recs', 0.032414477233487456),\n",
       " ('similar_user_recs', 0.025494293767761935)]"
      ]
     },
     "execution_count": 22,
     "metadata": {},
     "output_type": "execute_result"
    }
   ],
   "source": [
    "sorted(calc_recall(result_eval_matcher, 50), key=lambda x: x[1], reverse=True)"
   ]
  },
  {
   "cell_type": "markdown",
   "id": "2532132c-69ca-4fc8-82f1-cfd1e488369e",
   "metadata": {},
   "source": [
    "Наибольший recall@50 показали кандидаты, созданные по принципу  \n",
    "own_recomendations. Это неудивительно, так как они формировались  \n",
    "по принципу максимальной похожести на только одного ближайшего  \n",
    "\"соседа\". С учётом отсутствия фильтрации по уже совершённым покупкам,  \n",
    "в кандидатах зачастую оказываются фактические покупки.  \n",
    "Подмешивание в этих кандидатов топ-популярных не дало повышения recall."
   ]
  },
  {
   "cell_type": "markdown",
   "id": "a03cbe6c-9b21-4db4-a6f4-7c3d418acbbe",
   "metadata": {},
   "source": [
    "Теперь оценим метрику recall@k при различных значениях k.  \n",
    "За основу возьмём own_recommend способ формирования кандидатов:"
   ]
  },
  {
   "cell_type": "code",
   "execution_count": 23,
   "id": "419977f8-32ac-42a5-b01f-863cf27be472",
   "metadata": {},
   "outputs": [
    {
     "data": {
      "image/png": "[encoded data removed]",
      "text/plain": [
       "<Figure size 432x288 with 1 Axes>"
      ]
     },
     "metadata": {
      "needs_background": "light"
     },
     "output_type": "display_data"
    }
   ],
   "source": [
    "ks = (20, 50, 100, 200, 500)\n",
    "scores = []\n",
    "\n",
    "TEST_COL = 'own_recs'\n",
    "\n",
    "for k in ks:\n",
    "    make_recommendations(result_eval_matcher, own_rec, N=k)\n",
    "    scores.append(result_eval_matcher.apply(lambda row: recall_at_k(row[TEST_COL], row[ACTUAL_COL], k=k), axis=1).mean())\n",
    "\n",
    "plt.plot(ks, scores)\n",
    "plt.xlabel('k')\n",
    "plt.ylabel('Recall@k')\n",
    "plt.title(f'Зависимость Recall@k от k на примере колонки {TEST_COL}')\n",
    "plt.grid()\n",
    "plt.show()"
   ]
  },
  {
   "cell_type": "markdown",
   "id": "f9e39b73-d343-4dda-ac32-ec6c502d881b",
   "metadata": {},
   "source": [
    "Как видно из графика, с увеличением k метрика повышается  \n",
    "всё более полого. Это говорит о том, что с увеличением  \n",
    "количества кандидатов их качество падает. Поэтому нет  \n",
    "особого смысла отправлять на ранжирование сотни кандидатов,  \n",
    "т.к. это будет дополительная нагрузка для модели, а выдавать  \n",
    "пользователю мы всё равно будем не так много рекомендаций.  \n",
    "Если у нас, например, какая-нибудь поисковая выдача, где мы  \n",
    "выдаём много рекомендаций, то после 100-й рекомендации можно  \n",
    "уже выдавать неотранжированных кандидатов, всё равно мало кто  \n",
    "пролистает столько страниц.  \n",
    "Таким образом, для выдачи в ретейле считаю 50 оптимальным значением  \n",
    "для количества кандидатов на ранжирование. В случае поисковой выдачи  \n",
    "можно поднять это значение до 100."
   ]
  },
  {
   "cell_type": "markdown",
   "id": "154ce9f0-ab98-46ca-a584-697291c2ed19",
   "metadata": {},
   "source": [
    "### **Задание 2.**\n",
    "\n",
    "Обучите модель 2-ого уровня, при этом:\n",
    "\n",
    "- Добавьте минимум по 2 фичи для юзера, товара и пары юзер-товар\n",
    "\n",
    "- Измерьте отдельно precision@5 модели 1-ого уровня и двухуровневой модели на data_val_ranker\n",
    "\n",
    "- Вырос ли precision@5 при использовании двухуровневой модели?"
   ]
  },
  {
   "cell_type": "markdown",
   "id": "661c5673-8dd6-4ca9-8d39-e345dcfab85a",
   "metadata": {},
   "source": [
    "Сначала измерим precision@5 имеющихся кандидатов:"
   ]
  },
  {
   "cell_type": "code",
   "execution_count": 24,
   "id": "6759a674-25a6-444a-ad95-a13cae2eea7f",
   "metadata": {},
   "outputs": [
    {
     "data": {
      "text/plain": [
       "[('own_recs', 0.2242565055762082),\n",
       " ('own+top_pop', 0.2242565055762082),\n",
       " ('als_recs', 0.09433085501858736),\n",
       " ('similar_item_recs', 0.06282527881040893),\n",
       " ('similar_user_recs', 0.02732342007434944)]"
      ]
     },
     "execution_count": 24,
     "metadata": {},
     "output_type": "execute_result"
    }
   ],
   "source": [
    "sorted(calc_precision(result_eval_matcher, 5), key=lambda x: x[1], reverse=True)"
   ]
  },
  {
   "cell_type": "markdown",
   "id": "e23f2fc9-5d68-4512-a9e0-9582c33caff3",
   "metadata": {},
   "source": [
    "## Подготовка данных для трейна"
   ]
  },
  {
   "cell_type": "code",
   "execution_count": 25,
   "id": "15a2c036-382d-456e-abf0-7dc4fdfa154e",
   "metadata": {},
   "outputs": [],
   "source": [
    "# взяли пользователей из трейна для ранжирования\n",
    "df_match_candidates = pd.DataFrame(data_train_ranker[USER_COL].unique())\n",
    "df_match_candidates.columns = [USER_COL]"
   ]
  },
  {
   "cell_type": "markdown",
   "id": "8ac9e4a1-4a7b-4e82-a7e4-e822c14ea120",
   "metadata": {},
   "source": [
    "Кандидатов будем отбирать методом ALS для разнообразия:"
   ]
  },
  {
   "cell_type": "code",
   "execution_count": 26,
   "id": "235f514f-2bbe-4728-aef5-633997951fe0",
   "metadata": {},
   "outputs": [],
   "source": [
    "# собираем кандитатов с первого этапа (matcher)\n",
    "df_match_candidates['candidates'] = df_match_candidates[USER_COL].apply(lambda x: recommender.get_als_recommendations(x, N=50))"
   ]
  },
  {
   "cell_type": "code",
   "execution_count": 27,
   "id": "ef7381c0-4f10-4c33-aa69-8d9ab65e51dd",
   "metadata": {},
   "outputs": [
    {
     "data": {
      "text/html": [
       "<div>\n",
       "<style scoped>\n",
       "    .dataframe tbody tr th:only-of-type {\n",
       "        vertical-align: middle;\n",
       "    }\n",
       "\n",
       "    .dataframe tbody tr th {\n",
       "        vertical-align: top;\n",
       "    }\n",
       "\n",
       "    .dataframe thead th {\n",
       "        text-align: right;\n",
       "    }\n",
       "</style>\n",
       "<table border=\"1\" class=\"dataframe\">\n",
       "  <thead>\n",
       "    <tr style=\"text-align: right;\">\n",
       "      <th></th>\n",
       "      <th>user_id</th>\n",
       "      <th>candidates</th>\n",
       "    </tr>\n",
       "  </thead>\n",
       "  <tbody>\n",
       "    <tr>\n",
       "      <th>0</th>\n",
       "      <td>2070</td>\n",
       "      <td>[1107553, 1042942, 9526410, 879755, 9527290, 8...</td>\n",
       "    </tr>\n",
       "    <tr>\n",
       "      <th>1</th>\n",
       "      <td>2021</td>\n",
       "      <td>[981521, 12731544, 1013928, 1009333, 1019142, ...</td>\n",
       "    </tr>\n",
       "    <tr>\n",
       "      <th>2</th>\n",
       "      <td>1753</td>\n",
       "      <td>[1110572, 926422, 991951, 861445, 879755, 1037...</td>\n",
       "    </tr>\n",
       "  </tbody>\n",
       "</table>\n",
       "</div>"
      ],
      "text/plain": [
       "   user_id                                         candidates\n",
       "0     2070  [1107553, 1042942, 9526410, 879755, 9527290, 8...\n",
       "1     2021  [981521, 12731544, 1013928, 1009333, 1019142, ...\n",
       "2     1753  [1110572, 926422, 991951, 861445, 879755, 1037..."
      ]
     },
     "execution_count": 27,
     "metadata": {},
     "output_type": "execute_result"
    }
   ],
   "source": [
    "df_match_candidates.head(3)"
   ]
  },
  {
   "cell_type": "markdown",
   "id": "db33ccec-c0b2-4729-99a5-f61deccbd5c2",
   "metadata": {},
   "source": [
    "Разворачиваем кандидатов, чтобы в каждой строке был только один:"
   ]
  },
  {
   "cell_type": "code",
   "execution_count": 28,
   "id": "53b39f89-deeb-4986-925c-bde6c60cea2a",
   "metadata": {},
   "outputs": [],
   "source": [
    "df_items = df_match_candidates.apply(lambda x: pd.Series(x['candidates']), axis=1).stack().reset_index(level=1, drop=True)\n",
    "df_items.name = 'item_id'"
   ]
  },
  {
   "cell_type": "code",
   "execution_count": 29,
   "id": "69d53d86-de29-44af-999d-1204a7e52ae8",
   "metadata": {},
   "outputs": [],
   "source": [
    "df_match_candidates = df_match_candidates.drop('candidates', axis=1).join(df_items)"
   ]
  },
  {
   "cell_type": "code",
   "execution_count": 30,
   "id": "da66390b-34f3-49aa-955b-3acb77ff8177",
   "metadata": {},
   "outputs": [
    {
     "data": {
      "text/html": [
       "<div>\n",
       "<style scoped>\n",
       "    .dataframe tbody tr th:only-of-type {\n",
       "        vertical-align: middle;\n",
       "    }\n",
       "\n",
       "    .dataframe tbody tr th {\n",
       "        vertical-align: top;\n",
       "    }\n",
       "\n",
       "    .dataframe thead th {\n",
       "        text-align: right;\n",
       "    }\n",
       "</style>\n",
       "<table border=\"1\" class=\"dataframe\">\n",
       "  <thead>\n",
       "    <tr style=\"text-align: right;\">\n",
       "      <th></th>\n",
       "      <th>user_id</th>\n",
       "      <th>item_id</th>\n",
       "    </tr>\n",
       "  </thead>\n",
       "  <tbody>\n",
       "    <tr>\n",
       "      <th>0</th>\n",
       "      <td>2070</td>\n",
       "      <td>1107553</td>\n",
       "    </tr>\n",
       "    <tr>\n",
       "      <th>0</th>\n",
       "      <td>2070</td>\n",
       "      <td>1042942</td>\n",
       "    </tr>\n",
       "    <tr>\n",
       "      <th>0</th>\n",
       "      <td>2070</td>\n",
       "      <td>9526410</td>\n",
       "    </tr>\n",
       "    <tr>\n",
       "      <th>0</th>\n",
       "      <td>2070</td>\n",
       "      <td>879755</td>\n",
       "    </tr>\n",
       "    <tr>\n",
       "      <th>0</th>\n",
       "      <td>2070</td>\n",
       "      <td>9527290</td>\n",
       "    </tr>\n",
       "  </tbody>\n",
       "</table>\n",
       "</div>"
      ],
      "text/plain": [
       "   user_id  item_id\n",
       "0     2070  1107553\n",
       "0     2070  1042942\n",
       "0     2070  9526410\n",
       "0     2070   879755\n",
       "0     2070  9527290"
      ]
     },
     "execution_count": 30,
     "metadata": {},
     "output_type": "execute_result"
    }
   ],
   "source": [
    "df_match_candidates.head()"
   ]
  },
  {
   "cell_type": "markdown",
   "id": "f8b45f67-6464-47a9-9752-db0387d11d5a",
   "metadata": {},
   "source": [
    "### Создаем трейн сет для ранжирования с учетом кандидатов с этапа 1 "
   ]
  },
  {
   "cell_type": "code",
   "execution_count": 31,
   "id": "02f3bbb4-6544-40d9-94c4-0d47caba4535",
   "metadata": {},
   "outputs": [],
   "source": [
    "df_ranker_train = data_train_ranker[[USER_COL, ITEM_COL]].copy()\n",
    "df_ranker_train['target'] = 1  # тут только покупки "
   ]
  },
  {
   "cell_type": "code",
   "execution_count": 32,
   "id": "d1955438-1eb7-49a7-8c5f-7342cab27070",
   "metadata": {},
   "outputs": [
    {
     "data": {
      "text/html": [
       "<div>\n",
       "<style scoped>\n",
       "    .dataframe tbody tr th:only-of-type {\n",
       "        vertical-align: middle;\n",
       "    }\n",
       "\n",
       "    .dataframe tbody tr th {\n",
       "        vertical-align: top;\n",
       "    }\n",
       "\n",
       "    .dataframe thead th {\n",
       "        text-align: right;\n",
       "    }\n",
       "</style>\n",
       "<table border=\"1\" class=\"dataframe\">\n",
       "  <thead>\n",
       "    <tr style=\"text-align: right;\">\n",
       "      <th></th>\n",
       "      <th>user_id</th>\n",
       "      <th>item_id</th>\n",
       "      <th>target</th>\n",
       "    </tr>\n",
       "  </thead>\n",
       "  <tbody>\n",
       "    <tr>\n",
       "      <th>2104867</th>\n",
       "      <td>2070</td>\n",
       "      <td>1019940</td>\n",
       "      <td>1</td>\n",
       "    </tr>\n",
       "    <tr>\n",
       "      <th>2107468</th>\n",
       "      <td>2021</td>\n",
       "      <td>840361</td>\n",
       "      <td>1</td>\n",
       "    </tr>\n",
       "    <tr>\n",
       "      <th>2107469</th>\n",
       "      <td>2021</td>\n",
       "      <td>856060</td>\n",
       "      <td>1</td>\n",
       "    </tr>\n",
       "    <tr>\n",
       "      <th>2107470</th>\n",
       "      <td>2021</td>\n",
       "      <td>869344</td>\n",
       "      <td>1</td>\n",
       "    </tr>\n",
       "    <tr>\n",
       "      <th>2107471</th>\n",
       "      <td>2021</td>\n",
       "      <td>896862</td>\n",
       "      <td>1</td>\n",
       "    </tr>\n",
       "    <tr>\n",
       "      <th>...</th>\n",
       "      <td>...</td>\n",
       "      <td>...</td>\n",
       "      <td>...</td>\n",
       "    </tr>\n",
       "    <tr>\n",
       "      <th>2282320</th>\n",
       "      <td>222</td>\n",
       "      <td>1120741</td>\n",
       "      <td>1</td>\n",
       "    </tr>\n",
       "    <tr>\n",
       "      <th>2282321</th>\n",
       "      <td>462</td>\n",
       "      <td>993339</td>\n",
       "      <td>1</td>\n",
       "    </tr>\n",
       "    <tr>\n",
       "      <th>2282322</th>\n",
       "      <td>462</td>\n",
       "      <td>995242</td>\n",
       "      <td>1</td>\n",
       "    </tr>\n",
       "    <tr>\n",
       "      <th>2282323</th>\n",
       "      <td>462</td>\n",
       "      <td>10180324</td>\n",
       "      <td>1</td>\n",
       "    </tr>\n",
       "    <tr>\n",
       "      <th>2282324</th>\n",
       "      <td>462</td>\n",
       "      <td>12731714</td>\n",
       "      <td>1</td>\n",
       "    </tr>\n",
       "  </tbody>\n",
       "</table>\n",
       "<p>169686 rows × 3 columns</p>\n",
       "</div>"
      ],
      "text/plain": [
       "         user_id   item_id  target\n",
       "2104867     2070   1019940       1\n",
       "2107468     2021    840361       1\n",
       "2107469     2021    856060       1\n",
       "2107470     2021    869344       1\n",
       "2107471     2021    896862       1\n",
       "...          ...       ...     ...\n",
       "2282320      222   1120741       1\n",
       "2282321      462    993339       1\n",
       "2282322      462    995242       1\n",
       "2282323      462  10180324       1\n",
       "2282324      462  12731714       1\n",
       "\n",
       "[169686 rows x 3 columns]"
      ]
     },
     "execution_count": 32,
     "metadata": {},
     "output_type": "execute_result"
    }
   ],
   "source": [
    "df_ranker_train"
   ]
  },
  {
   "cell_type": "markdown",
   "id": "d4ce94d6-3a72-46d3-8772-76c6f767c8f6",
   "metadata": {},
   "source": [
    "Добавляем кандитатов в датасет в качестве нулей:"
   ]
  },
  {
   "cell_type": "code",
   "execution_count": 33,
   "id": "f46f7c51-a299-4c05-a814-278ce231425e",
   "metadata": {
    "scrolled": true
   },
   "outputs": [],
   "source": [
    "df_ranker_train = df_match_candidates.merge(df_ranker_train, on=[USER_COL, ITEM_COL], how='left')\n",
    "\n",
    "# чистим дубликаты\n",
    "df_ranker_train = df_ranker_train.drop_duplicates(subset=[USER_COL, ITEM_COL])\n",
    "\n",
    "df_ranker_train['target'].fillna(0, inplace= True)"
   ]
  },
  {
   "cell_type": "markdown",
   "id": "a8123df8-7f41-4ee5-8182-847ff0c4e119",
   "metadata": {},
   "source": [
    "Посмотрим на баланс классов:"
   ]
  },
  {
   "cell_type": "code",
   "execution_count": 34,
   "id": "04e9d2b3-abf9-4082-8d74-c27c93a4a6a6",
   "metadata": {},
   "outputs": [
    {
     "data": {
      "text/plain": [
       "0.0    101469\n",
       "1.0      6131\n",
       "Name: target, dtype: int64"
      ]
     },
     "execution_count": 34,
     "metadata": {},
     "output_type": "execute_result"
    }
   ],
   "source": [
    "df_ranker_train.target.value_counts()"
   ]
  },
  {
   "cell_type": "code",
   "execution_count": 35,
   "id": "68dc36fb-6f5d-4366-9682-bd879da3fb06",
   "metadata": {},
   "outputs": [
    {
     "data": {
      "text/html": [
       "<div>\n",
       "<style scoped>\n",
       "    .dataframe tbody tr th:only-of-type {\n",
       "        vertical-align: middle;\n",
       "    }\n",
       "\n",
       "    .dataframe tbody tr th {\n",
       "        vertical-align: top;\n",
       "    }\n",
       "\n",
       "    .dataframe thead th {\n",
       "        text-align: right;\n",
       "    }\n",
       "</style>\n",
       "<table border=\"1\" class=\"dataframe\">\n",
       "  <thead>\n",
       "    <tr style=\"text-align: right;\">\n",
       "      <th></th>\n",
       "      <th>user_id</th>\n",
       "      <th>item_id</th>\n",
       "      <th>target</th>\n",
       "    </tr>\n",
       "  </thead>\n",
       "  <tbody>\n",
       "    <tr>\n",
       "      <th>0</th>\n",
       "      <td>2070</td>\n",
       "      <td>1107553</td>\n",
       "      <td>0.0</td>\n",
       "    </tr>\n",
       "    <tr>\n",
       "      <th>1</th>\n",
       "      <td>2070</td>\n",
       "      <td>1042942</td>\n",
       "      <td>0.0</td>\n",
       "    </tr>\n",
       "    <tr>\n",
       "      <th>2</th>\n",
       "      <td>2070</td>\n",
       "      <td>9526410</td>\n",
       "      <td>0.0</td>\n",
       "    </tr>\n",
       "    <tr>\n",
       "      <th>3</th>\n",
       "      <td>2070</td>\n",
       "      <td>879755</td>\n",
       "      <td>0.0</td>\n",
       "    </tr>\n",
       "    <tr>\n",
       "      <th>4</th>\n",
       "      <td>2070</td>\n",
       "      <td>9527290</td>\n",
       "      <td>0.0</td>\n",
       "    </tr>\n",
       "    <tr>\n",
       "      <th>...</th>\n",
       "      <td>...</td>\n",
       "      <td>...</td>\n",
       "      <td>...</td>\n",
       "    </tr>\n",
       "    <tr>\n",
       "      <th>110177</th>\n",
       "      <td>1745</td>\n",
       "      <td>969205</td>\n",
       "      <td>0.0</td>\n",
       "    </tr>\n",
       "    <tr>\n",
       "      <th>110178</th>\n",
       "      <td>1745</td>\n",
       "      <td>5585510</td>\n",
       "      <td>0.0</td>\n",
       "    </tr>\n",
       "    <tr>\n",
       "      <th>110179</th>\n",
       "      <td>1745</td>\n",
       "      <td>1071171</td>\n",
       "      <td>0.0</td>\n",
       "    </tr>\n",
       "    <tr>\n",
       "      <th>110180</th>\n",
       "      <td>1745</td>\n",
       "      <td>948832</td>\n",
       "      <td>0.0</td>\n",
       "    </tr>\n",
       "    <tr>\n",
       "      <th>110181</th>\n",
       "      <td>1745</td>\n",
       "      <td>1070214</td>\n",
       "      <td>0.0</td>\n",
       "    </tr>\n",
       "  </tbody>\n",
       "</table>\n",
       "<p>107600 rows × 3 columns</p>\n",
       "</div>"
      ],
      "text/plain": [
       "        user_id  item_id  target\n",
       "0          2070  1107553     0.0\n",
       "1          2070  1042942     0.0\n",
       "2          2070  9526410     0.0\n",
       "3          2070   879755     0.0\n",
       "4          2070  9527290     0.0\n",
       "...         ...      ...     ...\n",
       "110177     1745   969205     0.0\n",
       "110178     1745  5585510     0.0\n",
       "110179     1745  1071171     0.0\n",
       "110180     1745   948832     0.0\n",
       "110181     1745  1070214     0.0\n",
       "\n",
       "[107600 rows x 3 columns]"
      ]
     },
     "execution_count": 35,
     "metadata": {},
     "output_type": "execute_result"
    }
   ],
   "source": [
    "df_ranker_train"
   ]
  },
  {
   "cell_type": "code",
   "execution_count": 36,
   "id": "81ba6fd8-50cc-4589-9e06-f49c6266ef6e",
   "metadata": {},
   "outputs": [
    {
     "data": {
      "text/plain": [
       "0.05697955390334573"
      ]
     },
     "execution_count": 36,
     "metadata": {},
     "output_type": "execute_result"
    }
   ],
   "source": [
    "df_ranker_train['target'].mean()"
   ]
  },
  {
   "cell_type": "markdown",
   "id": "97f58fa4-024d-42f4-8d52-78b24111aade",
   "metadata": {},
   "source": [
    "## Подготавливаем фичи для обучения модели"
   ]
  },
  {
   "cell_type": "code",
   "execution_count": 37,
   "id": "f724cb6d-31a7-42a8-9123-994375bb953d",
   "metadata": {},
   "outputs": [
    {
     "data": {
      "text/html": [
       "<div>\n",
       "<style scoped>\n",
       "    .dataframe tbody tr th:only-of-type {\n",
       "        vertical-align: middle;\n",
       "    }\n",
       "\n",
       "    .dataframe tbody tr th {\n",
       "        vertical-align: top;\n",
       "    }\n",
       "\n",
       "    .dataframe thead th {\n",
       "        text-align: right;\n",
       "    }\n",
       "</style>\n",
       "<table border=\"1\" class=\"dataframe\">\n",
       "  <thead>\n",
       "    <tr style=\"text-align: right;\">\n",
       "      <th></th>\n",
       "      <th>item_id</th>\n",
       "      <th>manufacturer</th>\n",
       "      <th>department</th>\n",
       "      <th>brand</th>\n",
       "      <th>commodity_desc</th>\n",
       "      <th>sub_commodity_desc</th>\n",
       "      <th>curr_size_of_product</th>\n",
       "    </tr>\n",
       "  </thead>\n",
       "  <tbody>\n",
       "    <tr>\n",
       "      <th>0</th>\n",
       "      <td>25671</td>\n",
       "      <td>2</td>\n",
       "      <td>GROCERY</td>\n",
       "      <td>National</td>\n",
       "      <td>FRZN ICE</td>\n",
       "      <td>ICE - CRUSHED/CUBED</td>\n",
       "      <td>22 LB</td>\n",
       "    </tr>\n",
       "    <tr>\n",
       "      <th>1</th>\n",
       "      <td>26081</td>\n",
       "      <td>2</td>\n",
       "      <td>MISC. TRANS.</td>\n",
       "      <td>National</td>\n",
       "      <td>NO COMMODITY DESCRIPTION</td>\n",
       "      <td>NO SUBCOMMODITY DESCRIPTION</td>\n",
       "      <td></td>\n",
       "    </tr>\n",
       "  </tbody>\n",
       "</table>\n",
       "</div>"
      ],
      "text/plain": [
       "   item_id  manufacturer    department     brand            commodity_desc  \\\n",
       "0    25671             2       GROCERY  National                  FRZN ICE   \n",
       "1    26081             2  MISC. TRANS.  National  NO COMMODITY DESCRIPTION   \n",
       "\n",
       "            sub_commodity_desc curr_size_of_product  \n",
       "0          ICE - CRUSHED/CUBED                22 LB  \n",
       "1  NO SUBCOMMODITY DESCRIPTION                       "
      ]
     },
     "execution_count": 37,
     "metadata": {},
     "output_type": "execute_result"
    }
   ],
   "source": [
    "item_features.head(2)"
   ]
  },
  {
   "cell_type": "code",
   "execution_count": 38,
   "id": "639e6aff-c9a5-445b-b662-419276eee04b",
   "metadata": {},
   "outputs": [
    {
     "data": {
      "text/html": [
       "<div>\n",
       "<style scoped>\n",
       "    .dataframe tbody tr th:only-of-type {\n",
       "        vertical-align: middle;\n",
       "    }\n",
       "\n",
       "    .dataframe tbody tr th {\n",
       "        vertical-align: top;\n",
       "    }\n",
       "\n",
       "    .dataframe thead th {\n",
       "        text-align: right;\n",
       "    }\n",
       "</style>\n",
       "<table border=\"1\" class=\"dataframe\">\n",
       "  <thead>\n",
       "    <tr style=\"text-align: right;\">\n",
       "      <th></th>\n",
       "      <th>age_desc</th>\n",
       "      <th>marital_status_code</th>\n",
       "      <th>income_desc</th>\n",
       "      <th>homeowner_desc</th>\n",
       "      <th>hh_comp_desc</th>\n",
       "      <th>household_size_desc</th>\n",
       "      <th>kid_category_desc</th>\n",
       "      <th>user_id</th>\n",
       "    </tr>\n",
       "  </thead>\n",
       "  <tbody>\n",
       "    <tr>\n",
       "      <th>0</th>\n",
       "      <td>65+</td>\n",
       "      <td>A</td>\n",
       "      <td>35-49K</td>\n",
       "      <td>Homeowner</td>\n",
       "      <td>2 Adults No Kids</td>\n",
       "      <td>2</td>\n",
       "      <td>None/Unknown</td>\n",
       "      <td>1</td>\n",
       "    </tr>\n",
       "    <tr>\n",
       "      <th>1</th>\n",
       "      <td>45-54</td>\n",
       "      <td>A</td>\n",
       "      <td>50-74K</td>\n",
       "      <td>Homeowner</td>\n",
       "      <td>2 Adults No Kids</td>\n",
       "      <td>2</td>\n",
       "      <td>None/Unknown</td>\n",
       "      <td>7</td>\n",
       "    </tr>\n",
       "  </tbody>\n",
       "</table>\n",
       "</div>"
      ],
      "text/plain": [
       "  age_desc marital_status_code income_desc homeowner_desc      hh_comp_desc  \\\n",
       "0      65+                   A      35-49K      Homeowner  2 Adults No Kids   \n",
       "1    45-54                   A      50-74K      Homeowner  2 Adults No Kids   \n",
       "\n",
       "  household_size_desc kid_category_desc  user_id  \n",
       "0                   2      None/Unknown        1  \n",
       "1                   2      None/Unknown        7  "
      ]
     },
     "execution_count": 38,
     "metadata": {},
     "output_type": "execute_result"
    }
   ],
   "source": [
    "user_features.head(2)"
   ]
  },
  {
   "cell_type": "code",
   "execution_count": 39,
   "id": "c24fdbc3-71b3-46e8-b414-3613e6ceb6d5",
   "metadata": {},
   "outputs": [
    {
     "data": {
      "text/html": [
       "<div>\n",
       "<style scoped>\n",
       "    .dataframe tbody tr th:only-of-type {\n",
       "        vertical-align: middle;\n",
       "    }\n",
       "\n",
       "    .dataframe tbody tr th {\n",
       "        vertical-align: top;\n",
       "    }\n",
       "\n",
       "    .dataframe thead th {\n",
       "        text-align: right;\n",
       "    }\n",
       "</style>\n",
       "<table border=\"1\" class=\"dataframe\">\n",
       "  <thead>\n",
       "    <tr style=\"text-align: right;\">\n",
       "      <th></th>\n",
       "      <th>user_id</th>\n",
       "      <th>item_id</th>\n",
       "      <th>target</th>\n",
       "      <th>manufacturer</th>\n",
       "      <th>department</th>\n",
       "      <th>brand</th>\n",
       "      <th>commodity_desc</th>\n",
       "      <th>sub_commodity_desc</th>\n",
       "      <th>curr_size_of_product</th>\n",
       "      <th>age_desc</th>\n",
       "      <th>marital_status_code</th>\n",
       "      <th>income_desc</th>\n",
       "      <th>homeowner_desc</th>\n",
       "      <th>hh_comp_desc</th>\n",
       "      <th>household_size_desc</th>\n",
       "      <th>kid_category_desc</th>\n",
       "    </tr>\n",
       "  </thead>\n",
       "  <tbody>\n",
       "    <tr>\n",
       "      <th>0</th>\n",
       "      <td>2070</td>\n",
       "      <td>1107553</td>\n",
       "      <td>0.0</td>\n",
       "      <td>103</td>\n",
       "      <td>GROCERY</td>\n",
       "      <td>National</td>\n",
       "      <td>SOFT DRINKS</td>\n",
       "      <td>SFT DRNK SNGL SRV BTL CARB (EX</td>\n",
       "      <td>20 OZ</td>\n",
       "      <td>45-54</td>\n",
       "      <td>U</td>\n",
       "      <td>50-74K</td>\n",
       "      <td>Unknown</td>\n",
       "      <td>Unknown</td>\n",
       "      <td>1</td>\n",
       "      <td>None/Unknown</td>\n",
       "    </tr>\n",
       "    <tr>\n",
       "      <th>1</th>\n",
       "      <td>2070</td>\n",
       "      <td>1042942</td>\n",
       "      <td>0.0</td>\n",
       "      <td>69</td>\n",
       "      <td>GROCERY</td>\n",
       "      <td>Private</td>\n",
       "      <td>ICE CREAM/MILK/SHERBTS</td>\n",
       "      <td>PAILS</td>\n",
       "      <td>4 QT</td>\n",
       "      <td>45-54</td>\n",
       "      <td>U</td>\n",
       "      <td>50-74K</td>\n",
       "      <td>Unknown</td>\n",
       "      <td>Unknown</td>\n",
       "      <td>1</td>\n",
       "      <td>None/Unknown</td>\n",
       "    </tr>\n",
       "  </tbody>\n",
       "</table>\n",
       "</div>"
      ],
      "text/plain": [
       "   user_id  item_id  target  manufacturer department     brand  \\\n",
       "0     2070  1107553     0.0           103    GROCERY  National   \n",
       "1     2070  1042942     0.0            69    GROCERY   Private   \n",
       "\n",
       "           commodity_desc              sub_commodity_desc  \\\n",
       "0             SOFT DRINKS  SFT DRNK SNGL SRV BTL CARB (EX   \n",
       "1  ICE CREAM/MILK/SHERBTS                           PAILS   \n",
       "\n",
       "  curr_size_of_product age_desc marital_status_code income_desc  \\\n",
       "0                20 OZ    45-54                   U      50-74K   \n",
       "1                 4 QT    45-54                   U      50-74K   \n",
       "\n",
       "  homeowner_desc hh_comp_desc household_size_desc kid_category_desc  \n",
       "0        Unknown      Unknown                   1      None/Unknown  \n",
       "1        Unknown      Unknown                   1      None/Unknown  "
      ]
     },
     "execution_count": 39,
     "metadata": {},
     "output_type": "execute_result"
    }
   ],
   "source": [
    "df_ranker_train = df_ranker_train.merge(item_features, on='item_id', how='left')\n",
    "df_ranker_train = df_ranker_train.merge(user_features, on='user_id', how='left')\n",
    "\n",
    "df_ranker_train.head(2)"
   ]
  },
  {
   "cell_type": "markdown",
   "id": "e35f7c28-adb1-4439-9f0c-826a8dd420b0",
   "metadata": {},
   "source": [
    "**Фичи user_id:**\n",
    "    - Средний чек\n",
    "    - Средняя сумма покупки 1 товара в каждой категории\n",
    "    - Кол-во покупок в каждой категории\n",
    "    - Частотность покупок раз/месяц\n",
    "    - Долю покупок в выходные\n",
    "    - Долю покупок утром/днем/вечером\n",
    "\n",
    "**Фичи item_id**:\n",
    "    - Кол-во покупок в неделю\n",
    "    - Среднее кол-во покупок 1 товара в категории в неделю\n",
    "    - (Кол-во покупок в неделю) / (Среднее ол-во покупок 1 товара в категории в неделю)\n",
    "    - Цена (Можно посчитать из retil_train.csv)\n",
    "    - Цена / Средняя цена товара в категории\n",
    "    \n",
    "**Фичи пары user_id - item_id**\n",
    "    - (Средняя сумма покупки 1 товара в каждой категории (берем категорию item_id)) - (Цена item_id)\n",
    "    - (Кол-во покупок юзером конкретной категории в неделю) - (Среднее кол-во покупок всеми юзерами конкретной категории в неделю)\n",
    "    - (Кол-во покупок юзером конкретной категории в неделю) / (Среднее кол-во покупок всеми юзерами конкретной категории в неделю)"
   ]
  },
  {
   "cell_type": "markdown",
   "id": "902a0e24-afa3-4623-a6d3-8d27089f14ce",
   "metadata": {},
   "source": [
    "#### Фичи user_id"
   ]
  },
  {
   "cell_type": "code",
   "execution_count": 40,
   "id": "11da9cae-8965-4ab8-b84f-1e6f2b988454",
   "metadata": {},
   "outputs": [],
   "source": [
    "# Средний чек\n",
    "df_ranker_train = df_ranker_train.merge(data_train_matcher.groupby(USER_COL, sort=False)['sales_value']. \\\n",
    "                                    mean().reset_index(), how='left', on=USER_COL)\n",
    "df_ranker_train.rename(columns={'sales_value': 'avg_bill'}, inplace=True)"
   ]
  },
  {
   "cell_type": "code",
   "execution_count": 41,
   "id": "2a94928e-c539-478f-95dd-2fde6435cc26",
   "metadata": {},
   "outputs": [],
   "source": [
    "# Средняя сумма покупки 1 товара в каждой категории\n",
    "data_train_matcher = data_train_matcher.merge(item_features[[ITEM_COL, 'department']], how='left', on=ITEM_COL)\n",
    "df_ranker_train = df_ranker_train.merge(data_train_matcher.groupby([USER_COL, 'department'], sort=False)['sales_value'] \\\n",
    "                                        .mean().reset_index(), how='left', on=[USER_COL, 'department']). \\\n",
    "                                        rename(columns={'sales_value': 'avg_cat_spendings'})"
   ]
  },
  {
   "cell_type": "code",
   "execution_count": 42,
   "id": "201653f1-ec2c-4c15-a682-729f3922bbd5",
   "metadata": {},
   "outputs": [
    {
     "data": {
      "text/html": [
       "<div>\n",
       "<style scoped>\n",
       "    .dataframe tbody tr th:only-of-type {\n",
       "        vertical-align: middle;\n",
       "    }\n",
       "\n",
       "    .dataframe tbody tr th {\n",
       "        vertical-align: top;\n",
       "    }\n",
       "\n",
       "    .dataframe thead th {\n",
       "        text-align: right;\n",
       "    }\n",
       "</style>\n",
       "<table border=\"1\" class=\"dataframe\">\n",
       "  <thead>\n",
       "    <tr style=\"text-align: right;\">\n",
       "      <th></th>\n",
       "      <th>user_id</th>\n",
       "      <th>item_id</th>\n",
       "      <th>target</th>\n",
       "      <th>manufacturer</th>\n",
       "      <th>department</th>\n",
       "      <th>brand</th>\n",
       "      <th>commodity_desc</th>\n",
       "      <th>sub_commodity_desc</th>\n",
       "      <th>curr_size_of_product</th>\n",
       "      <th>age_desc</th>\n",
       "      <th>marital_status_code</th>\n",
       "      <th>income_desc</th>\n",
       "      <th>homeowner_desc</th>\n",
       "      <th>hh_comp_desc</th>\n",
       "      <th>household_size_desc</th>\n",
       "      <th>kid_category_desc</th>\n",
       "      <th>avg_bill</th>\n",
       "      <th>avg_cat_spendings</th>\n",
       "    </tr>\n",
       "  </thead>\n",
       "  <tbody>\n",
       "    <tr>\n",
       "      <th>0</th>\n",
       "      <td>2070</td>\n",
       "      <td>1107553</td>\n",
       "      <td>0.0</td>\n",
       "      <td>103</td>\n",
       "      <td>GROCERY</td>\n",
       "      <td>National</td>\n",
       "      <td>SOFT DRINKS</td>\n",
       "      <td>SFT DRNK SNGL SRV BTL CARB (EX</td>\n",
       "      <td>20 OZ</td>\n",
       "      <td>45-54</td>\n",
       "      <td>U</td>\n",
       "      <td>50-74K</td>\n",
       "      <td>Unknown</td>\n",
       "      <td>Unknown</td>\n",
       "      <td>1</td>\n",
       "      <td>None/Unknown</td>\n",
       "      <td>3.562354</td>\n",
       "      <td>2.523977</td>\n",
       "    </tr>\n",
       "    <tr>\n",
       "      <th>1</th>\n",
       "      <td>2070</td>\n",
       "      <td>1042942</td>\n",
       "      <td>0.0</td>\n",
       "      <td>69</td>\n",
       "      <td>GROCERY</td>\n",
       "      <td>Private</td>\n",
       "      <td>ICE CREAM/MILK/SHERBTS</td>\n",
       "      <td>PAILS</td>\n",
       "      <td>4 QT</td>\n",
       "      <td>45-54</td>\n",
       "      <td>U</td>\n",
       "      <td>50-74K</td>\n",
       "      <td>Unknown</td>\n",
       "      <td>Unknown</td>\n",
       "      <td>1</td>\n",
       "      <td>None/Unknown</td>\n",
       "      <td>3.562354</td>\n",
       "      <td>2.523977</td>\n",
       "    </tr>\n",
       "    <tr>\n",
       "      <th>2</th>\n",
       "      <td>2070</td>\n",
       "      <td>9526410</td>\n",
       "      <td>0.0</td>\n",
       "      <td>544</td>\n",
       "      <td>GROCERY</td>\n",
       "      <td>National</td>\n",
       "      <td>BAG SNACKS</td>\n",
       "      <td>POTATO CHIPS</td>\n",
       "      <td>11.5 OZ</td>\n",
       "      <td>45-54</td>\n",
       "      <td>U</td>\n",
       "      <td>50-74K</td>\n",
       "      <td>Unknown</td>\n",
       "      <td>Unknown</td>\n",
       "      <td>1</td>\n",
       "      <td>None/Unknown</td>\n",
       "      <td>3.562354</td>\n",
       "      <td>2.523977</td>\n",
       "    </tr>\n",
       "  </tbody>\n",
       "</table>\n",
       "</div>"
      ],
      "text/plain": [
       "   user_id  item_id  target  manufacturer department     brand  \\\n",
       "0     2070  1107553     0.0           103    GROCERY  National   \n",
       "1     2070  1042942     0.0            69    GROCERY   Private   \n",
       "2     2070  9526410     0.0           544    GROCERY  National   \n",
       "\n",
       "           commodity_desc              sub_commodity_desc  \\\n",
       "0             SOFT DRINKS  SFT DRNK SNGL SRV BTL CARB (EX   \n",
       "1  ICE CREAM/MILK/SHERBTS                           PAILS   \n",
       "2              BAG SNACKS                    POTATO CHIPS   \n",
       "\n",
       "  curr_size_of_product age_desc marital_status_code income_desc  \\\n",
       "0                20 OZ    45-54                   U      50-74K   \n",
       "1                 4 QT    45-54                   U      50-74K   \n",
       "2              11.5 OZ    45-54                   U      50-74K   \n",
       "\n",
       "  homeowner_desc hh_comp_desc household_size_desc kid_category_desc  avg_bill  \\\n",
       "0        Unknown      Unknown                   1      None/Unknown  3.562354   \n",
       "1        Unknown      Unknown                   1      None/Unknown  3.562354   \n",
       "2        Unknown      Unknown                   1      None/Unknown  3.562354   \n",
       "\n",
       "   avg_cat_spendings  \n",
       "0           2.523977  \n",
       "1           2.523977  \n",
       "2           2.523977  "
      ]
     },
     "execution_count": 42,
     "metadata": {},
     "output_type": "execute_result"
    }
   ],
   "source": [
    "df_ranker_train.head(3)"
   ]
  },
  {
   "cell_type": "markdown",
   "id": "6c2d2d82-5bf5-4f19-8832-14fa96d106e6",
   "metadata": {},
   "source": [
    "#### Фичи item_id"
   ]
  },
  {
   "cell_type": "code",
   "execution_count": 43,
   "id": "f421fc28-6404-4070-b2b0-8a60e58d851a",
   "metadata": {},
   "outputs": [],
   "source": [
    "# Кол-во покупок в неделю\n",
    "df_ranker_train = df_ranker_train.merge((data_train_matcher.groupby(ITEM_COL, sort=False)['quantity'] \\\n",
    "                                         .count() / data_train_matcher['week_no'].nunique()).reset_index(), how='left', on=ITEM_COL)\n",
    "\n",
    "df_ranker_train.rename(columns={'quantity': 'avg_week_purchases'}, inplace=True)"
   ]
  },
  {
   "cell_type": "code",
   "execution_count": 44,
   "id": "dc981bf5-80e1-45b0-b443-d73673b25cb3",
   "metadata": {},
   "outputs": [],
   "source": [
    "# Среднее кол-во покупок 1 товара в категории в неделю\n",
    "df_ranker_train = df_ranker_train.merge((data_train_matcher.groupby('department', sort=False)['quantity'] \\\n",
    "                                         .count() / data_train_matcher['week_no'].nunique()).reset_index(), \\\n",
    "                                        how='left', on='department').rename(columns={'quantity': 'avg_week_purchases_cat'})"
   ]
  },
  {
   "cell_type": "code",
   "execution_count": 45,
   "id": "6ae62136-a1e1-4f32-85bd-fed3347569b3",
   "metadata": {},
   "outputs": [
    {
     "data": {
      "text/html": [
       "<div>\n",
       "<style scoped>\n",
       "    .dataframe tbody tr th:only-of-type {\n",
       "        vertical-align: middle;\n",
       "    }\n",
       "\n",
       "    .dataframe tbody tr th {\n",
       "        vertical-align: top;\n",
       "    }\n",
       "\n",
       "    .dataframe thead th {\n",
       "        text-align: right;\n",
       "    }\n",
       "</style>\n",
       "<table border=\"1\" class=\"dataframe\">\n",
       "  <thead>\n",
       "    <tr style=\"text-align: right;\">\n",
       "      <th></th>\n",
       "      <th>user_id</th>\n",
       "      <th>item_id</th>\n",
       "      <th>target</th>\n",
       "      <th>manufacturer</th>\n",
       "      <th>department</th>\n",
       "      <th>brand</th>\n",
       "      <th>commodity_desc</th>\n",
       "      <th>sub_commodity_desc</th>\n",
       "      <th>curr_size_of_product</th>\n",
       "      <th>age_desc</th>\n",
       "      <th>marital_status_code</th>\n",
       "      <th>income_desc</th>\n",
       "      <th>homeowner_desc</th>\n",
       "      <th>hh_comp_desc</th>\n",
       "      <th>household_size_desc</th>\n",
       "      <th>kid_category_desc</th>\n",
       "      <th>avg_bill</th>\n",
       "      <th>avg_cat_spendings</th>\n",
       "      <th>avg_week_purchases</th>\n",
       "      <th>avg_week_purchases_cat</th>\n",
       "    </tr>\n",
       "  </thead>\n",
       "  <tbody>\n",
       "    <tr>\n",
       "      <th>0</th>\n",
       "      <td>2070</td>\n",
       "      <td>1107553</td>\n",
       "      <td>0.0</td>\n",
       "      <td>103</td>\n",
       "      <td>GROCERY</td>\n",
       "      <td>National</td>\n",
       "      <td>SOFT DRINKS</td>\n",
       "      <td>SFT DRNK SNGL SRV BTL CARB (EX</td>\n",
       "      <td>20 OZ</td>\n",
       "      <td>45-54</td>\n",
       "      <td>U</td>\n",
       "      <td>50-74K</td>\n",
       "      <td>Unknown</td>\n",
       "      <td>Unknown</td>\n",
       "      <td>1</td>\n",
       "      <td>None/Unknown</td>\n",
       "      <td>3.562354</td>\n",
       "      <td>2.523977</td>\n",
       "      <td>9.035294</td>\n",
       "      <td>7342.223529</td>\n",
       "    </tr>\n",
       "    <tr>\n",
       "      <th>1</th>\n",
       "      <td>2070</td>\n",
       "      <td>1042942</td>\n",
       "      <td>0.0</td>\n",
       "      <td>69</td>\n",
       "      <td>GROCERY</td>\n",
       "      <td>Private</td>\n",
       "      <td>ICE CREAM/MILK/SHERBTS</td>\n",
       "      <td>PAILS</td>\n",
       "      <td>4 QT</td>\n",
       "      <td>45-54</td>\n",
       "      <td>U</td>\n",
       "      <td>50-74K</td>\n",
       "      <td>Unknown</td>\n",
       "      <td>Unknown</td>\n",
       "      <td>1</td>\n",
       "      <td>None/Unknown</td>\n",
       "      <td>3.562354</td>\n",
       "      <td>2.523977</td>\n",
       "      <td>3.282353</td>\n",
       "      <td>7342.223529</td>\n",
       "    </tr>\n",
       "    <tr>\n",
       "      <th>2</th>\n",
       "      <td>2070</td>\n",
       "      <td>9526410</td>\n",
       "      <td>0.0</td>\n",
       "      <td>544</td>\n",
       "      <td>GROCERY</td>\n",
       "      <td>National</td>\n",
       "      <td>BAG SNACKS</td>\n",
       "      <td>POTATO CHIPS</td>\n",
       "      <td>11.5 OZ</td>\n",
       "      <td>45-54</td>\n",
       "      <td>U</td>\n",
       "      <td>50-74K</td>\n",
       "      <td>Unknown</td>\n",
       "      <td>Unknown</td>\n",
       "      <td>1</td>\n",
       "      <td>None/Unknown</td>\n",
       "      <td>3.562354</td>\n",
       "      <td>2.523977</td>\n",
       "      <td>20.870588</td>\n",
       "      <td>7342.223529</td>\n",
       "    </tr>\n",
       "  </tbody>\n",
       "</table>\n",
       "</div>"
      ],
      "text/plain": [
       "   user_id  item_id  target  manufacturer department     brand  \\\n",
       "0     2070  1107553     0.0           103    GROCERY  National   \n",
       "1     2070  1042942     0.0            69    GROCERY   Private   \n",
       "2     2070  9526410     0.0           544    GROCERY  National   \n",
       "\n",
       "           commodity_desc              sub_commodity_desc  \\\n",
       "0             SOFT DRINKS  SFT DRNK SNGL SRV BTL CARB (EX   \n",
       "1  ICE CREAM/MILK/SHERBTS                           PAILS   \n",
       "2              BAG SNACKS                    POTATO CHIPS   \n",
       "\n",
       "  curr_size_of_product age_desc marital_status_code income_desc  \\\n",
       "0                20 OZ    45-54                   U      50-74K   \n",
       "1                 4 QT    45-54                   U      50-74K   \n",
       "2              11.5 OZ    45-54                   U      50-74K   \n",
       "\n",
       "  homeowner_desc hh_comp_desc household_size_desc kid_category_desc  avg_bill  \\\n",
       "0        Unknown      Unknown                   1      None/Unknown  3.562354   \n",
       "1        Unknown      Unknown                   1      None/Unknown  3.562354   \n",
       "2        Unknown      Unknown                   1      None/Unknown  3.562354   \n",
       "\n",
       "   avg_cat_spendings  avg_week_purchases  avg_week_purchases_cat  \n",
       "0           2.523977            9.035294             7342.223529  \n",
       "1           2.523977            3.282353             7342.223529  \n",
       "2           2.523977           20.870588             7342.223529  "
      ]
     },
     "execution_count": 45,
     "metadata": {},
     "output_type": "execute_result"
    }
   ],
   "source": [
    "df_ranker_train.head(3)"
   ]
  },
  {
   "cell_type": "markdown",
   "id": "5e3f2df8-b9b6-43b0-9ae4-f7c57fe20cb8",
   "metadata": {},
   "source": [
    "#### Фичи пары user_id - item_id"
   ]
  },
  {
   "cell_type": "code",
   "execution_count": 46,
   "id": "5ecfcd3c-79d4-4d17-bcd1-ef3ae0d941b3",
   "metadata": {},
   "outputs": [],
   "source": [
    "# Средняя сумма покупки 1 товара в каждой категории (берем категорию item_id)\n",
    "df_ranker_train = df_ranker_train.merge(data_train_matcher.groupby('department', sort=False)['sales_value'] \\\n",
    "                                         .mean().reset_index(), how='left', on='department') \\\n",
    "                                         .rename(columns={'sales_value': 'avg_cat_spendings_items'})"
   ]
  },
  {
   "cell_type": "code",
   "execution_count": 47,
   "id": "8e647d9e-8aa0-4257-b9fe-d0dc2bbab584",
   "metadata": {},
   "outputs": [],
   "source": [
    "# Кол-во покупок юзером конкретной категории в неделю\n",
    "df_ranker_train = df_ranker_train.merge((data_train_matcher.groupby([USER_COL, 'department'], sort=False)['quantity'] \\\n",
    "                                         .count() / data_train_matcher['week_no'].nunique()).reset_index(), how='left', \\\n",
    "                                        on=[USER_COL, 'department']).rename(columns={'quantity': 'user_week_cat_purchase'})"
   ]
  },
  {
   "cell_type": "code",
   "execution_count": 48,
   "id": "84c02c06-23a7-478f-abe3-2d9ce0403764",
   "metadata": {},
   "outputs": [
    {
     "data": {
      "text/html": [
       "<div>\n",
       "<style scoped>\n",
       "    .dataframe tbody tr th:only-of-type {\n",
       "        vertical-align: middle;\n",
       "    }\n",
       "\n",
       "    .dataframe tbody tr th {\n",
       "        vertical-align: top;\n",
       "    }\n",
       "\n",
       "    .dataframe thead th {\n",
       "        text-align: right;\n",
       "    }\n",
       "</style>\n",
       "<table border=\"1\" class=\"dataframe\">\n",
       "  <thead>\n",
       "    <tr style=\"text-align: right;\">\n",
       "      <th></th>\n",
       "      <th>user_id</th>\n",
       "      <th>item_id</th>\n",
       "      <th>target</th>\n",
       "      <th>manufacturer</th>\n",
       "      <th>department</th>\n",
       "      <th>brand</th>\n",
       "      <th>commodity_desc</th>\n",
       "      <th>sub_commodity_desc</th>\n",
       "      <th>curr_size_of_product</th>\n",
       "      <th>age_desc</th>\n",
       "      <th>...</th>\n",
       "      <th>homeowner_desc</th>\n",
       "      <th>hh_comp_desc</th>\n",
       "      <th>household_size_desc</th>\n",
       "      <th>kid_category_desc</th>\n",
       "      <th>avg_bill</th>\n",
       "      <th>avg_cat_spendings</th>\n",
       "      <th>avg_week_purchases</th>\n",
       "      <th>avg_week_purchases_cat</th>\n",
       "      <th>avg_cat_spendings_items</th>\n",
       "      <th>user_week_cat_purchase</th>\n",
       "    </tr>\n",
       "  </thead>\n",
       "  <tbody>\n",
       "    <tr>\n",
       "      <th>0</th>\n",
       "      <td>2070</td>\n",
       "      <td>1107553</td>\n",
       "      <td>0.0</td>\n",
       "      <td>103</td>\n",
       "      <td>GROCERY</td>\n",
       "      <td>National</td>\n",
       "      <td>SOFT DRINKS</td>\n",
       "      <td>SFT DRNK SNGL SRV BTL CARB (EX</td>\n",
       "      <td>20 OZ</td>\n",
       "      <td>45-54</td>\n",
       "      <td>...</td>\n",
       "      <td>Unknown</td>\n",
       "      <td>Unknown</td>\n",
       "      <td>1</td>\n",
       "      <td>None/Unknown</td>\n",
       "      <td>3.562354</td>\n",
       "      <td>2.523977</td>\n",
       "      <td>9.035294</td>\n",
       "      <td>7342.223529</td>\n",
       "      <td>2.635412</td>\n",
       "      <td>6.094118</td>\n",
       "    </tr>\n",
       "    <tr>\n",
       "      <th>1</th>\n",
       "      <td>2070</td>\n",
       "      <td>1042942</td>\n",
       "      <td>0.0</td>\n",
       "      <td>69</td>\n",
       "      <td>GROCERY</td>\n",
       "      <td>Private</td>\n",
       "      <td>ICE CREAM/MILK/SHERBTS</td>\n",
       "      <td>PAILS</td>\n",
       "      <td>4 QT</td>\n",
       "      <td>45-54</td>\n",
       "      <td>...</td>\n",
       "      <td>Unknown</td>\n",
       "      <td>Unknown</td>\n",
       "      <td>1</td>\n",
       "      <td>None/Unknown</td>\n",
       "      <td>3.562354</td>\n",
       "      <td>2.523977</td>\n",
       "      <td>3.282353</td>\n",
       "      <td>7342.223529</td>\n",
       "      <td>2.635412</td>\n",
       "      <td>6.094118</td>\n",
       "    </tr>\n",
       "    <tr>\n",
       "      <th>2</th>\n",
       "      <td>2070</td>\n",
       "      <td>9526410</td>\n",
       "      <td>0.0</td>\n",
       "      <td>544</td>\n",
       "      <td>GROCERY</td>\n",
       "      <td>National</td>\n",
       "      <td>BAG SNACKS</td>\n",
       "      <td>POTATO CHIPS</td>\n",
       "      <td>11.5 OZ</td>\n",
       "      <td>45-54</td>\n",
       "      <td>...</td>\n",
       "      <td>Unknown</td>\n",
       "      <td>Unknown</td>\n",
       "      <td>1</td>\n",
       "      <td>None/Unknown</td>\n",
       "      <td>3.562354</td>\n",
       "      <td>2.523977</td>\n",
       "      <td>20.870588</td>\n",
       "      <td>7342.223529</td>\n",
       "      <td>2.635412</td>\n",
       "      <td>6.094118</td>\n",
       "    </tr>\n",
       "  </tbody>\n",
       "</table>\n",
       "<p>3 rows × 22 columns</p>\n",
       "</div>"
      ],
      "text/plain": [
       "   user_id  item_id  target  manufacturer department     brand  \\\n",
       "0     2070  1107553     0.0           103    GROCERY  National   \n",
       "1     2070  1042942     0.0            69    GROCERY   Private   \n",
       "2     2070  9526410     0.0           544    GROCERY  National   \n",
       "\n",
       "           commodity_desc              sub_commodity_desc  \\\n",
       "0             SOFT DRINKS  SFT DRNK SNGL SRV BTL CARB (EX   \n",
       "1  ICE CREAM/MILK/SHERBTS                           PAILS   \n",
       "2              BAG SNACKS                    POTATO CHIPS   \n",
       "\n",
       "  curr_size_of_product age_desc  ... homeowner_desc hh_comp_desc  \\\n",
       "0                20 OZ    45-54  ...        Unknown      Unknown   \n",
       "1                 4 QT    45-54  ...        Unknown      Unknown   \n",
       "2              11.5 OZ    45-54  ...        Unknown      Unknown   \n",
       "\n",
       "  household_size_desc kid_category_desc  avg_bill avg_cat_spendings  \\\n",
       "0                   1      None/Unknown  3.562354          2.523977   \n",
       "1                   1      None/Unknown  3.562354          2.523977   \n",
       "2                   1      None/Unknown  3.562354          2.523977   \n",
       "\n",
       "   avg_week_purchases  avg_week_purchases_cat  avg_cat_spendings_items  \\\n",
       "0            9.035294             7342.223529                 2.635412   \n",
       "1            3.282353             7342.223529                 2.635412   \n",
       "2           20.870588             7342.223529                 2.635412   \n",
       "\n",
       "   user_week_cat_purchase  \n",
       "0                6.094118  \n",
       "1                6.094118  \n",
       "2                6.094118  \n",
       "\n",
       "[3 rows x 22 columns]"
      ]
     },
     "execution_count": 48,
     "metadata": {},
     "output_type": "execute_result"
    }
   ],
   "source": [
    "df_ranker_train.head(3)"
   ]
  },
  {
   "cell_type": "markdown",
   "id": "78b7194d-a916-44f6-b9df-319e7aa8ce23",
   "metadata": {},
   "source": [
    "Подготовим датасеты для обучения модели:"
   ]
  },
  {
   "cell_type": "code",
   "execution_count": 49,
   "id": "d6423047-1841-4a9d-bef8-44ed0e28c191",
   "metadata": {},
   "outputs": [],
   "source": [
    "X_train = df_ranker_train.iloc[:, 2:].drop('target', axis=1)\n",
    "y_train = df_ranker_train['target']"
   ]
  },
  {
   "cell_type": "markdown",
   "id": "8bfdbb1e-e144-4611-bf55-05da58a5d5d5",
   "metadata": {},
   "source": [
    "Выделим категориальные признаки для дальнейшей обработки:"
   ]
  },
  {
   "cell_type": "code",
   "execution_count": 50,
   "id": "a26b2f10-711b-4fef-9026-e24452729cbf",
   "metadata": {
    "scrolled": true
   },
   "outputs": [
    {
     "data": {
      "text/plain": [
       "['manufacturer',\n",
       " 'department',\n",
       " 'brand',\n",
       " 'commodity_desc',\n",
       " 'sub_commodity_desc',\n",
       " 'curr_size_of_product',\n",
       " 'age_desc',\n",
       " 'marital_status_code',\n",
       " 'income_desc',\n",
       " 'homeowner_desc',\n",
       " 'hh_comp_desc',\n",
       " 'household_size_desc',\n",
       " 'kid_category_desc']"
      ]
     },
     "execution_count": 50,
     "metadata": {},
     "output_type": "execute_result"
    }
   ],
   "source": [
    "cat_feats = X_train.columns.tolist()[:-6]\n",
    "X_train[cat_feats] = X_train[cat_feats].astype('category')\n",
    "\n",
    "cat_feats"
   ]
  },
  {
   "cell_type": "markdown",
   "id": "ee4d9826-9939-441c-b0d8-738f8a78e78f",
   "metadata": {},
   "source": [
    "Посмотрим на количество пропущенных значений:"
   ]
  },
  {
   "cell_type": "code",
   "execution_count": 51,
   "id": "bcf5a82e-45bc-478e-85d8-82f2777329cd",
   "metadata": {},
   "outputs": [
    {
     "data": {
      "text/plain": [
       "manufacturer                   0\n",
       "department                     0\n",
       "brand                          0\n",
       "commodity_desc                 0\n",
       "sub_commodity_desc             0\n",
       "curr_size_of_product           0\n",
       "age_desc                   68050\n",
       "marital_status_code        68050\n",
       "income_desc                68050\n",
       "homeowner_desc             68050\n",
       "hh_comp_desc               68050\n",
       "household_size_desc        68050\n",
       "kid_category_desc          68050\n",
       "avg_bill                       0\n",
       "avg_cat_spendings           2729\n",
       "avg_week_purchases             0\n",
       "avg_week_purchases_cat         0\n",
       "avg_cat_spendings_items        0\n",
       "user_week_cat_purchase      2729\n",
       "dtype: int64"
      ]
     },
     "execution_count": 51,
     "metadata": {},
     "output_type": "execute_result"
    }
   ],
   "source": [
    "X_train.isna().sum()"
   ]
  },
  {
   "cell_type": "markdown",
   "id": "4432731e-f3be-415d-a3de-d7fdf66d72b8",
   "metadata": {},
   "source": [
    "Заполним пропуски модой, параллельно будем создавать новый признак,  \n",
    "фиксирующий факт того, что значение в столбце было изменено:"
   ]
  },
  {
   "cell_type": "code",
   "execution_count": 52,
   "id": "159890ed-50cf-4428-9d70-f03f5dc5ee16",
   "metadata": {},
   "outputs": [],
   "source": [
    "nan_cols = X_train.isna().sum().loc[X_train.isna().sum() > 0].index.tolist()\n",
    "\n",
    "for col in nan_cols:\n",
    "    X_train[f'{col}_nan'] = 0\n",
    "    X_train.loc[X_train[col].isna(), f'{col}_nan'] = 1\n",
    "    X_train[col].fillna(X_train[col].value_counts().index[0], inplace=True)"
   ]
  },
  {
   "cell_type": "code",
   "execution_count": 53,
   "id": "7c757f7e-1824-4f7b-bc4b-af58cc070eef",
   "metadata": {},
   "outputs": [
    {
     "data": {
      "text/plain": [
       "0"
      ]
     },
     "execution_count": 53,
     "metadata": {},
     "output_type": "execute_result"
    }
   ],
   "source": [
    "X_train.isna().sum().sum()"
   ]
  },
  {
   "cell_type": "markdown",
   "id": "74633c77-4551-47eb-a880-a82c4f7d6d71",
   "metadata": {},
   "source": [
    "## Обучение модели ранжирования"
   ]
  },
  {
   "cell_type": "markdown",
   "id": "c65df517-3165-469a-b4e5-f99f71f5e0cf",
   "metadata": {},
   "source": [
    "Закодируем категориальные признаки:"
   ]
  },
  {
   "cell_type": "code",
   "execution_count": 54,
   "id": "a5ba0103-950c-41c3-99ac-eacdc9b2c55c",
   "metadata": {},
   "outputs": [],
   "source": [
    "encoder = OneHotEncoder(handle_unknown='ignore', sparse=False)\n",
    "X_train = X_train.drop(cat_feats, axis=1).join(pd.DataFrame(encoder.fit_transform(X_train[cat_feats]), \\\n",
    "                                                            columns=encoder.get_feature_names_out(cat_feats)))"
   ]
  },
  {
   "cell_type": "markdown",
   "id": "e5dc0110-d296-4f53-b336-b8309b195df8",
   "metadata": {},
   "source": [
    "Обучим классификатор и посмотрим на предсказания:"
   ]
  },
  {
   "cell_type": "code",
   "execution_count": 55,
   "id": "c45e08fc-946c-4814-ad60-b37f8c90b133",
   "metadata": {},
   "outputs": [],
   "source": [
    "from catboost import CatBoostClassifier\n",
    "\n",
    "model = CatBoostClassifier(iterations=200, silent=True,\n",
    "                           eta=0.1, task_type='GPU',\n",
    "                           auto_class_weights='Balanced',\n",
    "                           random_state=29\n",
    "            )\n",
    "model.fit(X_train, y_train)\n",
    "\n",
    "train_preds = model.predict_proba(X_train)"
   ]
  },
  {
   "cell_type": "code",
   "execution_count": 56,
   "id": "7d32af72-9a3f-4562-84d8-3ccfcc6c3752",
   "metadata": {},
   "outputs": [],
   "source": [
    "df_ranker_predict = df_ranker_train.copy()"
   ]
  },
  {
   "cell_type": "code",
   "execution_count": 57,
   "id": "6650cc11-b6fa-4390-91ea-7badff88d772",
   "metadata": {},
   "outputs": [],
   "source": [
    "df_ranker_predict['proba_item_purchase'] = train_preds[:, 1]"
   ]
  },
  {
   "cell_type": "code",
   "execution_count": 58,
   "id": "d5b079b9-f69c-4ac0-82d8-18ca8fa858f6",
   "metadata": {},
   "outputs": [
    {
     "data": {
      "text/plain": [
       "0    0.719326\n",
       "1    0.623822\n",
       "2    0.237627\n",
       "3    0.771141\n",
       "4    0.235181\n",
       "5    0.714822\n",
       "6    0.671295\n",
       "7    0.866600\n",
       "8    0.692142\n",
       "9    0.777229\n",
       "Name: proba_item_purchase, dtype: float64"
      ]
     },
     "execution_count": 58,
     "metadata": {},
     "output_type": "execute_result"
    }
   ],
   "source": [
    "df_ranker_predict['proba_item_purchase'][:10]"
   ]
  },
  {
   "cell_type": "markdown",
   "id": "802ca445-cf53-4033-909b-eb537d779a4e",
   "metadata": {},
   "source": [
    "## Оценка на валидационном датасете"
   ]
  },
  {
   "cell_type": "markdown",
   "id": "22f117c1-3b09-4b93-ba64-31d12bea0b71",
   "metadata": {},
   "source": [
    "На валидации присутствуют пользователи, которых не было на трейне:"
   ]
  },
  {
   "cell_type": "code",
   "execution_count": 59,
   "id": "88d8cbbc-69f1-4f7a-8ad0-a6e8a7700643",
   "metadata": {},
   "outputs": [
    {
     "data": {
      "text/plain": [
       "126"
      ]
     },
     "execution_count": 59,
     "metadata": {},
     "output_type": "execute_result"
    }
   ],
   "source": [
    "data_val_ranker.loc[~data_val_ranker[USER_COL].isin(data_train_ranker[USER_COL])][USER_COL].nunique()"
   ]
  },
  {
   "cell_type": "markdown",
   "id": "136dd7e5-6701-4f77-a7fd-4a9edbf9248d",
   "metadata": {},
   "source": [
    "Таким образом, способ, которым мы пользовались на уроке (использование предсказаний  \n",
    "на трейне для ранжирования на валидации), нам не подходит, так как функция ранжирования  \n",
    "будет возвращать пустой список в случаях, когда встречается user_id, которого не было  \n",
    "на трейне.  \n",
    "Поэтому напишем класс, который будет подготавливать датасет для модели. Будем использовать  \n",
    "его, чтобы подготовить валидационный датасет, и на нём делать предсказание модели. По сути,  \n",
    "обернём в класс то, что писали ранее для трейна:"
   ]
  },
  {
   "cell_type": "code",
   "execution_count": 60,
   "id": "c08235a8-6f5d-49e3-9751-15561ac550bb",
   "metadata": {},
   "outputs": [],
   "source": [
    "class ValDataProcessor:\n",
    "    \n",
    "    def __init__(self):\n",
    "        self.cat_feats = None\n",
    "        self.data_train_ranker = None\n",
    "        self.encoder = OneHotEncoder(handle_unknown='ignore', sparse=False)\n",
    "        self.item_features = None\n",
    "        self.nan_cols = None\n",
    "        self.train_data = None\n",
    "        self.user_features = None\n",
    "        \n",
    "    # Добавление фичей\n",
    "    def _add_features(self, df, is_fit=True):\n",
    "        \n",
    "        # Первоначальная подготовка\n",
    "        df = df[[USER_COL, ITEM_COL]].copy()\n",
    "        df = df.merge(self.item_features, on=ITEM_COL, how='left')\n",
    "        df = df.merge(self.user_features, on=USER_COL, how='left')\n",
    "        \n",
    "        # Средний чек\n",
    "        df = df.merge(self.train_data.groupby(USER_COL, sort=False)['sales_value']. \\\n",
    "                                    mean().reset_index(), how='left', on=USER_COL)\n",
    "        df.rename(columns={'sales_value': 'avg_bill'}, inplace=True)\n",
    "        \n",
    "        # Средняя сумма покупки 1 товара в каждой категории\n",
    "        df = df.merge(self.train_data.groupby([USER_COL, 'department'], sort=False)['sales_value'] \\\n",
    "                                                .mean().reset_index(), how='left', on=[USER_COL, 'department']). \\\n",
    "                                                rename(columns={'sales_value': 'avg_cat_spendings'})\n",
    "        \n",
    "        # Кол-во покупок в неделю\n",
    "        df = df.merge((self.train_data.groupby(ITEM_COL, sort=False)['quantity'] \\\n",
    "                                                 .count() / self.train_data['week_no'].nunique()).reset_index(), how='left', on=ITEM_COL)\n",
    "\n",
    "        df.rename(columns={'quantity': 'avg_week_purchases'}, inplace=True)\n",
    "        \n",
    "        # Среднее кол-во покупок 1 товара в категории в неделю\n",
    "        df = df.merge((self.train_data.groupby('department', sort=False)['quantity'] \\\n",
    "                                                 .count() / self.train_data['week_no'].nunique()).reset_index(), \\\n",
    "                                                how='left', on='department').rename(columns={'quantity': 'avg_week_purchases_cat'})\n",
    "        \n",
    "        # Средняя сумма покупки 1 товара в каждой категории (берем категорию item_id)\n",
    "        df = df.merge(self.train_data.groupby('department', sort=False)['sales_value'] \\\n",
    "                                                 .mean().reset_index(), how='left', on='department') \\\n",
    "                                                 .rename(columns={'sales_value': 'avg_cat_spendings_items'})\n",
    "        \n",
    "        # Кол-во покупок юзером конкретной категории в неделю\n",
    "        df = df.merge((self.train_data.groupby([USER_COL, 'department'], sort=False)['quantity'] \\\n",
    "                                                 .count() / self.train_data['week_no'].nunique()).reset_index(), how='left', \\\n",
    "                                                on=[USER_COL, 'department']).rename(columns={'quantity': 'user_week_cat_purchase'})\n",
    "        \n",
    "        # Подготовка\n",
    "        df = df.iloc[:, 2:]\n",
    "        self.cat_feats = df.columns.tolist()[:-6]\n",
    "        df[self.cat_feats] = df[self.cat_feats].astype('category')\n",
    "        \n",
    "        # Заполнение пропусков модой\n",
    "        if not is_fit:\n",
    "            self.nan_cols = df.isna().sum().loc[df.isna().sum() > 0].index.tolist()\n",
    "\n",
    "        for col in self.nan_cols:\n",
    "            df[f'{col}_nan'] = 0\n",
    "            df.loc[df[col].isna(), f'{col}_nan'] = 1\n",
    "            \n",
    "            if is_fit:\n",
    "                data_source = self.data_train_ranker.copy()\n",
    "            else:\n",
    "                data_source = df.copy()\n",
    "                \n",
    "            df[col].fillna(data_source[col].value_counts().index[0], inplace=True)\n",
    "        \n",
    "        # В случае появления новых item_id будут появляться пропуски в столбцах,\n",
    "        # в которых не было пропусков на трейне. Обработаем их отдельно, чтобы не  \n",
    "        # менять количество признаков\n",
    "        additional_nans = df.isna().sum().loc[df.isna().sum() > 0].index.tolist()\n",
    "        \n",
    "        for col in additional_nans:\n",
    "            df[col].fillna(data_source[col].value_counts().index[0], inplace=True)\n",
    "        \n",
    "        if not is_fit:\n",
    "            self.encoder.fit(df[self.cat_feats])\n",
    "        \n",
    "        return df\n",
    "        \n",
    "        \n",
    "    def fit(self, data_train_ranker, train_data, user_features, item_features):\n",
    "        self.data_train_ranker = data_train_ranker\n",
    "        self.train_data = train_data\n",
    "        self.user_features = user_features\n",
    "        self.item_features = item_features\n",
    "\n",
    "        # Добавим фичи на трейне, чтобы были данные для заполнения пропусков\n",
    "        # на валидации, и заодно обучим OHEncoder\n",
    "        self.data_train_ranker = self._add_features(self.data_train_ranker, is_fit=False)\n",
    "        \n",
    "    \n",
    "    def transform(self, X):\n",
    "        \n",
    "        X = self._add_features(X)\n",
    "\n",
    "        # Сделаем OHE, при этом чтобы на выходе получился красивый датасет\n",
    "        X = X.drop(self.cat_feats, axis=1).join(pd.DataFrame(self.encoder.transform(X[self.cat_feats]), \\\n",
    "                                                    columns=self.encoder.get_feature_names_out(self.cat_feats)))\n",
    "\n",
    "        return X"
   ]
  },
  {
   "cell_type": "markdown",
   "id": "10f227ee-c08e-4667-b629-d9a81655e4b3",
   "metadata": {},
   "source": [
    "Проверим работу класса, посмотрим на размер трейна после наших  \n",
    "предыдущих преобразований и сравним его с результатом работы класса:"
   ]
  },
  {
   "cell_type": "code",
   "execution_count": 61,
   "id": "9ecbe515-3541-440c-b5ba-f8cb706d0b9e",
   "metadata": {},
   "outputs": [
    {
     "data": {
      "text/plain": [
       "(107600, 2267)"
      ]
     },
     "execution_count": 61,
     "metadata": {},
     "output_type": "execute_result"
    }
   ],
   "source": [
    "X_train.shape"
   ]
  },
  {
   "cell_type": "code",
   "execution_count": 62,
   "id": "2530a320-5470-4e13-858b-e2937aed2752",
   "metadata": {},
   "outputs": [],
   "source": [
    "processor = ValDataProcessor()\n",
    "processor.fit(df_ranker_train, data_train_matcher, user_features, item_features)\n",
    "X_train = processor.transform(df_ranker_train)"
   ]
  },
  {
   "cell_type": "code",
   "execution_count": 63,
   "id": "583d1ce9-0530-4ff7-a733-9d6fb34e507c",
   "metadata": {},
   "outputs": [
    {
     "data": {
      "text/plain": [
       "(107600, 2267)"
      ]
     },
     "execution_count": 63,
     "metadata": {},
     "output_type": "execute_result"
    }
   ],
   "source": [
    "X_train.shape"
   ]
  },
  {
   "cell_type": "markdown",
   "id": "5e98d45f-54d8-463d-ada8-7d54a4b104ad",
   "metadata": {},
   "source": [
    "Класс вернул нам датасет такого же размера, значит  \n",
    "всё работает корректно, и датасет будет понятен модели  \n",
    "для предсказания."
   ]
  },
  {
   "cell_type": "markdown",
   "id": "97333731-9f9d-43da-a9c9-5f020b481e6a",
   "metadata": {},
   "source": [
    "Создадим датасет с фактическими покупками на валидации:"
   ]
  },
  {
   "cell_type": "code",
   "execution_count": 64,
   "id": "d702ddd2-86dd-4d7b-933e-0eed621fbbba",
   "metadata": {},
   "outputs": [
    {
     "data": {
      "text/html": [
       "<div>\n",
       "<style scoped>\n",
       "    .dataframe tbody tr th:only-of-type {\n",
       "        vertical-align: middle;\n",
       "    }\n",
       "\n",
       "    .dataframe tbody tr th {\n",
       "        vertical-align: top;\n",
       "    }\n",
       "\n",
       "    .dataframe thead th {\n",
       "        text-align: right;\n",
       "    }\n",
       "</style>\n",
       "<table border=\"1\" class=\"dataframe\">\n",
       "  <thead>\n",
       "    <tr style=\"text-align: right;\">\n",
       "      <th></th>\n",
       "      <th>user_id</th>\n",
       "      <th>actual</th>\n",
       "    </tr>\n",
       "  </thead>\n",
       "  <tbody>\n",
       "    <tr>\n",
       "      <th>0</th>\n",
       "      <td>338</td>\n",
       "      <td>[840173, 1037348, 5592737, 7441679, 7442317, 1...</td>\n",
       "    </tr>\n",
       "    <tr>\n",
       "      <th>1</th>\n",
       "      <td>2120</td>\n",
       "      <td>[441768, 480433, 492628, 503227, 525168, 52575...</td>\n",
       "    </tr>\n",
       "  </tbody>\n",
       "</table>\n",
       "</div>"
      ],
      "text/plain": [
       "   user_id                                             actual\n",
       "0      338  [840173, 1037348, 5592737, 7441679, 7442317, 1...\n",
       "1     2120  [441768, 480433, 492628, 503227, 525168, 52575..."
      ]
     },
     "execution_count": 64,
     "metadata": {},
     "output_type": "execute_result"
    }
   ],
   "source": [
    "result_eval_ranker = data_val_ranker.groupby(USER_COL, sort=False)[ITEM_COL].unique().reset_index()\n",
    "result_eval_ranker.columns=[USER_COL, ACTUAL_COL]\n",
    "result_eval_ranker.head(2)"
   ]
  },
  {
   "cell_type": "markdown",
   "id": "d51e63ea-2762-4bdb-9713-b36828a3c5e4",
   "metadata": {},
   "source": [
    "Создадим кандидатов для валидационного датасета:"
   ]
  },
  {
   "cell_type": "code",
   "execution_count": 65,
   "id": "dd24cb9c-0616-41d5-8519-8244480ae7dc",
   "metadata": {},
   "outputs": [
    {
     "name": "stdout",
     "output_type": "stream",
     "text": [
      "CPU times: user 2min 21s, sys: 2min 20s, total: 4min 41s\n",
      "Wall time: 23.7 s\n"
     ]
    }
   ],
   "source": [
    "%%time\n",
    "result_eval_ranker['als_rec'] = result_eval_ranker[USER_COL].apply(lambda x: recommender.get_als_recommendations(x, N=50))"
   ]
  },
  {
   "cell_type": "markdown",
   "id": "0331d04d-6f3f-487a-b03c-251e03deca7c",
   "metadata": {},
   "source": [
    "Посмотрим на метрику, чтобы было с чем сравнить результат работы  \n",
    "модели ранжирования:"
   ]
  },
  {
   "cell_type": "code",
   "execution_count": 66,
   "id": "088df93d-567d-4d68-a9d4-dfdd480a8494",
   "metadata": {},
   "outputs": [
    {
     "data": {
      "text/plain": [
       "[('als_rec', 0.07800097991180795)]"
      ]
     },
     "execution_count": 66,
     "metadata": {},
     "output_type": "execute_result"
    }
   ],
   "source": [
    "sorted(calc_precision(result_eval_ranker, 5), key=lambda x: x[1], reverse=True)"
   ]
  },
  {
   "cell_type": "markdown",
   "id": "60c60545-aa50-440a-bc85-0f6d3055d8f3",
   "metadata": {},
   "source": [
    "Выделим отдельно датасет с кандидатами и развернём его, как делали  \n",
    "ранее с трейном:"
   ]
  },
  {
   "cell_type": "code",
   "execution_count": 67,
   "id": "65c73509-5d41-4661-b3f3-5f68e29d05ea",
   "metadata": {},
   "outputs": [],
   "source": [
    "df_match_candidates = result_eval_ranker.copy().rename(columns={'als_rec': 'candidates'}).drop(ACTUAL_COL, axis=1)"
   ]
  },
  {
   "cell_type": "code",
   "execution_count": 68,
   "id": "93c873e8-6049-48d4-b086-b645bd6297e3",
   "metadata": {},
   "outputs": [
    {
     "data": {
      "text/html": [
       "<div>\n",
       "<style scoped>\n",
       "    .dataframe tbody tr th:only-of-type {\n",
       "        vertical-align: middle;\n",
       "    }\n",
       "\n",
       "    .dataframe tbody tr th {\n",
       "        vertical-align: top;\n",
       "    }\n",
       "\n",
       "    .dataframe thead th {\n",
       "        text-align: right;\n",
       "    }\n",
       "</style>\n",
       "<table border=\"1\" class=\"dataframe\">\n",
       "  <thead>\n",
       "    <tr style=\"text-align: right;\">\n",
       "      <th></th>\n",
       "      <th>user_id</th>\n",
       "      <th>candidates</th>\n",
       "    </tr>\n",
       "  </thead>\n",
       "  <tbody>\n",
       "    <tr>\n",
       "      <th>0</th>\n",
       "      <td>338</td>\n",
       "      <td>[845208, 871611, 1037863, 934639, 1084036, 896...</td>\n",
       "    </tr>\n",
       "    <tr>\n",
       "      <th>1</th>\n",
       "      <td>2120</td>\n",
       "      <td>[1110843, 1124029, 1076056, 823862, 983078, 98...</td>\n",
       "    </tr>\n",
       "    <tr>\n",
       "      <th>2</th>\n",
       "      <td>2324</td>\n",
       "      <td>[942778, 893501, 970119, 910151, 954673, 88188...</td>\n",
       "    </tr>\n",
       "  </tbody>\n",
       "</table>\n",
       "</div>"
      ],
      "text/plain": [
       "   user_id                                         candidates\n",
       "0      338  [845208, 871611, 1037863, 934639, 1084036, 896...\n",
       "1     2120  [1110843, 1124029, 1076056, 823862, 983078, 98...\n",
       "2     2324  [942778, 893501, 970119, 910151, 954673, 88188..."
      ]
     },
     "execution_count": 68,
     "metadata": {},
     "output_type": "execute_result"
    }
   ],
   "source": [
    "df_match_candidates.head(3)"
   ]
  },
  {
   "cell_type": "code",
   "execution_count": 69,
   "id": "b68fe854-74f4-4224-ac30-cebec8abacb1",
   "metadata": {},
   "outputs": [],
   "source": [
    "df_items = df_match_candidates.apply(lambda x: pd.Series(x['candidates']), axis=1).stack().reset_index(level=1, drop=True)\n",
    "df_items.name = ITEM_COL"
   ]
  },
  {
   "cell_type": "code",
   "execution_count": 70,
   "id": "ea4bfedc-493b-4b86-b38d-8d6e2314e0cf",
   "metadata": {},
   "outputs": [],
   "source": [
    "df_match_candidates = df_match_candidates.drop('candidates', axis=1).join(df_items)"
   ]
  },
  {
   "cell_type": "code",
   "execution_count": 71,
   "id": "3349a925-b824-4564-af3c-7aad7f734a14",
   "metadata": {},
   "outputs": [
    {
     "data": {
      "text/html": [
       "<div>\n",
       "<style scoped>\n",
       "    .dataframe tbody tr th:only-of-type {\n",
       "        vertical-align: middle;\n",
       "    }\n",
       "\n",
       "    .dataframe tbody tr th {\n",
       "        vertical-align: top;\n",
       "    }\n",
       "\n",
       "    .dataframe thead th {\n",
       "        text-align: right;\n",
       "    }\n",
       "</style>\n",
       "<table border=\"1\" class=\"dataframe\">\n",
       "  <thead>\n",
       "    <tr style=\"text-align: right;\">\n",
       "      <th></th>\n",
       "      <th>user_id</th>\n",
       "      <th>item_id</th>\n",
       "    </tr>\n",
       "  </thead>\n",
       "  <tbody>\n",
       "    <tr>\n",
       "      <th>0</th>\n",
       "      <td>338</td>\n",
       "      <td>845208</td>\n",
       "    </tr>\n",
       "    <tr>\n",
       "      <th>0</th>\n",
       "      <td>338</td>\n",
       "      <td>871611</td>\n",
       "    </tr>\n",
       "    <tr>\n",
       "      <th>0</th>\n",
       "      <td>338</td>\n",
       "      <td>1037863</td>\n",
       "    </tr>\n",
       "    <tr>\n",
       "      <th>0</th>\n",
       "      <td>338</td>\n",
       "      <td>934639</td>\n",
       "    </tr>\n",
       "    <tr>\n",
       "      <th>0</th>\n",
       "      <td>338</td>\n",
       "      <td>1084036</td>\n",
       "    </tr>\n",
       "  </tbody>\n",
       "</table>\n",
       "</div>"
      ],
      "text/plain": [
       "   user_id  item_id\n",
       "0      338   845208\n",
       "0      338   871611\n",
       "0      338  1037863\n",
       "0      338   934639\n",
       "0      338  1084036"
      ]
     },
     "execution_count": 71,
     "metadata": {},
     "output_type": "execute_result"
    }
   ],
   "source": [
    "df_match_candidates.head()"
   ]
  },
  {
   "cell_type": "markdown",
   "id": "f165c7dd-3701-4f5f-8a61-a6ea82309a01",
   "metadata": {},
   "source": [
    "Подготовим датасет из кандидатов для предсказания:"
   ]
  },
  {
   "cell_type": "code",
   "execution_count": 72,
   "id": "e0fdc584-c696-4c2f-b67f-a34860d4e26c",
   "metadata": {},
   "outputs": [],
   "source": [
    "X_valid = processor.transform(df_match_candidates)"
   ]
  },
  {
   "cell_type": "code",
   "execution_count": 73,
   "id": "6f1556ec-7640-45fb-a27b-f19bae0dd1f2",
   "metadata": {},
   "outputs": [
    {
     "data": {
      "text/plain": [
       "(102050, 2267)"
      ]
     },
     "execution_count": 73,
     "metadata": {},
     "output_type": "execute_result"
    }
   ],
   "source": [
    "X_valid.shape"
   ]
  },
  {
   "cell_type": "markdown",
   "id": "3341e4eb-2cd5-4051-b465-cd0747de8894",
   "metadata": {},
   "source": [
    "Сделаем предсказание:"
   ]
  },
  {
   "cell_type": "code",
   "execution_count": 74,
   "id": "d74afb6e-cf7a-49e2-a4e4-70910bfc4d97",
   "metadata": {},
   "outputs": [],
   "source": [
    "val_preds = model.predict_proba(X_valid)"
   ]
  },
  {
   "cell_type": "code",
   "execution_count": 75,
   "id": "a5a31077-ebad-4a3a-acdf-7f63e58c4707",
   "metadata": {},
   "outputs": [],
   "source": [
    "df_match_candidates['proba_item_purchase'] = val_preds[:, 1]"
   ]
  },
  {
   "cell_type": "code",
   "execution_count": 76,
   "id": "6139b6d0-1d40-4af5-8f58-1c395f5a7e0d",
   "metadata": {},
   "outputs": [
    {
     "data": {
      "text/html": [
       "<div>\n",
       "<style scoped>\n",
       "    .dataframe tbody tr th:only-of-type {\n",
       "        vertical-align: middle;\n",
       "    }\n",
       "\n",
       "    .dataframe tbody tr th {\n",
       "        vertical-align: top;\n",
       "    }\n",
       "\n",
       "    .dataframe thead th {\n",
       "        text-align: right;\n",
       "    }\n",
       "</style>\n",
       "<table border=\"1\" class=\"dataframe\">\n",
       "  <thead>\n",
       "    <tr style=\"text-align: right;\">\n",
       "      <th></th>\n",
       "      <th>user_id</th>\n",
       "      <th>item_id</th>\n",
       "      <th>proba_item_purchase</th>\n",
       "    </tr>\n",
       "  </thead>\n",
       "  <tbody>\n",
       "    <tr>\n",
       "      <th>0</th>\n",
       "      <td>338</td>\n",
       "      <td>845208</td>\n",
       "      <td>0.823019</td>\n",
       "    </tr>\n",
       "    <tr>\n",
       "      <th>0</th>\n",
       "      <td>338</td>\n",
       "      <td>871611</td>\n",
       "      <td>0.561956</td>\n",
       "    </tr>\n",
       "    <tr>\n",
       "      <th>0</th>\n",
       "      <td>338</td>\n",
       "      <td>1037863</td>\n",
       "      <td>0.737928</td>\n",
       "    </tr>\n",
       "  </tbody>\n",
       "</table>\n",
       "</div>"
      ],
      "text/plain": [
       "   user_id  item_id  proba_item_purchase\n",
       "0      338   845208             0.823019\n",
       "0      338   871611             0.561956\n",
       "0      338  1037863             0.737928"
      ]
     },
     "execution_count": 76,
     "metadata": {},
     "output_type": "execute_result"
    }
   ],
   "source": [
    "df_match_candidates.head(3)"
   ]
  },
  {
   "cell_type": "markdown",
   "id": "610300b1-e50a-422d-bbc9-52b040390918",
   "metadata": {},
   "source": [
    "Функция для ранжирования кандидатов по вероятности:"
   ]
  },
  {
   "cell_type": "code",
   "execution_count": 77,
   "id": "4cf991ac-a426-4e5b-a348-0ef9811c6c96",
   "metadata": {},
   "outputs": [],
   "source": [
    "def rerank(user_id):\n",
    "    return df_match_candidates[df_match_candidates[USER_COL]==user_id].sort_values('proba_item_purchase', ascending=False).head(5).item_id.tolist()"
   ]
  },
  {
   "cell_type": "markdown",
   "id": "7a61f3f9-4a35-42e4-8f86-c806d55dc132",
   "metadata": {},
   "source": [
    "Сделаем ранжирование:"
   ]
  },
  {
   "cell_type": "code",
   "execution_count": 78,
   "id": "e462d35e-7e24-4242-8b07-1e726dad98d3",
   "metadata": {},
   "outputs": [],
   "source": [
    "result_eval_ranker['reranked_als_rec'] = result_eval_ranker[USER_COL].apply(lambda user_id: rerank(user_id))"
   ]
  },
  {
   "cell_type": "markdown",
   "id": "be431658-c8dd-4361-beca-fcd1079b4621",
   "metadata": {},
   "source": [
    "Оценим метрику:"
   ]
  },
  {
   "cell_type": "code",
   "execution_count": 79,
   "id": "a79e7b9f-5153-4b97-bede-875c2e7e0553",
   "metadata": {
    "scrolled": true
   },
   "outputs": [
    {
     "name": "stdout",
     "output_type": "stream",
     "text": [
      "('reranked_als_rec', 0.10720235178833903)\n",
      "('als_rec', 0.07800097991180795)\n"
     ]
    }
   ],
   "source": [
    "print(*sorted(calc_precision(result_eval_ranker, 5), key=lambda x: x[1], reverse=True), sep='\\n')"
   ]
  },
  {
   "cell_type": "code",
   "execution_count": 80,
   "id": "fd9569ef-54ec-491b-9843-1b3a44923e9c",
   "metadata": {},
   "outputs": [
    {
     "data": {
      "text/html": [
       "<div>\n",
       "<style scoped>\n",
       "    .dataframe tbody tr th:only-of-type {\n",
       "        vertical-align: middle;\n",
       "    }\n",
       "\n",
       "    .dataframe tbody tr th {\n",
       "        vertical-align: top;\n",
       "    }\n",
       "\n",
       "    .dataframe thead th {\n",
       "        text-align: right;\n",
       "    }\n",
       "</style>\n",
       "<table border=\"1\" class=\"dataframe\">\n",
       "  <thead>\n",
       "    <tr style=\"text-align: right;\">\n",
       "      <th></th>\n",
       "      <th>user_id</th>\n",
       "      <th>actual</th>\n",
       "      <th>als_rec</th>\n",
       "      <th>reranked_als_rec</th>\n",
       "    </tr>\n",
       "  </thead>\n",
       "  <tbody>\n",
       "    <tr>\n",
       "      <th>0</th>\n",
       "      <td>338</td>\n",
       "      <td>[840173, 1037348, 5592737, 7441679, 7442317, 1...</td>\n",
       "      <td>[845208, 871611, 1037863, 934639, 1084036, 896...</td>\n",
       "      <td>[845208, 1037863, 1026118, 1051516, 1028816]</td>\n",
       "    </tr>\n",
       "    <tr>\n",
       "      <th>1</th>\n",
       "      <td>2120</td>\n",
       "      <td>[441768, 480433, 492628, 503227, 525168, 52575...</td>\n",
       "      <td>[1110843, 1124029, 1076056, 823862, 983078, 98...</td>\n",
       "      <td>[1110843, 1026118, 961979, 1007136, 5585510]</td>\n",
       "    </tr>\n",
       "    <tr>\n",
       "      <th>2</th>\n",
       "      <td>2324</td>\n",
       "      <td>[1027569, 1051069, 12487286, 6443300, 865907, ...</td>\n",
       "      <td>[942778, 893501, 970119, 910151, 954673, 88188...</td>\n",
       "      <td>[1136257, 893501, 901062, 916993, 987724]</td>\n",
       "    </tr>\n",
       "  </tbody>\n",
       "</table>\n",
       "</div>"
      ],
      "text/plain": [
       "   user_id                                             actual  \\\n",
       "0      338  [840173, 1037348, 5592737, 7441679, 7442317, 1...   \n",
       "1     2120  [441768, 480433, 492628, 503227, 525168, 52575...   \n",
       "2     2324  [1027569, 1051069, 12487286, 6443300, 865907, ...   \n",
       "\n",
       "                                             als_rec  \\\n",
       "0  [845208, 871611, 1037863, 934639, 1084036, 896...   \n",
       "1  [1110843, 1124029, 1076056, 823862, 983078, 98...   \n",
       "2  [942778, 893501, 970119, 910151, 954673, 88188...   \n",
       "\n",
       "                               reranked_als_rec  \n",
       "0  [845208, 1037863, 1026118, 1051516, 1028816]  \n",
       "1  [1110843, 1026118, 961979, 1007136, 5585510]  \n",
       "2     [1136257, 893501, 901062, 916993, 987724]  "
      ]
     },
     "execution_count": 80,
     "metadata": {},
     "output_type": "execute_result"
    }
   ],
   "source": [
    "result_eval_ranker.head(3)"
   ]
  },
  {
   "cell_type": "markdown",
   "id": "0f6659bb-7ef7-4e8f-a75d-05fe94c1d9d3",
   "metadata": {},
   "source": [
    "<ins>Вывод:</ins> использование модели классификации для ранжирования кандидатов   \n",
    "позволило поднять точность рекомендаций."
   ]
  }
 ],
 "metadata": {
  "kernelspec": {
   "display_name": "Python 3 (ipykernel)",
   "language": "python",
   "name": "python3"
  },
  "language_info": {
   "codemirror_mode": {
    "name": "ipython",
    "version": 3
   },
   "file_extension": ".py",
   "mimetype": "text/x-python",
   "name": "python",
   "nbconvert_exporter": "python",
   "pygments_lexer": "ipython3",
   "version": "3.10.4"
  }
 },
 "nbformat": 4,
 "nbformat_minor": 5
}
