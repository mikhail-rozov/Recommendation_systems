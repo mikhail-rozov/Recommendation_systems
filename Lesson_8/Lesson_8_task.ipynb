{
 "cells": [
  {
   "cell_type": "markdown",
   "id": "803000fd-c2b8-4210-8fdf-e9507170356a",
   "metadata": {
    "id": "89mFQmjdo1gZ"
   },
   "source": [
    "# Курсовой проект по курсу \"Рекомендательные системы.\""
   ]
  },
  {
   "cell_type": "markdown",
   "id": "2fb12f89-df8c-4d98-9d17-706f9fceb6e6",
   "metadata": {},
   "source": [
    "В данном курсовом проекте перед нами стоит задача выдачи  \n",
    "рекомендаций товаров пользователям из тестового датасета, исходя  \n",
    "из имеющихся данных о фактических покупках пользователей в  \n",
    "обучающем датасете. Также даны некоторые признаки пользователей  \n",
    "и товаров.  \n",
    "Целью является получение метрики precision@5 более 0.235 на тестовом  \n",
    "датасете."
   ]
  },
  {
   "cell_type": "markdown",
   "id": "b681a6f6-a05d-4e6f-9a80-902ca9f43bc0",
   "metadata": {},
   "source": [
    "## Загрузка библиотек и скриптов"
   ]
  },
  {
   "cell_type": "code",
   "execution_count": 1,
   "id": "07679a5e-b270-410a-8686-2f978bd008eb",
   "metadata": {},
   "outputs": [],
   "source": [
    "from catboost import CatBoostRanker\n",
    "import numpy as np\n",
    "import pandas as pd\n",
    "import sys\n",
    "sys.path.append('./Modules/')\n",
    "\n",
    "# свои модули\n",
    "from metrics import precision_at_k, recall_at_k\n",
    "from recommenders import MainRecommender\n",
    "from utils import prefilter_items"
   ]
  },
  {
   "cell_type": "markdown",
   "id": "d24cd57d-0cfa-4ac5-ab16-169bf4a95c90",
   "metadata": {},
   "source": [
    "## Загрузка датасетов"
   ]
  },
  {
   "cell_type": "code",
   "execution_count": 2,
   "id": "cf63d036-0989-4b4d-81c5-0ca7aec10bd2",
   "metadata": {},
   "outputs": [],
   "source": [
    "data_train = pd.read_csv('Data/retail_train.csv')\n",
    "data_test = pd.read_csv('Data/retail_test.csv')\n",
    "item_features = pd.read_csv('Data/product.csv')\n",
    "user_features = pd.read_csv('Data/hh_demographic.csv')"
   ]
  },
  {
   "cell_type": "markdown",
   "id": "b5c22663-0fce-4328-a06c-aa6490905ea9",
   "metadata": {},
   "source": [
    "## Задание констант"
   ]
  },
  {
   "cell_type": "code",
   "execution_count": 3,
   "id": "e4ee194f-abac-4004-8cf9-ec393625bcc7",
   "metadata": {},
   "outputs": [],
   "source": [
    "ITEM_COL = 'item_id'\n",
    "USER_COL = 'user_id'\n",
    "ACTUAL_COL = 'actual'\n",
    "N_CANDIDATES = 50\n",
    "N_RANGED = 5"
   ]
  },
  {
   "cell_type": "markdown",
   "id": "1bfc99d2-fbed-409f-b1fa-10986cb5b8b0",
   "metadata": {},
   "source": [
    "Приведём датасеты к общему виду:"
   ]
  },
  {
   "cell_type": "code",
   "execution_count": 4,
   "id": "2a8108ca-4e15-45de-99c3-23d7b1c2e365",
   "metadata": {},
   "outputs": [],
   "source": [
    "item_features.columns = [col.lower() for col in item_features.columns]\n",
    "user_features.columns = [col.lower() for col in user_features.columns]\n",
    "\n",
    "item_features.rename(columns={'product_id': ITEM_COL}, inplace=True)\n",
    "user_features.rename(columns={'household_key': USER_COL }, inplace=True)"
   ]
  },
  {
   "cell_type": "markdown",
   "id": "776bb8f1-6d11-49c7-8a01-33b8303078fb",
   "metadata": {},
   "source": [
    "## Разделение на обучение и валидацию"
   ]
  },
  {
   "cell_type": "markdown",
   "id": "38138ea2-7668-464e-8e65-a49bd41692c6",
   "metadata": {},
   "source": [
    "Разделим следующим образом:  \n",
    "- модель первого этапа (предожение кандидатов) обучим на всём датасете,  \n",
    "кроме 6 последних недель, валидировать её будем на оставшейся части;  \n",
    "- модель второго этапа (ранжирование кандидатов) будем обучать на 6  \n",
    "последних неделях."
   ]
  },
  {
   "cell_type": "code",
   "execution_count": 5,
   "id": "05beb7d1-ed49-4514-83dc-e78feaae5ba8",
   "metadata": {},
   "outputs": [],
   "source": [
    "# -- давние -- | -- 6 недель \n",
    "\n",
    "VAL_MATCHER_WEEKS = 6"
   ]
  },
  {
   "cell_type": "code",
   "execution_count": 6,
   "id": "37fcadd0-c8e3-4b02-ab31-9e8d14a4270c",
   "metadata": {
    "scrolled": true
   },
   "outputs": [],
   "source": [
    "# данные для тренировки matching модели\n",
    "data_train_matcher = data_train[data_train['week_no'] <= (data_train['week_no'].max() - VAL_MATCHER_WEEKS)]\n",
    "\n",
    "# данные для валидации matching модели\n",
    "data_val_matcher = data_train[data_train['week_no'] > (data_train['week_no'].max() - VAL_MATCHER_WEEKS)]\n",
    "\n",
    "# данные для тренировки ranking модели\n",
    "data_train_ranker = data_val_matcher.copy()"
   ]
  },
  {
   "cell_type": "code",
   "execution_count": 7,
   "id": "90447659-bbef-4f6c-a133-5dcc4daed683",
   "metadata": {},
   "outputs": [
    {
     "data": {
      "text/html": [
       "<div>\n",
       "<style scoped>\n",
       "    .dataframe tbody tr th:only-of-type {\n",
       "        vertical-align: middle;\n",
       "    }\n",
       "\n",
       "    .dataframe tbody tr th {\n",
       "        vertical-align: top;\n",
       "    }\n",
       "\n",
       "    .dataframe thead th {\n",
       "        text-align: right;\n",
       "    }\n",
       "</style>\n",
       "<table border=\"1\" class=\"dataframe\">\n",
       "  <thead>\n",
       "    <tr style=\"text-align: right;\">\n",
       "      <th></th>\n",
       "      <th>user_id</th>\n",
       "      <th>basket_id</th>\n",
       "      <th>day</th>\n",
       "      <th>item_id</th>\n",
       "      <th>quantity</th>\n",
       "      <th>sales_value</th>\n",
       "      <th>store_id</th>\n",
       "      <th>retail_disc</th>\n",
       "      <th>trans_time</th>\n",
       "      <th>week_no</th>\n",
       "      <th>coupon_disc</th>\n",
       "      <th>coupon_match_disc</th>\n",
       "    </tr>\n",
       "  </thead>\n",
       "  <tbody>\n",
       "    <tr>\n",
       "      <th>0</th>\n",
       "      <td>2375</td>\n",
       "      <td>26984851472</td>\n",
       "      <td>1</td>\n",
       "      <td>1004906</td>\n",
       "      <td>1</td>\n",
       "      <td>1.39</td>\n",
       "      <td>364</td>\n",
       "      <td>-0.6</td>\n",
       "      <td>1631</td>\n",
       "      <td>1</td>\n",
       "      <td>0.0</td>\n",
       "      <td>0.0</td>\n",
       "    </tr>\n",
       "    <tr>\n",
       "      <th>1</th>\n",
       "      <td>2375</td>\n",
       "      <td>26984851472</td>\n",
       "      <td>1</td>\n",
       "      <td>1033142</td>\n",
       "      <td>1</td>\n",
       "      <td>0.82</td>\n",
       "      <td>364</td>\n",
       "      <td>0.0</td>\n",
       "      <td>1631</td>\n",
       "      <td>1</td>\n",
       "      <td>0.0</td>\n",
       "      <td>0.0</td>\n",
       "    </tr>\n",
       "  </tbody>\n",
       "</table>\n",
       "</div>"
      ],
      "text/plain": [
       "   user_id    basket_id  day  item_id  quantity  sales_value  store_id  \\\n",
       "0     2375  26984851472    1  1004906         1         1.39       364   \n",
       "1     2375  26984851472    1  1033142         1         0.82       364   \n",
       "\n",
       "   retail_disc  trans_time  week_no  coupon_disc  coupon_match_disc  \n",
       "0         -0.6        1631        1          0.0                0.0  \n",
       "1          0.0        1631        1          0.0                0.0  "
      ]
     },
     "execution_count": 7,
     "metadata": {},
     "output_type": "execute_result"
    }
   ],
   "source": [
    "data_train_matcher.head(2)"
   ]
  },
  {
   "cell_type": "markdown",
   "id": "e0d314e1-ba33-4b68-8d8a-951df5d9aceb",
   "metadata": {},
   "source": [
    "## Префильтрация товаров"
   ]
  },
  {
   "cell_type": "markdown",
   "id": "d2e8a27f-243f-4eb3-a74a-5730a10da47d",
   "metadata": {},
   "source": [
    "Отберём товары согласно нашей функции из модуля utils.py.  \n",
    "А именно:  \n",
    "- убираем товары, которые не продавались за последние 12 месяцев;  \n",
    "- убираем некоторые категории товаров;  \n",
    "- убираем слишком дешевые и слишком дорогие товары;  \n",
    "- оставляем только топ-5000 популярных товаров."
   ]
  },
  {
   "cell_type": "markdown",
   "id": "4a5a72fb-3856-40ed-8387-fee0deada48b",
   "metadata": {},
   "source": [
    "Следует отметить, что исключение самых дешёвых товаров почти  \n",
    "наверняка понизит нашу целевую метрику. В то же время, было  \n",
    "принято решение отказаться от исключения топ-100 самых популярных  \n",
    "товаров. Будем стараться искать баланс между метрикой и здравым  \n",
    "смыслом, так как, с одной стороны, нам нужно получить метрику  \n",
    "не хуже определённого значения, а с другой стороны, рекомендация  \n",
    "товаров, которые пользователь и так купит, не несёт практического  \n",
    "смысла."
   ]
  },
  {
   "cell_type": "code",
   "execution_count": 8,
   "id": "162a87f7-e614-407c-be96-d1443852e57e",
   "metadata": {},
   "outputs": [
    {
     "name": "stdout",
     "output_type": "stream",
     "text": [
      "Decreased # items from 85828 to 5001\n"
     ]
    }
   ],
   "source": [
    "n_items_before = data_train_matcher['item_id'].nunique()\n",
    "\n",
    "data_train_matcher = prefilter_items(data_train_matcher, item_features=item_features, n_popular=5000)\n",
    "\n",
    "n_items_after = data_train_matcher['item_id'].nunique()\n",
    "print('Decreased # items from {} to {}'.format(n_items_before, n_items_after))"
   ]
  },
  {
   "cell_type": "markdown",
   "id": "d398a935-b818-43f3-ac10-cc3979d7be7e",
   "metadata": {},
   "source": [
    "Уберем из валидации тех пользователей, которых нет в обучении,  \n",
    "так как \"холодных\" пользователей мы здесь не обрабатываем,  \n",
    "согласно допущению в условии курсового проекта:"
   ]
  },
  {
   "cell_type": "code",
   "execution_count": 9,
   "id": "23462315-bfe2-4b6b-85de-13d9e39dc023",
   "metadata": {},
   "outputs": [],
   "source": [
    "common_users = data_train_matcher.user_id.unique()\n",
    "\n",
    "data_val_matcher = data_val_matcher.loc[data_val_matcher.user_id.isin(common_users)]\n",
    "data_train_ranker = data_train_ranker.loc[data_train_ranker.user_id.isin(common_users)]"
   ]
  },
  {
   "cell_type": "markdown",
   "id": "32dde17f-9d7c-4232-af43-ba37d22dfabd",
   "metadata": {},
   "source": [
    "Напишем функции для оценки метрик recall@k и precision@k:"
   ]
  },
  {
   "cell_type": "code",
   "execution_count": 10,
   "id": "bfb38aa9-fbab-4349-8f49-97dd7234b261",
   "metadata": {},
   "outputs": [],
   "source": [
    "def calc_recall(df_result, top_k):\n",
    "    for col_name in df_result.columns[2:]:\n",
    "        yield col_name, df_result.apply(lambda row: recall_at_k(row[col_name], row[ACTUAL_COL], k=top_k), axis=1).mean()"
   ]
  },
  {
   "cell_type": "code",
   "execution_count": 11,
   "id": "4e56b4e9-d569-4c8c-a973-2f119ceb7d7c",
   "metadata": {},
   "outputs": [],
   "source": [
    "def calc_precision(df_result, top_k):\n",
    "    for col_name in df_result.columns[2:]:\n",
    "        yield col_name, df_result.apply(lambda row: precision_at_k(row[col_name], row[ACTUAL_COL], k=top_k), axis=1).mean()"
   ]
  },
  {
   "cell_type": "markdown",
   "id": "0d2de4e0-045b-4062-a4b5-b3db1fcbe0be",
   "metadata": {},
   "source": [
    "## Базовое решение (MVP)"
   ]
  },
  {
   "cell_type": "markdown",
   "id": "74931665-a06e-4755-9584-4a15a9d3de99",
   "metadata": {},
   "source": [
    "Инициализируем наш recommender:"
   ]
  },
  {
   "cell_type": "code",
   "execution_count": 12,
   "id": "39c0099f-8371-436b-8167-b01a46525e4c",
   "metadata": {},
   "outputs": [],
   "source": [
    "recommender = MainRecommender(data_train_matcher)"
   ]
  },
  {
   "cell_type": "markdown",
   "id": "81b406f3-c905-41bb-8212-3c31285a98ba",
   "metadata": {},
   "source": [
    "Подготовим тестовый датасет:"
   ]
  },
  {
   "cell_type": "code",
   "execution_count": 13,
   "id": "30604b7f-5ea0-47cf-a06a-7496de1ff043",
   "metadata": {},
   "outputs": [
    {
     "data": {
      "text/html": [
       "<div>\n",
       "<style scoped>\n",
       "    .dataframe tbody tr th:only-of-type {\n",
       "        vertical-align: middle;\n",
       "    }\n",
       "\n",
       "    .dataframe tbody tr th {\n",
       "        vertical-align: top;\n",
       "    }\n",
       "\n",
       "    .dataframe thead th {\n",
       "        text-align: right;\n",
       "    }\n",
       "</style>\n",
       "<table border=\"1\" class=\"dataframe\">\n",
       "  <thead>\n",
       "    <tr style=\"text-align: right;\">\n",
       "      <th></th>\n",
       "      <th>user_id</th>\n",
       "      <th>actual</th>\n",
       "    </tr>\n",
       "  </thead>\n",
       "  <tbody>\n",
       "    <tr>\n",
       "      <th>0</th>\n",
       "      <td>1340</td>\n",
       "      <td>[912987, 819255, 834117, 866227, 889362, 89608...</td>\n",
       "    </tr>\n",
       "    <tr>\n",
       "      <th>1</th>\n",
       "      <td>588</td>\n",
       "      <td>[1024426, 6534178, 9673270, 826842, 833025, 85...</td>\n",
       "    </tr>\n",
       "  </tbody>\n",
       "</table>\n",
       "</div>"
      ],
      "text/plain": [
       "   user_id                                             actual\n",
       "0     1340  [912987, 819255, 834117, 866227, 889362, 89608...\n",
       "1      588  [1024426, 6534178, 9673270, 826842, 833025, 85..."
      ]
     },
     "execution_count": 13,
     "metadata": {},
     "output_type": "execute_result"
    }
   ],
   "source": [
    "result_test = data_test.groupby(USER_COL, sort=False)[ITEM_COL].unique().reset_index()\n",
    "result_test.columns=[USER_COL, ACTUAL_COL]\n",
    "result_test.head(2)"
   ]
  },
  {
   "cell_type": "markdown",
   "id": "d13038fc-11b0-450e-92af-07b1c012955e",
   "metadata": {},
   "source": [
    "Посмотрим, есть ли в тестовом датасете пользователи, которых  \n",
    "нет на трейне:"
   ]
  },
  {
   "cell_type": "code",
   "execution_count": 14,
   "id": "7e6de302-980e-409a-adc0-46b5c430f2d2",
   "metadata": {},
   "outputs": [
    {
     "data": {
      "text/html": [
       "<div>\n",
       "<style scoped>\n",
       "    .dataframe tbody tr th:only-of-type {\n",
       "        vertical-align: middle;\n",
       "    }\n",
       "\n",
       "    .dataframe tbody tr th {\n",
       "        vertical-align: top;\n",
       "    }\n",
       "\n",
       "    .dataframe thead th {\n",
       "        text-align: right;\n",
       "    }\n",
       "</style>\n",
       "<table border=\"1\" class=\"dataframe\">\n",
       "  <thead>\n",
       "    <tr style=\"text-align: right;\">\n",
       "      <th></th>\n",
       "      <th>user_id</th>\n",
       "      <th>actual</th>\n",
       "    </tr>\n",
       "  </thead>\n",
       "  <tbody>\n",
       "    <tr>\n",
       "      <th>1220</th>\n",
       "      <td>2325</td>\n",
       "      <td>[849274, 863885, 872137, 877913, 883932, 96520...</td>\n",
       "    </tr>\n",
       "  </tbody>\n",
       "</table>\n",
       "</div>"
      ],
      "text/plain": [
       "      user_id                                             actual\n",
       "1220     2325  [849274, 863885, 872137, 877913, 883932, 96520..."
      ]
     },
     "execution_count": 14,
     "metadata": {},
     "output_type": "execute_result"
    }
   ],
   "source": [
    "result_test.loc[~result_test[USER_COL].isin(data_train_matcher[USER_COL].unique())]"
   ]
  },
  {
   "cell_type": "markdown",
   "id": "00f1a9a9-f983-402f-828c-517a3bf2667d",
   "metadata": {},
   "source": [
    "Нашли одного такого пользователя, удалим его:"
   ]
  },
  {
   "cell_type": "code",
   "execution_count": 15,
   "id": "4b2fdee3-9275-43ae-af56-48094657d102",
   "metadata": {},
   "outputs": [],
   "source": [
    "result_test = result_test.loc[result_test[USER_COL].isin(data_train_matcher[USER_COL].unique())]"
   ]
  },
  {
   "cell_type": "markdown",
   "id": "b07fcf71-7967-4ada-b431-f969146f7bcc",
   "metadata": {},
   "source": [
    "За базовое решение примем генерацию кандидатов из самых  \n",
    "популярных во всём тестовом датасете. У каждого пользователя  \n",
    "будут одинаковые рекомендации:"
   ]
  },
  {
   "cell_type": "code",
   "execution_count": 16,
   "id": "7ea9fed0-5421-4b55-8040-e1c3b638f0ff",
   "metadata": {},
   "outputs": [],
   "source": [
    "result_test['top_popular'] = result_test[USER_COL].apply(lambda x: recommender.overall_top_purchases[:N_CANDIDATES])"
   ]
  },
  {
   "cell_type": "code",
   "execution_count": 17,
   "id": "5794b70b-0cb9-4f29-bcf8-a00ba7329b2d",
   "metadata": {},
   "outputs": [
    {
     "data": {
      "text/html": [
       "<div>\n",
       "<style scoped>\n",
       "    .dataframe tbody tr th:only-of-type {\n",
       "        vertical-align: middle;\n",
       "    }\n",
       "\n",
       "    .dataframe tbody tr th {\n",
       "        vertical-align: top;\n",
       "    }\n",
       "\n",
       "    .dataframe thead th {\n",
       "        text-align: right;\n",
       "    }\n",
       "</style>\n",
       "<table border=\"1\" class=\"dataframe\">\n",
       "  <thead>\n",
       "    <tr style=\"text-align: right;\">\n",
       "      <th></th>\n",
       "      <th>user_id</th>\n",
       "      <th>actual</th>\n",
       "      <th>top_popular</th>\n",
       "    </tr>\n",
       "  </thead>\n",
       "  <tbody>\n",
       "    <tr>\n",
       "      <th>0</th>\n",
       "      <td>1340</td>\n",
       "      <td>[912987, 819255, 834117, 866227, 889362, 89608...</td>\n",
       "      <td>[1029743, 995242, 1106523, 981760, 1133018, 95...</td>\n",
       "    </tr>\n",
       "    <tr>\n",
       "      <th>1</th>\n",
       "      <td>588</td>\n",
       "      <td>[1024426, 6534178, 9673270, 826842, 833025, 85...</td>\n",
       "      <td>[1029743, 995242, 1106523, 981760, 1133018, 95...</td>\n",
       "    </tr>\n",
       "  </tbody>\n",
       "</table>\n",
       "</div>"
      ],
      "text/plain": [
       "   user_id                                             actual  \\\n",
       "0     1340  [912987, 819255, 834117, 866227, 889362, 89608...   \n",
       "1      588  [1024426, 6534178, 9673270, 826842, 833025, 85...   \n",
       "\n",
       "                                         top_popular  \n",
       "0  [1029743, 995242, 1106523, 981760, 1133018, 95...  \n",
       "1  [1029743, 995242, 1106523, 981760, 1133018, 95...  "
      ]
     },
     "execution_count": 17,
     "metadata": {},
     "output_type": "execute_result"
    }
   ],
   "source": [
    "result_test.head(2)"
   ]
  },
  {
   "cell_type": "markdown",
   "id": "d99fd250-b24e-462b-bee2-920ab0e7ecab",
   "metadata": {},
   "source": [
    "Оценим метрику таких рекомендаций:"
   ]
  },
  {
   "cell_type": "code",
   "execution_count": 18,
   "id": "d816337e-dbe9-4823-b792-b57201f1bc8c",
   "metadata": {},
   "outputs": [
    {
     "data": {
      "text/plain": [
       "0.12611464968152866"
      ]
     },
     "execution_count": 18,
     "metadata": {},
     "output_type": "execute_result"
    }
   ],
   "source": [
    "baseline_metric = tuple(*calc_precision(result_test, N_RANGED))[1]\n",
    "baseline_metric"
   ]
  },
  {
   "cell_type": "markdown",
   "id": "61740f1b-5f15-4ca8-b694-9f96d1474a77",
   "metadata": {},
   "source": [
    "## Этап 1:\n",
    "### Подбор кандидатов и сравнение их качества,  \n",
    "### выбор модели подбора кандидатов"
   ]
  },
  {
   "cell_type": "markdown",
   "id": "74cd40d6-1cc5-470b-b3d5-5f5f56043622",
   "metadata": {},
   "source": [
    "Теперь инициализируем наш recommender с параметрами для BM25 взвешивания,  \n",
    "полученные эмпирическим путём:"
   ]
  },
  {
   "cell_type": "code",
   "execution_count": 19,
   "id": "15927a2d-0a53-4145-b882-4c93401fcbe4",
   "metadata": {},
   "outputs": [],
   "source": [
    "recommender = MainRecommender(data_train_matcher, K1=1, B=0.3)"
   ]
  },
  {
   "cell_type": "markdown",
   "id": "8ffd1963-9a0b-4f9b-ba88-2dfa6bef0a4f",
   "metadata": {},
   "source": [
    "Подготовим датасет для оценки качества кандидатов:"
   ]
  },
  {
   "cell_type": "code",
   "execution_count": 20,
   "id": "78fc83d1-43f6-43e9-b082-611f651fcd32",
   "metadata": {
    "scrolled": true
   },
   "outputs": [
    {
     "data": {
      "text/html": [
       "<div>\n",
       "<style scoped>\n",
       "    .dataframe tbody tr th:only-of-type {\n",
       "        vertical-align: middle;\n",
       "    }\n",
       "\n",
       "    .dataframe tbody tr th {\n",
       "        vertical-align: top;\n",
       "    }\n",
       "\n",
       "    .dataframe thead th {\n",
       "        text-align: right;\n",
       "    }\n",
       "</style>\n",
       "<table border=\"1\" class=\"dataframe\">\n",
       "  <thead>\n",
       "    <tr style=\"text-align: right;\">\n",
       "      <th></th>\n",
       "      <th>user_id</th>\n",
       "      <th>actual</th>\n",
       "    </tr>\n",
       "  </thead>\n",
       "  <tbody>\n",
       "    <tr>\n",
       "      <th>0</th>\n",
       "      <td>843</td>\n",
       "      <td>[845193, 865891, 883404, 904375, 923746, 93663...</td>\n",
       "    </tr>\n",
       "    <tr>\n",
       "      <th>1</th>\n",
       "      <td>2223</td>\n",
       "      <td>[7155012, 14077656, 936753, 941856, 1103105, 1...</td>\n",
       "    </tr>\n",
       "  </tbody>\n",
       "</table>\n",
       "</div>"
      ],
      "text/plain": [
       "   user_id                                             actual\n",
       "0      843  [845193, 865891, 883404, 904375, 923746, 93663...\n",
       "1     2223  [7155012, 14077656, 936753, 941856, 1103105, 1..."
      ]
     },
     "execution_count": 20,
     "metadata": {},
     "output_type": "execute_result"
    }
   ],
   "source": [
    "result_eval_matcher = data_val_matcher.groupby(USER_COL, sort=False)[ITEM_COL].unique().reset_index()\n",
    "result_eval_matcher.columns=[USER_COL, ACTUAL_COL]\n",
    "result_eval_matcher.head(2)"
   ]
  },
  {
   "cell_type": "markdown",
   "id": "067d93f6-5b13-4c28-9670-21830837a677",
   "metadata": {},
   "source": [
    "Создадим кандидатов методами собственных рекомендаций,  \n",
    "als, похожих пользователей и похожих товаров:"
   ]
  },
  {
   "cell_type": "code",
   "execution_count": 21,
   "id": "54b28aa6-dbdf-4ee0-a968-1bbb6461bef2",
   "metadata": {},
   "outputs": [],
   "source": [
    "def make_recommendations(df_result, rec_name_model, N=50):\n",
    "    rec_name = rec_name_model[0]\n",
    "    rec_model = rec_name_model[1]\n",
    "    df_result[rec_name] = df_result[USER_COL].apply(lambda x: rec_model(x, N=N))"
   ]
  },
  {
   "cell_type": "code",
   "execution_count": 22,
   "id": "57510562-d7ee-4334-a98a-5222608493b7",
   "metadata": {},
   "outputs": [],
   "source": [
    "own_rec = ('own_recs', recommender.get_own_recommendations)\n",
    "als_rec = ('als_recs', recommender.get_als_recommendations)\n",
    "sim_user_rec = ('similar_user_recs', recommender.get_similar_users_recommendation)\n",
    "sim_item_rec = ('similar_item_recs', recommender.get_similar_items_recommendation)"
   ]
  },
  {
   "cell_type": "code",
   "execution_count": 23,
   "id": "affe643f-9117-41fd-a7a8-a24db8dac94e",
   "metadata": {},
   "outputs": [
    {
     "name": "stdout",
     "output_type": "stream",
     "text": [
      "CPU times: user 6min 41s, sys: 6min 58s, total: 13min 40s\n",
      "Wall time: 1min 18s\n"
     ]
    }
   ],
   "source": [
    "%%time\n",
    "\n",
    "for rec in (own_rec, als_rec, sim_user_rec, sim_item_rec):\n",
    "    make_recommendations(result_eval_matcher, rec, N=N_CANDIDATES)"
   ]
  },
  {
   "cell_type": "markdown",
   "id": "b90a462b-c57a-4927-80a7-181ec5ce9fd5",
   "metadata": {},
   "source": [
    "Также сделаем смесь собственных рекомендаций и top-popular:"
   ]
  },
  {
   "cell_type": "code",
   "execution_count": 24,
   "id": "d159a5cf-40de-484b-af8b-a99e42c26753",
   "metadata": {},
   "outputs": [],
   "source": [
    "make_recommendations(result_eval_matcher, ('own+top_pop', recommender.get_own_recommendations), N=N_CANDIDATES//2)"
   ]
  },
  {
   "cell_type": "code",
   "execution_count": 25,
   "id": "574df0b2-1759-4409-8c92-692ba82f6da3",
   "metadata": {},
   "outputs": [],
   "source": [
    "def fill_with_tops(column, N=5):\n",
    "    \n",
    "    tops = np.array(recommender.overall_top_purchases)\n",
    "    recs = np.array(column)\n",
    "    mask = np.isin(tops, recs, invert=True)\n",
    "    tops = tops[mask]\n",
    "    \n",
    "    return np.append(recs, tops[:N])"
   ]
  },
  {
   "cell_type": "code",
   "execution_count": 26,
   "id": "133608b2-3eba-4d40-a4cd-366508fc7ffd",
   "metadata": {},
   "outputs": [],
   "source": [
    "result_eval_matcher['own+top_pop'] = result_eval_matcher['own+top_pop']. \\\n",
    "        apply(lambda row: fill_with_tops(row, N=N_CANDIDATES//2))"
   ]
  },
  {
   "cell_type": "code",
   "execution_count": 27,
   "id": "d1de2565-f37d-4587-849c-0e5af8f1ce7f",
   "metadata": {},
   "outputs": [
    {
     "data": {
      "text/plain": [
       "50"
      ]
     },
     "execution_count": 27,
     "metadata": {},
     "output_type": "execute_result"
    }
   ],
   "source": [
    "len(result_eval_matcher.iloc[0]['own+top_pop'])"
   ]
  },
  {
   "cell_type": "markdown",
   "id": "03895db3-353e-49df-acd7-064b3f61ce98",
   "metadata": {},
   "source": [
    "Посмотрим на recall@k кандидатов, полученных разными способами:"
   ]
  },
  {
   "cell_type": "code",
   "execution_count": 28,
   "id": "e84d7cc5-26b5-4205-8fcf-49dd956e2d2e",
   "metadata": {},
   "outputs": [
    {
     "data": {
      "text/plain": [
       "[('own_recs', 0.11465071065557855),\n",
       " ('own+top_pop', 0.10104838811379524),\n",
       " ('als_recs', 0.08215630905471297),\n",
       " ('similar_user_recs', 0.05556668595366006),\n",
       " ('similar_item_recs', 0.04906370635485423)]"
      ]
     },
     "execution_count": 28,
     "metadata": {},
     "output_type": "execute_result"
    }
   ],
   "source": [
    "sorted(calc_recall(result_eval_matcher, N_CANDIDATES), key=lambda x: x[1], reverse=True)"
   ]
  },
  {
   "cell_type": "markdown",
   "id": "f441e697-156b-48da-a3c9-98d4972fcc17",
   "metadata": {},
   "source": [
    "Целевая метрика моделей первого этапа:"
   ]
  },
  {
   "cell_type": "code",
   "execution_count": 29,
   "id": "c7715b9c-65b4-45de-8fcb-666637bd11d6",
   "metadata": {},
   "outputs": [
    {
     "data": {
      "text/plain": [
       "[('own_recs', 0.3377612633534603),\n",
       " ('own+top_pop', 0.3377612633534603),\n",
       " ('als_recs', 0.18532280538783094),\n",
       " ('similar_item_recs', 0.10487691593125871),\n",
       " ('similar_user_recs', 0.09837436135624711)]"
      ]
     },
     "execution_count": 29,
     "metadata": {},
     "output_type": "execute_result"
    }
   ],
   "source": [
    "sorted(calc_precision(result_eval_matcher, N_RANGED), key=lambda x: x[1], reverse=True)"
   ]
  },
  {
   "cell_type": "markdown",
   "id": "c0cf92f7-dbcf-47ab-83c8-0e2f783147d6",
   "metadata": {},
   "source": [
    "<ins>Вывод:</ins>  \n",
    "По качеству кандидатов (recall@k) лучшими оказались способы  \n",
    "генерации на основе собственных рекомендаций (модель ItemItemRecommender  \n",
    "с параметром K=1): среди предложенных кандидатов у них оказалось больше  \n",
    "всего релевантных позиций. Третье место заняла модель ALS.  \n",
    "По целевой метрике (precision@5) ситуация та же. Причём метрика моделей  \n",
    "собственных рекомендаций оказалась настолько большой, что вполне вероятно,  \n",
    "что на тестовых данных эти модели превысят необходимую метрику в 0.235  \n",
    "даже без применения ранжирования. Такие высокие показатели этих моделей  \n",
    "были достигнуты за счёт подбора параметров к модели взвешивания BM25.  \n",
    "Вроде, на этом можно было бы и заканчивать.  \n",
    "Однако мы не будем применять модели собственных рекомендаций ввиду того,  \n",
    "что практический смысл таких рекомендаций невелик: это зачастую товары,  \n",
    "которые пользователь и так покупает без всяких рекомендаций. Также интересно  \n",
    "было бы дальше поработать с другой моделью и попытаться повысить метрику за счёт  \n",
    "применения ранжирования и создания новых признаков.  \n",
    "Учитывая вышесказанное, далее будем работать с моделью ALS."
   ]
  },
  {
   "cell_type": "markdown",
   "id": "6da6338a-fc7c-4552-8b6b-3ae5912ef8d6",
   "metadata": {},
   "source": [
    "## Этап 2\n",
    "### Обучение модели ранжирования"
   ]
  },
  {
   "cell_type": "markdown",
   "id": "e5ee380a-d381-43e5-ac8f-006f6c03ab29",
   "metadata": {},
   "source": [
    "Подготовим данные для обучения:"
   ]
  },
  {
   "cell_type": "code",
   "execution_count": 30,
   "id": "229e06f5-da6f-4482-9a77-6e58de4efc20",
   "metadata": {},
   "outputs": [],
   "source": [
    "df_match_candidates = pd.DataFrame(data_train_ranker[USER_COL].unique())\n",
    "df_match_candidates.columns = [USER_COL]"
   ]
  },
  {
   "cell_type": "markdown",
   "id": "096bedaf-9236-4487-a8f3-d9ee2deab461",
   "metadata": {},
   "source": [
    "Произведём отбор кандидатов методом ALS:"
   ]
  },
  {
   "cell_type": "code",
   "execution_count": 31,
   "id": "f8d9c9d7-dfea-4bbe-bfd3-32afc7d2e2fb",
   "metadata": {},
   "outputs": [],
   "source": [
    "make_recommendations(df_match_candidates, ('candidates', recommender.get_als_recommendations), N=N_CANDIDATES)"
   ]
  },
  {
   "cell_type": "code",
   "execution_count": 32,
   "id": "5df3f805-4acb-432b-bbd1-a8bb5fa85a5d",
   "metadata": {},
   "outputs": [
    {
     "data": {
      "text/html": [
       "<div>\n",
       "<style scoped>\n",
       "    .dataframe tbody tr th:only-of-type {\n",
       "        vertical-align: middle;\n",
       "    }\n",
       "\n",
       "    .dataframe tbody tr th {\n",
       "        vertical-align: top;\n",
       "    }\n",
       "\n",
       "    .dataframe thead th {\n",
       "        text-align: right;\n",
       "    }\n",
       "</style>\n",
       "<table border=\"1\" class=\"dataframe\">\n",
       "  <thead>\n",
       "    <tr style=\"text-align: right;\">\n",
       "      <th></th>\n",
       "      <th>user_id</th>\n",
       "      <th>candidates</th>\n",
       "    </tr>\n",
       "  </thead>\n",
       "  <tbody>\n",
       "    <tr>\n",
       "      <th>0</th>\n",
       "      <td>843</td>\n",
       "      <td>[8090521, 1106523, 5568378, 1092026, 8090537, ...</td>\n",
       "    </tr>\n",
       "    <tr>\n",
       "      <th>1</th>\n",
       "      <td>2223</td>\n",
       "      <td>[986912, 844165, 1085604, 1005186, 879755, 109...</td>\n",
       "    </tr>\n",
       "    <tr>\n",
       "      <th>2</th>\n",
       "      <td>278</td>\n",
       "      <td>[885863, 9527160, 1137775, 5568378, 1101173, 1...</td>\n",
       "    </tr>\n",
       "  </tbody>\n",
       "</table>\n",
       "</div>"
      ],
      "text/plain": [
       "   user_id                                         candidates\n",
       "0      843  [8090521, 1106523, 5568378, 1092026, 8090537, ...\n",
       "1     2223  [986912, 844165, 1085604, 1005186, 879755, 109...\n",
       "2      278  [885863, 9527160, 1137775, 5568378, 1101173, 1..."
      ]
     },
     "execution_count": 32,
     "metadata": {},
     "output_type": "execute_result"
    }
   ],
   "source": [
    "df_match_candidates.head(3)"
   ]
  },
  {
   "cell_type": "markdown",
   "id": "bf5956dc-5205-4e6a-af38-c6eba4dbc19c",
   "metadata": {},
   "source": [
    "Разворачиваем кандидатов, чтобы в каждой строке был только один:"
   ]
  },
  {
   "cell_type": "code",
   "execution_count": 33,
   "id": "2a5399db-93ef-4182-a044-56b5a164a2bf",
   "metadata": {},
   "outputs": [],
   "source": [
    "df_items = df_match_candidates.apply(lambda x: pd.Series(x['candidates']), axis=1).stack().reset_index(level=1, drop=True)\n",
    "df_items.name = ITEM_COL"
   ]
  },
  {
   "cell_type": "code",
   "execution_count": 34,
   "id": "55e48fd4-71e6-488b-afba-e6e1c46e8fda",
   "metadata": {},
   "outputs": [],
   "source": [
    "df_match_candidates = df_match_candidates.drop('candidates', axis=1).join(df_items)"
   ]
  },
  {
   "cell_type": "code",
   "execution_count": 35,
   "id": "ab22399f-ac0b-4581-90fe-da97b43d8d8d",
   "metadata": {},
   "outputs": [
    {
     "data": {
      "text/html": [
       "<div>\n",
       "<style scoped>\n",
       "    .dataframe tbody tr th:only-of-type {\n",
       "        vertical-align: middle;\n",
       "    }\n",
       "\n",
       "    .dataframe tbody tr th {\n",
       "        vertical-align: top;\n",
       "    }\n",
       "\n",
       "    .dataframe thead th {\n",
       "        text-align: right;\n",
       "    }\n",
       "</style>\n",
       "<table border=\"1\" class=\"dataframe\">\n",
       "  <thead>\n",
       "    <tr style=\"text-align: right;\">\n",
       "      <th></th>\n",
       "      <th>user_id</th>\n",
       "      <th>item_id</th>\n",
       "    </tr>\n",
       "  </thead>\n",
       "  <tbody>\n",
       "    <tr>\n",
       "      <th>0</th>\n",
       "      <td>843</td>\n",
       "      <td>8090521</td>\n",
       "    </tr>\n",
       "    <tr>\n",
       "      <th>0</th>\n",
       "      <td>843</td>\n",
       "      <td>1106523</td>\n",
       "    </tr>\n",
       "    <tr>\n",
       "      <th>0</th>\n",
       "      <td>843</td>\n",
       "      <td>5568378</td>\n",
       "    </tr>\n",
       "    <tr>\n",
       "      <th>0</th>\n",
       "      <td>843</td>\n",
       "      <td>1092026</td>\n",
       "    </tr>\n",
       "    <tr>\n",
       "      <th>0</th>\n",
       "      <td>843</td>\n",
       "      <td>8090537</td>\n",
       "    </tr>\n",
       "  </tbody>\n",
       "</table>\n",
       "</div>"
      ],
      "text/plain": [
       "   user_id  item_id\n",
       "0      843  8090521\n",
       "0      843  1106523\n",
       "0      843  5568378\n",
       "0      843  1092026\n",
       "0      843  8090537"
      ]
     },
     "execution_count": 35,
     "metadata": {},
     "output_type": "execute_result"
    }
   ],
   "source": [
    "df_match_candidates.head()"
   ]
  },
  {
   "cell_type": "markdown",
   "id": "be6cfee5-e013-4c05-8d15-c2f8874b268e",
   "metadata": {},
   "source": [
    "Подготовим обучающий сет для ранжирования:"
   ]
  },
  {
   "cell_type": "code",
   "execution_count": 36,
   "id": "c587eb14-0afe-4ebc-8334-76009374dd4f",
   "metadata": {},
   "outputs": [],
   "source": [
    "df_ranker_train = data_train_ranker[[USER_COL, ITEM_COL]].copy()\n",
    "df_ranker_train['target'] = 1  # тут только фактические покупки "
   ]
  },
  {
   "cell_type": "code",
   "execution_count": 37,
   "id": "e0161d1e-45aa-4276-9a98-fe14727153e6",
   "metadata": {},
   "outputs": [
    {
     "data": {
      "text/html": [
       "<div>\n",
       "<style scoped>\n",
       "    .dataframe tbody tr th:only-of-type {\n",
       "        vertical-align: middle;\n",
       "    }\n",
       "\n",
       "    .dataframe tbody tr th {\n",
       "        vertical-align: top;\n",
       "    }\n",
       "\n",
       "    .dataframe thead th {\n",
       "        text-align: right;\n",
       "    }\n",
       "</style>\n",
       "<table border=\"1\" class=\"dataframe\">\n",
       "  <thead>\n",
       "    <tr style=\"text-align: right;\">\n",
       "      <th></th>\n",
       "      <th>user_id</th>\n",
       "      <th>item_id</th>\n",
       "      <th>target</th>\n",
       "    </tr>\n",
       "  </thead>\n",
       "  <tbody>\n",
       "    <tr>\n",
       "      <th>2211065</th>\n",
       "      <td>843</td>\n",
       "      <td>845193</td>\n",
       "      <td>1</td>\n",
       "    </tr>\n",
       "    <tr>\n",
       "      <th>2211066</th>\n",
       "      <td>843</td>\n",
       "      <td>865891</td>\n",
       "      <td>1</td>\n",
       "    </tr>\n",
       "    <tr>\n",
       "      <th>2211067</th>\n",
       "      <td>843</td>\n",
       "      <td>883404</td>\n",
       "      <td>1</td>\n",
       "    </tr>\n",
       "    <tr>\n",
       "      <th>2211068</th>\n",
       "      <td>843</td>\n",
       "      <td>904375</td>\n",
       "      <td>1</td>\n",
       "    </tr>\n",
       "    <tr>\n",
       "      <th>2211069</th>\n",
       "      <td>843</td>\n",
       "      <td>923746</td>\n",
       "      <td>1</td>\n",
       "    </tr>\n",
       "    <tr>\n",
       "      <th>...</th>\n",
       "      <td>...</td>\n",
       "      <td>...</td>\n",
       "      <td>...</td>\n",
       "    </tr>\n",
       "    <tr>\n",
       "      <th>2396799</th>\n",
       "      <td>1613</td>\n",
       "      <td>16102849</td>\n",
       "      <td>1</td>\n",
       "    </tr>\n",
       "    <tr>\n",
       "      <th>2396800</th>\n",
       "      <td>1001</td>\n",
       "      <td>13217063</td>\n",
       "      <td>1</td>\n",
       "    </tr>\n",
       "    <tr>\n",
       "      <th>2396801</th>\n",
       "      <td>1001</td>\n",
       "      <td>13217800</td>\n",
       "      <td>1</td>\n",
       "    </tr>\n",
       "    <tr>\n",
       "      <th>2396802</th>\n",
       "      <td>1167</td>\n",
       "      <td>6410462</td>\n",
       "      <td>1</td>\n",
       "    </tr>\n",
       "    <tr>\n",
       "      <th>2396803</th>\n",
       "      <td>1167</td>\n",
       "      <td>6430664</td>\n",
       "      <td>1</td>\n",
       "    </tr>\n",
       "  </tbody>\n",
       "</table>\n",
       "<p>174534 rows × 3 columns</p>\n",
       "</div>"
      ],
      "text/plain": [
       "         user_id   item_id  target\n",
       "2211065      843    845193       1\n",
       "2211066      843    865891       1\n",
       "2211067      843    883404       1\n",
       "2211068      843    904375       1\n",
       "2211069      843    923746       1\n",
       "...          ...       ...     ...\n",
       "2396799     1613  16102849       1\n",
       "2396800     1001  13217063       1\n",
       "2396801     1001  13217800       1\n",
       "2396802     1167   6410462       1\n",
       "2396803     1167   6430664       1\n",
       "\n",
       "[174534 rows x 3 columns]"
      ]
     },
     "execution_count": 37,
     "metadata": {},
     "output_type": "execute_result"
    }
   ],
   "source": [
    "df_ranker_train"
   ]
  },
  {
   "cell_type": "markdown",
   "id": "5bea1a51-43c8-4e60-b7d4-7157d2693e15",
   "metadata": {},
   "source": [
    "Добавляем кандитатов в датасет в качестве нулей:"
   ]
  },
  {
   "cell_type": "code",
   "execution_count": 38,
   "id": "54d65383-d735-4a5c-9bfd-ee64090ba5b3",
   "metadata": {
    "scrolled": true
   },
   "outputs": [],
   "source": [
    "df_ranker_train = df_match_candidates.merge(df_ranker_train, on=[USER_COL, ITEM_COL], how='left')\n",
    "\n",
    "# чистим дубликаты\n",
    "df_ranker_train = df_ranker_train.drop_duplicates(subset=[USER_COL, ITEM_COL])\n",
    "\n",
    "df_ranker_train['target'].fillna(0, inplace= True)"
   ]
  },
  {
   "cell_type": "markdown",
   "id": "3ddced9a-9c71-4e85-bd1a-2444e9048ba2",
   "metadata": {},
   "source": [
    "Посмотрим на баланс классов:"
   ]
  },
  {
   "cell_type": "code",
   "execution_count": 39,
   "id": "d41de00b-9c93-4161-9381-b94d00a5842b",
   "metadata": {},
   "outputs": [
    {
     "data": {
      "text/plain": [
       "0.0    97137\n",
       "1.0    10513\n",
       "Name: target, dtype: int64"
      ]
     },
     "execution_count": 39,
     "metadata": {},
     "output_type": "execute_result"
    }
   ],
   "source": [
    "df_ranker_train.target.value_counts()"
   ]
  },
  {
   "cell_type": "code",
   "execution_count": 40,
   "id": "230757b3-e213-478c-9f3c-f8028ef475f2",
   "metadata": {},
   "outputs": [
    {
     "data": {
      "text/html": [
       "<div>\n",
       "<style scoped>\n",
       "    .dataframe tbody tr th:only-of-type {\n",
       "        vertical-align: middle;\n",
       "    }\n",
       "\n",
       "    .dataframe tbody tr th {\n",
       "        vertical-align: top;\n",
       "    }\n",
       "\n",
       "    .dataframe thead th {\n",
       "        text-align: right;\n",
       "    }\n",
       "</style>\n",
       "<table border=\"1\" class=\"dataframe\">\n",
       "  <thead>\n",
       "    <tr style=\"text-align: right;\">\n",
       "      <th></th>\n",
       "      <th>user_id</th>\n",
       "      <th>item_id</th>\n",
       "      <th>target</th>\n",
       "    </tr>\n",
       "  </thead>\n",
       "  <tbody>\n",
       "    <tr>\n",
       "      <th>0</th>\n",
       "      <td>843</td>\n",
       "      <td>8090521</td>\n",
       "      <td>0.0</td>\n",
       "    </tr>\n",
       "    <tr>\n",
       "      <th>1</th>\n",
       "      <td>843</td>\n",
       "      <td>1106523</td>\n",
       "      <td>0.0</td>\n",
       "    </tr>\n",
       "    <tr>\n",
       "      <th>2</th>\n",
       "      <td>843</td>\n",
       "      <td>5568378</td>\n",
       "      <td>0.0</td>\n",
       "    </tr>\n",
       "    <tr>\n",
       "      <th>3</th>\n",
       "      <td>843</td>\n",
       "      <td>1092026</td>\n",
       "      <td>1.0</td>\n",
       "    </tr>\n",
       "    <tr>\n",
       "      <th>4</th>\n",
       "      <td>843</td>\n",
       "      <td>8090537</td>\n",
       "      <td>0.0</td>\n",
       "    </tr>\n",
       "    <tr>\n",
       "      <th>...</th>\n",
       "      <td>...</td>\n",
       "      <td>...</td>\n",
       "      <td>...</td>\n",
       "    </tr>\n",
       "    <tr>\n",
       "      <th>112409</th>\n",
       "      <td>832</td>\n",
       "      <td>859075</td>\n",
       "      <td>0.0</td>\n",
       "    </tr>\n",
       "    <tr>\n",
       "      <th>112410</th>\n",
       "      <td>832</td>\n",
       "      <td>1122358</td>\n",
       "      <td>0.0</td>\n",
       "    </tr>\n",
       "    <tr>\n",
       "      <th>112411</th>\n",
       "      <td>832</td>\n",
       "      <td>1137346</td>\n",
       "      <td>0.0</td>\n",
       "    </tr>\n",
       "    <tr>\n",
       "      <th>112412</th>\n",
       "      <td>832</td>\n",
       "      <td>1068719</td>\n",
       "      <td>0.0</td>\n",
       "    </tr>\n",
       "    <tr>\n",
       "      <th>112413</th>\n",
       "      <td>832</td>\n",
       "      <td>1096036</td>\n",
       "      <td>0.0</td>\n",
       "    </tr>\n",
       "  </tbody>\n",
       "</table>\n",
       "<p>107650 rows × 3 columns</p>\n",
       "</div>"
      ],
      "text/plain": [
       "        user_id  item_id  target\n",
       "0           843  8090521     0.0\n",
       "1           843  1106523     0.0\n",
       "2           843  5568378     0.0\n",
       "3           843  1092026     1.0\n",
       "4           843  8090537     0.0\n",
       "...         ...      ...     ...\n",
       "112409      832   859075     0.0\n",
       "112410      832  1122358     0.0\n",
       "112411      832  1137346     0.0\n",
       "112412      832  1068719     0.0\n",
       "112413      832  1096036     0.0\n",
       "\n",
       "[107650 rows x 3 columns]"
      ]
     },
     "execution_count": 40,
     "metadata": {},
     "output_type": "execute_result"
    }
   ],
   "source": [
    "df_ranker_train"
   ]
  },
  {
   "cell_type": "markdown",
   "id": "293c45df-2dff-44ef-9110-90f961db7b56",
   "metadata": {},
   "source": [
    "Доля положительного класса:"
   ]
  },
  {
   "cell_type": "code",
   "execution_count": 41,
   "id": "bb6790d4-20bd-4654-81b6-9cb3fc60086e",
   "metadata": {},
   "outputs": [
    {
     "data": {
      "text/plain": [
       "0.09765908035299582"
      ]
     },
     "execution_count": 41,
     "metadata": {},
     "output_type": "execute_result"
    }
   ],
   "source": [
    "df_ranker_train['target'].mean()"
   ]
  },
  {
   "cell_type": "markdown",
   "id": "dc332f52-ee0b-44c6-ae08-e02579996c51",
   "metadata": {},
   "source": [
    "Посмотрим на наши датасеты, чтобы сгенерировать идеи по созданию  \n",
    "новых признаков:"
   ]
  },
  {
   "cell_type": "code",
   "execution_count": 42,
   "id": "ccd9962d-796a-4a14-be61-62331898ff7f",
   "metadata": {},
   "outputs": [
    {
     "data": {
      "text/html": [
       "<div>\n",
       "<style scoped>\n",
       "    .dataframe tbody tr th:only-of-type {\n",
       "        vertical-align: middle;\n",
       "    }\n",
       "\n",
       "    .dataframe tbody tr th {\n",
       "        vertical-align: top;\n",
       "    }\n",
       "\n",
       "    .dataframe thead th {\n",
       "        text-align: right;\n",
       "    }\n",
       "</style>\n",
       "<table border=\"1\" class=\"dataframe\">\n",
       "  <thead>\n",
       "    <tr style=\"text-align: right;\">\n",
       "      <th></th>\n",
       "      <th>user_id</th>\n",
       "      <th>basket_id</th>\n",
       "      <th>day</th>\n",
       "      <th>item_id</th>\n",
       "      <th>quantity</th>\n",
       "      <th>sales_value</th>\n",
       "      <th>store_id</th>\n",
       "      <th>retail_disc</th>\n",
       "      <th>trans_time</th>\n",
       "      <th>week_no</th>\n",
       "      <th>coupon_disc</th>\n",
       "      <th>coupon_match_disc</th>\n",
       "    </tr>\n",
       "  </thead>\n",
       "  <tbody>\n",
       "    <tr>\n",
       "      <th>2211065</th>\n",
       "      <td>843</td>\n",
       "      <td>40955282722</td>\n",
       "      <td>622</td>\n",
       "      <td>845193</td>\n",
       "      <td>3</td>\n",
       "      <td>5.37</td>\n",
       "      <td>364</td>\n",
       "      <td>-1.50</td>\n",
       "      <td>19</td>\n",
       "      <td>90</td>\n",
       "      <td>0.0</td>\n",
       "      <td>0.0</td>\n",
       "    </tr>\n",
       "    <tr>\n",
       "      <th>2211066</th>\n",
       "      <td>843</td>\n",
       "      <td>40955282722</td>\n",
       "      <td>622</td>\n",
       "      <td>865891</td>\n",
       "      <td>2</td>\n",
       "      <td>2.00</td>\n",
       "      <td>364</td>\n",
       "      <td>0.00</td>\n",
       "      <td>19</td>\n",
       "      <td>90</td>\n",
       "      <td>0.0</td>\n",
       "      <td>0.0</td>\n",
       "    </tr>\n",
       "    <tr>\n",
       "      <th>2211067</th>\n",
       "      <td>843</td>\n",
       "      <td>40955282722</td>\n",
       "      <td>622</td>\n",
       "      <td>883404</td>\n",
       "      <td>2</td>\n",
       "      <td>1.76</td>\n",
       "      <td>364</td>\n",
       "      <td>-0.82</td>\n",
       "      <td>19</td>\n",
       "      <td>90</td>\n",
       "      <td>0.0</td>\n",
       "      <td>0.0</td>\n",
       "    </tr>\n",
       "  </tbody>\n",
       "</table>\n",
       "</div>"
      ],
      "text/plain": [
       "         user_id    basket_id  day  item_id  quantity  sales_value  store_id  \\\n",
       "2211065      843  40955282722  622   845193         3         5.37       364   \n",
       "2211066      843  40955282722  622   865891         2         2.00       364   \n",
       "2211067      843  40955282722  622   883404         2         1.76       364   \n",
       "\n",
       "         retail_disc  trans_time  week_no  coupon_disc  coupon_match_disc  \n",
       "2211065        -1.50          19       90          0.0                0.0  \n",
       "2211066         0.00          19       90          0.0                0.0  \n",
       "2211067        -0.82          19       90          0.0                0.0  "
      ]
     },
     "execution_count": 42,
     "metadata": {},
     "output_type": "execute_result"
    }
   ],
   "source": [
    "data_train_ranker.head(3)"
   ]
  },
  {
   "cell_type": "code",
   "execution_count": 43,
   "id": "5a7797f0-dbda-439d-a3b5-6d6c1ca48091",
   "metadata": {},
   "outputs": [
    {
     "data": {
      "text/html": [
       "<div>\n",
       "<style scoped>\n",
       "    .dataframe tbody tr th:only-of-type {\n",
       "        vertical-align: middle;\n",
       "    }\n",
       "\n",
       "    .dataframe tbody tr th {\n",
       "        vertical-align: top;\n",
       "    }\n",
       "\n",
       "    .dataframe thead th {\n",
       "        text-align: right;\n",
       "    }\n",
       "</style>\n",
       "<table border=\"1\" class=\"dataframe\">\n",
       "  <thead>\n",
       "    <tr style=\"text-align: right;\">\n",
       "      <th></th>\n",
       "      <th>item_id</th>\n",
       "      <th>manufacturer</th>\n",
       "      <th>department</th>\n",
       "      <th>brand</th>\n",
       "      <th>commodity_desc</th>\n",
       "      <th>sub_commodity_desc</th>\n",
       "      <th>curr_size_of_product</th>\n",
       "    </tr>\n",
       "  </thead>\n",
       "  <tbody>\n",
       "    <tr>\n",
       "      <th>0</th>\n",
       "      <td>25671</td>\n",
       "      <td>2</td>\n",
       "      <td>GROCERY</td>\n",
       "      <td>National</td>\n",
       "      <td>FRZN ICE</td>\n",
       "      <td>ICE - CRUSHED/CUBED</td>\n",
       "      <td>22 LB</td>\n",
       "    </tr>\n",
       "    <tr>\n",
       "      <th>1</th>\n",
       "      <td>26081</td>\n",
       "      <td>2</td>\n",
       "      <td>MISC. TRANS.</td>\n",
       "      <td>National</td>\n",
       "      <td>NO COMMODITY DESCRIPTION</td>\n",
       "      <td>NO SUBCOMMODITY DESCRIPTION</td>\n",
       "      <td></td>\n",
       "    </tr>\n",
       "    <tr>\n",
       "      <th>2</th>\n",
       "      <td>26093</td>\n",
       "      <td>69</td>\n",
       "      <td>PASTRY</td>\n",
       "      <td>Private</td>\n",
       "      <td>BREAD</td>\n",
       "      <td>BREAD:ITALIAN/FRENCH</td>\n",
       "      <td></td>\n",
       "    </tr>\n",
       "  </tbody>\n",
       "</table>\n",
       "</div>"
      ],
      "text/plain": [
       "   item_id  manufacturer    department     brand            commodity_desc  \\\n",
       "0    25671             2       GROCERY  National                  FRZN ICE   \n",
       "1    26081             2  MISC. TRANS.  National  NO COMMODITY DESCRIPTION   \n",
       "2    26093            69        PASTRY   Private                     BREAD   \n",
       "\n",
       "            sub_commodity_desc curr_size_of_product  \n",
       "0          ICE - CRUSHED/CUBED                22 LB  \n",
       "1  NO SUBCOMMODITY DESCRIPTION                       \n",
       "2         BREAD:ITALIAN/FRENCH                       "
      ]
     },
     "execution_count": 43,
     "metadata": {},
     "output_type": "execute_result"
    }
   ],
   "source": [
    "item_features.head(3)"
   ]
  },
  {
   "cell_type": "code",
   "execution_count": 44,
   "id": "9c509d64-dfd3-4ad4-9965-0af20215989b",
   "metadata": {},
   "outputs": [
    {
     "data": {
      "text/html": [
       "<div>\n",
       "<style scoped>\n",
       "    .dataframe tbody tr th:only-of-type {\n",
       "        vertical-align: middle;\n",
       "    }\n",
       "\n",
       "    .dataframe tbody tr th {\n",
       "        vertical-align: top;\n",
       "    }\n",
       "\n",
       "    .dataframe thead th {\n",
       "        text-align: right;\n",
       "    }\n",
       "</style>\n",
       "<table border=\"1\" class=\"dataframe\">\n",
       "  <thead>\n",
       "    <tr style=\"text-align: right;\">\n",
       "      <th></th>\n",
       "      <th>age_desc</th>\n",
       "      <th>marital_status_code</th>\n",
       "      <th>income_desc</th>\n",
       "      <th>homeowner_desc</th>\n",
       "      <th>hh_comp_desc</th>\n",
       "      <th>household_size_desc</th>\n",
       "      <th>kid_category_desc</th>\n",
       "      <th>user_id</th>\n",
       "    </tr>\n",
       "  </thead>\n",
       "  <tbody>\n",
       "    <tr>\n",
       "      <th>0</th>\n",
       "      <td>65+</td>\n",
       "      <td>A</td>\n",
       "      <td>35-49K</td>\n",
       "      <td>Homeowner</td>\n",
       "      <td>2 Adults No Kids</td>\n",
       "      <td>2</td>\n",
       "      <td>None/Unknown</td>\n",
       "      <td>1</td>\n",
       "    </tr>\n",
       "    <tr>\n",
       "      <th>1</th>\n",
       "      <td>45-54</td>\n",
       "      <td>A</td>\n",
       "      <td>50-74K</td>\n",
       "      <td>Homeowner</td>\n",
       "      <td>2 Adults No Kids</td>\n",
       "      <td>2</td>\n",
       "      <td>None/Unknown</td>\n",
       "      <td>7</td>\n",
       "    </tr>\n",
       "    <tr>\n",
       "      <th>2</th>\n",
       "      <td>25-34</td>\n",
       "      <td>U</td>\n",
       "      <td>25-34K</td>\n",
       "      <td>Unknown</td>\n",
       "      <td>2 Adults Kids</td>\n",
       "      <td>3</td>\n",
       "      <td>1</td>\n",
       "      <td>8</td>\n",
       "    </tr>\n",
       "  </tbody>\n",
       "</table>\n",
       "</div>"
      ],
      "text/plain": [
       "  age_desc marital_status_code income_desc homeowner_desc      hh_comp_desc  \\\n",
       "0      65+                   A      35-49K      Homeowner  2 Adults No Kids   \n",
       "1    45-54                   A      50-74K      Homeowner  2 Adults No Kids   \n",
       "2    25-34                   U      25-34K        Unknown     2 Adults Kids   \n",
       "\n",
       "  household_size_desc kid_category_desc  user_id  \n",
       "0                   2      None/Unknown        1  \n",
       "1                   2      None/Unknown        7  \n",
       "2                   3                 1        8  "
      ]
     },
     "execution_count": 44,
     "metadata": {},
     "output_type": "execute_result"
    }
   ],
   "source": [
    "user_features.head(3)"
   ]
  },
  {
   "cell_type": "markdown",
   "id": "ce4a14e8-7603-4caf-8576-e3b24cc5e43f",
   "metadata": {},
   "source": [
    "Напишем класс-обработчик для более удобной работы с кодом.  \n",
    "В нём реализуем генерацию признаков, а также заполнение пропусков.  \n",
    "Все данные будут браться из обучающего датасета и использоваться  \n",
    "на трансформируемом датасете. Таким образом, результирующие датасеты  \n",
    "будут одного размера и будут готовы к передаче их модели на обучение  \n",
    "или предсказание:"
   ]
  },
  {
   "cell_type": "code",
   "execution_count": 45,
   "id": "4dd9afa7-7e76-4436-868d-d71c4db41395",
   "metadata": {},
   "outputs": [],
   "source": [
    "class DataProcessor:\n",
    "    \n",
    "    def __init__(self):\n",
    "        self.cat_feats = None\n",
    "        self.data_train_ranker = None\n",
    "        self.item_features = None\n",
    "        self.nan_cols = None\n",
    "        self.train_data = None\n",
    "        self.user_features = None\n",
    "\n",
    "    \n",
    "    # Добавление фичей\n",
    "    def _add_features(self, df, is_fit=True):\n",
    "        \n",
    "        # Первоначальная подготовка\n",
    "        df = df[[USER_COL, ITEM_COL]].copy()\n",
    "        df = df.merge(self.item_features, on=ITEM_COL, how='left')\n",
    "        df = df.merge(self.user_features, on=USER_COL, how='left')\n",
    "        feats_count = len(df.columns)\n",
    "        \n",
    "        # Средний чек\n",
    "        df = df.merge(self.train_data.groupby(USER_COL, sort=False)['sales_value']. \\\n",
    "                                    mean().reset_index(), how='left', on=USER_COL)\n",
    "        df.rename(columns={'sales_value': 'avg_bill'}, inplace=True)\n",
    "        \n",
    "        # Средняя сумма покупки 1 товара в каждой категории\n",
    "        df = df.merge(self.train_data.groupby([USER_COL, 'department'], sort=False)['sales_value'] \\\n",
    "                                                .mean().reset_index(), how='left', on=[USER_COL, 'department']). \\\n",
    "                                                rename(columns={'sales_value': 'avg_cat_spendings'})\n",
    "        \n",
    "        # Кол-во покупок в неделю\n",
    "        df = df.merge((self.train_data.groupby(ITEM_COL, sort=False)['quantity'] \\\n",
    "                                                 .count() / self.train_data['week_no'].nunique()).reset_index(), how='left', on=ITEM_COL)\n",
    "\n",
    "        df.rename(columns={'quantity': 'avg_week_purchases'}, inplace=True)\n",
    "        \n",
    "        # Среднее кол-во покупок 1 товара в категории в неделю\n",
    "        df = df.merge((self.train_data.groupby('department', sort=False)['quantity'] \\\n",
    "                                                 .count() / self.train_data['week_no'].nunique()).reset_index(), \\\n",
    "                                                how='left', on='department').rename(columns={'quantity': 'avg_week_purchases_cat'})\n",
    "        \n",
    "        # Средняя сумма покупки 1 товара в каждой категории (берем категорию item_id)\n",
    "        df = df.merge(self.train_data.groupby('department', sort=False)['sales_value'] \\\n",
    "                                                 .mean().reset_index(), how='left', on='department') \\\n",
    "                                                 .rename(columns={'sales_value': 'avg_cat_spendings_items'})\n",
    "        \n",
    "        # Кол-во покупок юзером конкретной категории в неделю\n",
    "        df = df.merge((self.train_data.groupby([USER_COL, 'department'], sort=False)['quantity'] \\\n",
    "                                                 .count() / self.train_data['week_no'].nunique()).reset_index(), how='left', \\\n",
    "                                                on=[USER_COL, 'department']).rename(columns={'quantity': 'user_week_cat_purchase'})\n",
    "        \n",
    "        # Кол-во фактов продажи конкретного товара\n",
    "        df = df.merge(self.train_data.groupby(ITEM_COL, sort=False).agg(USER_COL).count().rename('item_popularity'), how='left', on=ITEM_COL)\n",
    "        \n",
    "        \n",
    "        # Кол-во конкретных купленных товаров конкретным юзером (golden feature)\n",
    "        # Данный признак даёт большие веса товарам, которые покупает каждый конкретный  \n",
    "        # пользователь. После его применения мы начинаем часто предлагать товары, которые  \n",
    "        # пользователь и так покупает. Не очень честный приём, который напоминает own_recommendations.\n",
    "        # Но заданная в условии планка 0.235 по precision@5 слишком высока, чтобы не прибегать к\n",
    "        # таким уловкам\n",
    "        df = df.merge(self.train_data.groupby([USER_COL, ITEM_COL], sort=False)['quantity'].sum(). \\\n",
    "                                              reset_index(), how='left', on=[USER_COL, ITEM_COL]).rename(columns={'quantity': 'total_buys'})\n",
    "        \n",
    "        # Подготовка\n",
    "        new_feats = len(df.columns) - feats_count\n",
    "        df = df.iloc[:, 2:]\n",
    "        self.cat_feats = df.columns.tolist()[:-new_feats]\n",
    "        df[self.cat_feats] = df[self.cat_feats].astype('category')\n",
    "        \n",
    "        # Заполнение пропусков модой\n",
    "        if not is_fit:\n",
    "            self.nan_cols = df.isna().sum().loc[df.isna().sum() > 0].index.tolist()\n",
    "\n",
    "        for col in self.nan_cols:\n",
    "            df[f'{col}_nan'] = 0\n",
    "            df.loc[df[col].isna(), f'{col}_nan'] = 1\n",
    "            \n",
    "            if is_fit:\n",
    "                data_source = self.data_train_ranker.copy()\n",
    "            else:\n",
    "                data_source = df.copy()\n",
    "                \n",
    "            df[col].fillna(data_source[col].value_counts().index[0], inplace=True)\n",
    "        \n",
    "        # В случае появления новых item_id будут появляться пропуски в столбцах,\n",
    "        # в которых не было пропусков на трейне. Обработаем их отдельно, чтобы не  \n",
    "        # менять количество признаков\n",
    "        additional_nans = df.isna().sum().loc[df.isna().sum() > 0].index.tolist()\n",
    "        \n",
    "        for col in additional_nans:\n",
    "            df[col].fillna(data_source[col].value_counts().index[0], inplace=True)\n",
    "        \n",
    "        return df\n",
    "        \n",
    "        \n",
    "    def fit(self, data_train_ranker, train_data, user_features, item_features):\n",
    "        self.data_train_ranker = data_train_ranker\n",
    "        self.user_features = user_features\n",
    "        self.item_features = item_features\n",
    "        self.train_data = train_data.merge(self.item_features[[ITEM_COL, 'department']], how='left', on=ITEM_COL)\n",
    "\n",
    "        # Добавим фичи на трейне, чтобы были данные для заполнения пропусков\n",
    "        # на тесте\n",
    "        self.data_train_ranker = self._add_features(self.data_train_ranker, is_fit=False)\n",
    "        \n",
    "    \n",
    "    def transform(self, X):\n",
    "        \n",
    "        X = self._add_features(X)\n",
    "\n",
    "        return X"
   ]
  },
  {
   "cell_type": "markdown",
   "id": "2d35109a-3475-4f59-b8ba-9cf1119c40c6",
   "metadata": {},
   "source": [
    "Обучим обработчик и создадим датасеты для обучения модели:"
   ]
  },
  {
   "cell_type": "code",
   "execution_count": 46,
   "id": "277e3288-79e4-4d74-bf0c-b0b90489e12e",
   "metadata": {},
   "outputs": [],
   "source": [
    "processor = DataProcessor()\n",
    "processor.fit(df_ranker_train, data_train_matcher, user_features, item_features)"
   ]
  },
  {
   "cell_type": "code",
   "execution_count": 47,
   "id": "213d6487-cf16-43d9-a324-19a211e27219",
   "metadata": {},
   "outputs": [
    {
     "data": {
      "text/plain": [
       "(107650, 31)"
      ]
     },
     "execution_count": 47,
     "metadata": {},
     "output_type": "execute_result"
    }
   ],
   "source": [
    "X_train = processor.transform(df_ranker_train)\n",
    "X_train.shape"
   ]
  },
  {
   "cell_type": "code",
   "execution_count": 48,
   "id": "f29f97fc-9aee-48e8-a426-f4cdc6b474d5",
   "metadata": {},
   "outputs": [
    {
     "data": {
      "text/plain": [
       "(107650,)"
      ]
     },
     "execution_count": 48,
     "metadata": {},
     "output_type": "execute_result"
    }
   ],
   "source": [
    "y_train = df_ranker_train['target']\n",
    "y_train.shape"
   ]
  },
  {
   "cell_type": "markdown",
   "id": "a186ad9b-0970-4abb-8184-b1015696880d",
   "metadata": {},
   "source": [
    "Обучим модель ранжирования. Гиперпараметры модели уже были  \n",
    "подобраны эмпирическим путём:"
   ]
  },
  {
   "cell_type": "code",
   "execution_count": 49,
   "id": "439a1a20-b543-4b75-ada8-e24b6c7765f9",
   "metadata": {},
   "outputs": [],
   "source": [
    "model = CatBoostRanker(iterations=200, silent=True,\n",
    "                       eta=0.15, task_type='GPU',\n",
    "                       max_depth=7,\n",
    "                       loss_function='PairLogitPairwise',\n",
    "                       random_state=29,\n",
    "                       cat_features=processor.cat_feats)"
   ]
  },
  {
   "cell_type": "code",
   "execution_count": 50,
   "id": "1d0c480b-3a47-4d16-bf3c-f7837785aa2c",
   "metadata": {},
   "outputs": [
    {
     "name": "stdout",
     "output_type": "stream",
     "text": [
      "CPU times: user 22.4 s, sys: 4.69 s, total: 27.1 s\n",
      "Wall time: 17.7 s\n"
     ]
    },
    {
     "data": {
      "text/plain": [
       "<catboost.core.CatBoostRanker at 0x7f310c38db40>"
      ]
     },
     "execution_count": 50,
     "metadata": {},
     "output_type": "execute_result"
    }
   ],
   "source": [
    "%%time\n",
    "\n",
    "model.fit(X_train, y_train, group_id=df_ranker_train[USER_COL], subgroup_id=df_ranker_train[ITEM_COL])"
   ]
  },
  {
   "cell_type": "markdown",
   "id": "299dd207-edd2-45d7-ba6d-283472e7af88",
   "metadata": {},
   "source": [
    "## Создание и ранжирование кандидатов на тестовом датасете"
   ]
  },
  {
   "cell_type": "markdown",
   "id": "71239283-f8d2-48b2-94aa-233597de4f1d",
   "metadata": {},
   "source": [
    "Повторим процедуру инициализации тестового датасета, как делали  \n",
    "на базовом решении:"
   ]
  },
  {
   "cell_type": "code",
   "execution_count": 51,
   "id": "838f5bb6-cf8e-472d-99a1-7c27954cfba5",
   "metadata": {},
   "outputs": [
    {
     "data": {
      "text/html": [
       "<div>\n",
       "<style scoped>\n",
       "    .dataframe tbody tr th:only-of-type {\n",
       "        vertical-align: middle;\n",
       "    }\n",
       "\n",
       "    .dataframe tbody tr th {\n",
       "        vertical-align: top;\n",
       "    }\n",
       "\n",
       "    .dataframe thead th {\n",
       "        text-align: right;\n",
       "    }\n",
       "</style>\n",
       "<table border=\"1\" class=\"dataframe\">\n",
       "  <thead>\n",
       "    <tr style=\"text-align: right;\">\n",
       "      <th></th>\n",
       "      <th>user_id</th>\n",
       "      <th>actual</th>\n",
       "    </tr>\n",
       "  </thead>\n",
       "  <tbody>\n",
       "    <tr>\n",
       "      <th>0</th>\n",
       "      <td>1340</td>\n",
       "      <td>[912987, 819255, 834117, 866227, 889362, 89608...</td>\n",
       "    </tr>\n",
       "    <tr>\n",
       "      <th>1</th>\n",
       "      <td>588</td>\n",
       "      <td>[1024426, 6534178, 9673270, 826842, 833025, 85...</td>\n",
       "    </tr>\n",
       "  </tbody>\n",
       "</table>\n",
       "</div>"
      ],
      "text/plain": [
       "   user_id                                             actual\n",
       "0     1340  [912987, 819255, 834117, 866227, 889362, 89608...\n",
       "1      588  [1024426, 6534178, 9673270, 826842, 833025, 85..."
      ]
     },
     "execution_count": 51,
     "metadata": {},
     "output_type": "execute_result"
    }
   ],
   "source": [
    "result_test = data_test.groupby(USER_COL, sort=False)[ITEM_COL].unique().reset_index()\n",
    "result_test.columns=[USER_COL, ACTUAL_COL]\n",
    "result_test.head(2)"
   ]
  },
  {
   "cell_type": "code",
   "execution_count": 52,
   "id": "35fb5213-fa0b-49f5-97c6-29bd254adebc",
   "metadata": {},
   "outputs": [],
   "source": [
    "result_test = result_test.loc[result_test[USER_COL].isin(data_train_matcher[USER_COL].unique())]"
   ]
  },
  {
   "cell_type": "markdown",
   "id": "76032a0a-cf59-408e-8e77-61714efbbb14",
   "metadata": {},
   "source": [
    "Создадим кандидатов для тестового датасета:"
   ]
  },
  {
   "cell_type": "code",
   "execution_count": 53,
   "id": "5b8e71e1-9bff-450a-b39a-ff23aa817c7d",
   "metadata": {},
   "outputs": [],
   "source": [
    "make_recommendations(result_test, ('als_recs', recommender.get_als_recommendations), N=N_CANDIDATES)"
   ]
  },
  {
   "cell_type": "markdown",
   "id": "9abb4f72-d1d5-48b1-bf2e-c0c148848df3",
   "metadata": {},
   "source": [
    "Посмотрим на метрику, чтобы было с чем сравнить результат работы  \n",
    "модели ранжирования:"
   ]
  },
  {
   "cell_type": "code",
   "execution_count": 54,
   "id": "da7f43e5-1cf2-4a42-b9d4-129cced01583",
   "metadata": {},
   "outputs": [
    {
     "data": {
      "text/plain": [
       "[('als_recs', 0.1302547770700637)]"
      ]
     },
     "execution_count": 54,
     "metadata": {},
     "output_type": "execute_result"
    }
   ],
   "source": [
    "sorted(calc_precision(result_test, N_RANGED), key=lambda x: x[1], reverse=True)"
   ]
  },
  {
   "cell_type": "markdown",
   "id": "50cfc3ad-78c8-4f9e-af15-78d3e0b5f226",
   "metadata": {},
   "source": [
    "Выделим отдельно датасет с кандидатами и развернём его, как делали  \n",
    "ранее с трейном:"
   ]
  },
  {
   "cell_type": "code",
   "execution_count": 55,
   "id": "1ff0d1b1-6ed7-4f08-bca5-21c2dbbc5069",
   "metadata": {},
   "outputs": [],
   "source": [
    "df_test_candidates = result_test.rename(columns={'als_recs': 'candidates'}).drop(ACTUAL_COL, axis=1)"
   ]
  },
  {
   "cell_type": "code",
   "execution_count": 56,
   "id": "c0f023f0-2427-4ab2-ae86-2bac01f91833",
   "metadata": {},
   "outputs": [
    {
     "data": {
      "text/html": [
       "<div>\n",
       "<style scoped>\n",
       "    .dataframe tbody tr th:only-of-type {\n",
       "        vertical-align: middle;\n",
       "    }\n",
       "\n",
       "    .dataframe tbody tr th {\n",
       "        vertical-align: top;\n",
       "    }\n",
       "\n",
       "    .dataframe thead th {\n",
       "        text-align: right;\n",
       "    }\n",
       "</style>\n",
       "<table border=\"1\" class=\"dataframe\">\n",
       "  <thead>\n",
       "    <tr style=\"text-align: right;\">\n",
       "      <th></th>\n",
       "      <th>user_id</th>\n",
       "      <th>candidates</th>\n",
       "    </tr>\n",
       "  </thead>\n",
       "  <tbody>\n",
       "    <tr>\n",
       "      <th>0</th>\n",
       "      <td>1340</td>\n",
       "      <td>[981760, 1106523, 1133018, 995242, 923746, 109...</td>\n",
       "    </tr>\n",
       "    <tr>\n",
       "      <th>1</th>\n",
       "      <td>588</td>\n",
       "      <td>[995242, 1029743, 908531, 859075, 833025, 9615...</td>\n",
       "    </tr>\n",
       "    <tr>\n",
       "      <th>2</th>\n",
       "      <td>2070</td>\n",
       "      <td>[1029743, 981760, 923746, 1068719, 995242, 859...</td>\n",
       "    </tr>\n",
       "  </tbody>\n",
       "</table>\n",
       "</div>"
      ],
      "text/plain": [
       "   user_id                                         candidates\n",
       "0     1340  [981760, 1106523, 1133018, 995242, 923746, 109...\n",
       "1      588  [995242, 1029743, 908531, 859075, 833025, 9615...\n",
       "2     2070  [1029743, 981760, 923746, 1068719, 995242, 859..."
      ]
     },
     "execution_count": 56,
     "metadata": {},
     "output_type": "execute_result"
    }
   ],
   "source": [
    "df_test_candidates.head(3)"
   ]
  },
  {
   "cell_type": "code",
   "execution_count": 57,
   "id": "15bdf95d-ab90-4663-9c0b-7bd61988153c",
   "metadata": {},
   "outputs": [],
   "source": [
    "df_items_test = df_test_candidates.apply(lambda x: pd.Series(x['candidates']), axis=1).stack().reset_index(level=1, drop=True)\n",
    "df_items_test.name = ITEM_COL"
   ]
  },
  {
   "cell_type": "code",
   "execution_count": 58,
   "id": "73daf2b2-ea39-478d-bfbc-77173343dbae",
   "metadata": {},
   "outputs": [],
   "source": [
    "df_test_candidates = df_test_candidates.drop('candidates', axis=1).join(df_items_test)"
   ]
  },
  {
   "cell_type": "code",
   "execution_count": 59,
   "id": "016e98f5-8c41-464d-ab27-8127788a58d4",
   "metadata": {},
   "outputs": [
    {
     "data": {
      "text/html": [
       "<div>\n",
       "<style scoped>\n",
       "    .dataframe tbody tr th:only-of-type {\n",
       "        vertical-align: middle;\n",
       "    }\n",
       "\n",
       "    .dataframe tbody tr th {\n",
       "        vertical-align: top;\n",
       "    }\n",
       "\n",
       "    .dataframe thead th {\n",
       "        text-align: right;\n",
       "    }\n",
       "</style>\n",
       "<table border=\"1\" class=\"dataframe\">\n",
       "  <thead>\n",
       "    <tr style=\"text-align: right;\">\n",
       "      <th></th>\n",
       "      <th>user_id</th>\n",
       "      <th>item_id</th>\n",
       "    </tr>\n",
       "  </thead>\n",
       "  <tbody>\n",
       "    <tr>\n",
       "      <th>0</th>\n",
       "      <td>1340</td>\n",
       "      <td>981760</td>\n",
       "    </tr>\n",
       "    <tr>\n",
       "      <th>0</th>\n",
       "      <td>1340</td>\n",
       "      <td>1106523</td>\n",
       "    </tr>\n",
       "    <tr>\n",
       "      <th>0</th>\n",
       "      <td>1340</td>\n",
       "      <td>1133018</td>\n",
       "    </tr>\n",
       "    <tr>\n",
       "      <th>0</th>\n",
       "      <td>1340</td>\n",
       "      <td>995242</td>\n",
       "    </tr>\n",
       "    <tr>\n",
       "      <th>0</th>\n",
       "      <td>1340</td>\n",
       "      <td>923746</td>\n",
       "    </tr>\n",
       "  </tbody>\n",
       "</table>\n",
       "</div>"
      ],
      "text/plain": [
       "   user_id  item_id\n",
       "0     1340   981760\n",
       "0     1340  1106523\n",
       "0     1340  1133018\n",
       "0     1340   995242\n",
       "0     1340   923746"
      ]
     },
     "execution_count": 59,
     "metadata": {},
     "output_type": "execute_result"
    }
   ],
   "source": [
    "df_test_candidates.head()"
   ]
  },
  {
   "cell_type": "markdown",
   "id": "67a41766-1080-4851-899c-f841bdf7481f",
   "metadata": {},
   "source": [
    "Подготовим датасет из кандидатов для предсказания:"
   ]
  },
  {
   "cell_type": "code",
   "execution_count": 60,
   "id": "255efa68-052e-4ae1-9099-b457ebd89934",
   "metadata": {},
   "outputs": [],
   "source": [
    "X_test = processor.transform(df_test_candidates)"
   ]
  },
  {
   "cell_type": "code",
   "execution_count": 61,
   "id": "3dbf220d-4376-419b-8d38-f80dd051139b",
   "metadata": {},
   "outputs": [
    {
     "data": {
      "text/plain": [
       "(94200, 31)"
      ]
     },
     "execution_count": 61,
     "metadata": {},
     "output_type": "execute_result"
    }
   ],
   "source": [
    "X_test.shape"
   ]
  },
  {
   "cell_type": "markdown",
   "id": "701282cd-35bd-48d2-ace7-17d6116d1296",
   "metadata": {},
   "source": [
    "Сделаем предсказание:"
   ]
  },
  {
   "cell_type": "code",
   "execution_count": 62,
   "id": "50858f5a-80f6-447c-8aa5-d726618c8675",
   "metadata": {},
   "outputs": [],
   "source": [
    "test_preds = model.predict(X_test)"
   ]
  },
  {
   "cell_type": "code",
   "execution_count": 63,
   "id": "adaaa03e-2b90-4d78-b2a7-a948690d766b",
   "metadata": {},
   "outputs": [],
   "source": [
    "df_test_candidates['score_item_purchase'] = test_preds"
   ]
  },
  {
   "cell_type": "code",
   "execution_count": 64,
   "id": "33f2fe2a-cc7a-4ec8-8959-e3cb5c4be16f",
   "metadata": {},
   "outputs": [
    {
     "data": {
      "text/html": [
       "<div>\n",
       "<style scoped>\n",
       "    .dataframe tbody tr th:only-of-type {\n",
       "        vertical-align: middle;\n",
       "    }\n",
       "\n",
       "    .dataframe tbody tr th {\n",
       "        vertical-align: top;\n",
       "    }\n",
       "\n",
       "    .dataframe thead th {\n",
       "        text-align: right;\n",
       "    }\n",
       "</style>\n",
       "<table border=\"1\" class=\"dataframe\">\n",
       "  <thead>\n",
       "    <tr style=\"text-align: right;\">\n",
       "      <th></th>\n",
       "      <th>user_id</th>\n",
       "      <th>item_id</th>\n",
       "      <th>score_item_purchase</th>\n",
       "    </tr>\n",
       "  </thead>\n",
       "  <tbody>\n",
       "    <tr>\n",
       "      <th>0</th>\n",
       "      <td>1340</td>\n",
       "      <td>981760</td>\n",
       "      <td>-0.030067</td>\n",
       "    </tr>\n",
       "    <tr>\n",
       "      <th>0</th>\n",
       "      <td>1340</td>\n",
       "      <td>1106523</td>\n",
       "      <td>-0.303180</td>\n",
       "    </tr>\n",
       "    <tr>\n",
       "      <th>0</th>\n",
       "      <td>1340</td>\n",
       "      <td>1133018</td>\n",
       "      <td>-0.331499</td>\n",
       "    </tr>\n",
       "  </tbody>\n",
       "</table>\n",
       "</div>"
      ],
      "text/plain": [
       "   user_id  item_id  score_item_purchase\n",
       "0     1340   981760            -0.030067\n",
       "0     1340  1106523            -0.303180\n",
       "0     1340  1133018            -0.331499"
      ]
     },
     "execution_count": 64,
     "metadata": {},
     "output_type": "execute_result"
    }
   ],
   "source": [
    "df_test_candidates.head(3)"
   ]
  },
  {
   "cell_type": "markdown",
   "id": "ff107f08-034a-41e1-a91d-b0b792caacad",
   "metadata": {},
   "source": [
    "Напишем функцию для ранжирования кандидатов по баллу:"
   ]
  },
  {
   "cell_type": "code",
   "execution_count": 65,
   "id": "8351a2d2-a7a4-4510-9843-c880ff2c2a2d",
   "metadata": {},
   "outputs": [],
   "source": [
    "def rerank(user_id):\n",
    "    return df_test_candidates.loc[df_test_candidates[USER_COL]==user_id].sort_values('score_item_purchase', ascending=False). \\\n",
    "                                                                                                    head(N_RANGED).item_id.tolist()"
   ]
  },
  {
   "cell_type": "markdown",
   "id": "e92b6de3-af55-4c8e-afec-472cb642b0ef",
   "metadata": {},
   "source": [
    "Сделаем ранжирование:"
   ]
  },
  {
   "cell_type": "code",
   "execution_count": 66,
   "id": "89ea48d7-d01b-4940-9046-1a684d6dd6c1",
   "metadata": {},
   "outputs": [],
   "source": [
    "result_test['reranked_als_recs'] = result_test[USER_COL].apply(lambda user_id: rerank(user_id))"
   ]
  },
  {
   "cell_type": "markdown",
   "id": "419aa01b-7a24-4cee-8435-f64d291ec3ce",
   "metadata": {},
   "source": [
    "Оценим метрику:"
   ]
  },
  {
   "cell_type": "code",
   "execution_count": 67,
   "id": "4e261155-98d9-4446-8795-206e95519961",
   "metadata": {
    "scrolled": true
   },
   "outputs": [
    {
     "name": "stdout",
     "output_type": "stream",
     "text": [
      "('reranked_als_recs', 0.2642250530785563)\n",
      "('als_recs', 0.1302547770700637)\n"
     ]
    }
   ],
   "source": [
    "print(*sorted(calc_precision(result_test, N_RANGED), key=lambda x: x[1], reverse=True), sep='\\n')"
   ]
  },
  {
   "cell_type": "code",
   "execution_count": 68,
   "id": "b5ecdeeb-c731-4c46-a102-4bc520270c24",
   "metadata": {},
   "outputs": [
    {
     "data": {
      "text/html": [
       "<div>\n",
       "<style scoped>\n",
       "    .dataframe tbody tr th:only-of-type {\n",
       "        vertical-align: middle;\n",
       "    }\n",
       "\n",
       "    .dataframe tbody tr th {\n",
       "        vertical-align: top;\n",
       "    }\n",
       "\n",
       "    .dataframe thead th {\n",
       "        text-align: right;\n",
       "    }\n",
       "</style>\n",
       "<table border=\"1\" class=\"dataframe\">\n",
       "  <thead>\n",
       "    <tr style=\"text-align: right;\">\n",
       "      <th></th>\n",
       "      <th>user_id</th>\n",
       "      <th>actual</th>\n",
       "      <th>als_recs</th>\n",
       "      <th>reranked_als_recs</th>\n",
       "    </tr>\n",
       "  </thead>\n",
       "  <tbody>\n",
       "    <tr>\n",
       "      <th>0</th>\n",
       "      <td>1340</td>\n",
       "      <td>[912987, 819255, 834117, 866227, 889362, 89608...</td>\n",
       "      <td>[981760, 1106523, 1133018, 995242, 923746, 109...</td>\n",
       "      <td>[995242, 916122, 1029743, 981760, 1026118]</td>\n",
       "    </tr>\n",
       "    <tr>\n",
       "      <th>1</th>\n",
       "      <td>588</td>\n",
       "      <td>[1024426, 6534178, 9673270, 826842, 833025, 85...</td>\n",
       "      <td>[995242, 1029743, 908531, 859075, 833025, 9615...</td>\n",
       "      <td>[1106523, 914190, 1133018, 1053690, 859075]</td>\n",
       "    </tr>\n",
       "    <tr>\n",
       "      <th>2</th>\n",
       "      <td>2070</td>\n",
       "      <td>[995242, 1055863, 12781914, 866227, 936508, 89...</td>\n",
       "      <td>[1029743, 981760, 923746, 1068719, 995242, 859...</td>\n",
       "      <td>[995242, 908531, 1029743, 5569471, 923746]</td>\n",
       "    </tr>\n",
       "  </tbody>\n",
       "</table>\n",
       "</div>"
      ],
      "text/plain": [
       "   user_id                                             actual  \\\n",
       "0     1340  [912987, 819255, 834117, 866227, 889362, 89608...   \n",
       "1      588  [1024426, 6534178, 9673270, 826842, 833025, 85...   \n",
       "2     2070  [995242, 1055863, 12781914, 866227, 936508, 89...   \n",
       "\n",
       "                                            als_recs  \\\n",
       "0  [981760, 1106523, 1133018, 995242, 923746, 109...   \n",
       "1  [995242, 1029743, 908531, 859075, 833025, 9615...   \n",
       "2  [1029743, 981760, 923746, 1068719, 995242, 859...   \n",
       "\n",
       "                             reranked_als_recs  \n",
       "0   [995242, 916122, 1029743, 981760, 1026118]  \n",
       "1  [1106523, 914190, 1133018, 1053690, 859075]  \n",
       "2   [995242, 908531, 1029743, 5569471, 923746]  "
      ]
     },
     "execution_count": 68,
     "metadata": {},
     "output_type": "execute_result"
    }
   ],
   "source": [
    "result_test.head(3)"
   ]
  },
  {
   "cell_type": "markdown",
   "id": "5f3ac359-53b2-4eed-ba81-ac3bf1a16b7e",
   "metadata": {},
   "source": [
    "Сравним с базовым решением:"
   ]
  },
  {
   "cell_type": "code",
   "execution_count": 69,
   "id": "46f5fe23-e9d7-44d8-a653-2c52ae6e79c7",
   "metadata": {},
   "outputs": [
    {
     "data": {
      "text/plain": [
       "0.12611464968152866"
      ]
     },
     "execution_count": 69,
     "metadata": {},
     "output_type": "execute_result"
    }
   ],
   "source": [
    "baseline_metric"
   ]
  },
  {
   "cell_type": "code",
   "execution_count": 70,
   "id": "20479d03-6b0a-4272-aa83-f3c774a5b550",
   "metadata": {},
   "outputs": [
    {
     "data": {
      "text/plain": [
       "0.2642250530785563"
      ]
     },
     "execution_count": 70,
     "metadata": {},
     "output_type": "execute_result"
    }
   ],
   "source": [
    "final_metric = sorted(calc_precision(result_test, N_RANGED), key=lambda x: x[1], reverse=True)[0][1]\n",
    "final_metric"
   ]
  },
  {
   "cell_type": "markdown",
   "id": "0c274d37-49bf-43d8-a07e-3c0185a4264d",
   "metadata": {},
   "source": [
    "<ins>Итог:</ins>  \n",
    "В рамках курсового проекта сделали базовое решение, потом на первом этапе  \n",
    "выбрали способ/модель генерирования кандидатов. На втором этапе обучили  \n",
    "модель ранжирования. Затем подобрали кандидатов для тестового датасета,  \n",
    "используя модель, выбранную на первом этапе (ALS), и произвели их ранжирование  \n",
    "с помощью модели, обученной на втором этапе (CatBoost). Получили целевую метрику  \n",
    "precision@5, превышающую указанное в условии задачи значение 0.235."
   ]
  }
 ],
 "metadata": {
  "kernelspec": {
   "display_name": "Python 3 (ipykernel)",
   "language": "python",
   "name": "python3"
  },
  "language_info": {
   "codemirror_mode": {
    "name": "ipython",
    "version": 3
   },
   "file_extension": ".py",
   "mimetype": "text/x-python",
   "name": "python",
   "nbconvert_exporter": "python",
   "pygments_lexer": "ipython3",
   "version": "3.10.4"
  }
 },
 "nbformat": 4,
 "nbformat_minor": 5
}
